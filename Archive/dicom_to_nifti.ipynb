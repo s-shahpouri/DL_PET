{
 "cells": [
  {
   "cell_type": "code",
   "execution_count": 8,
   "metadata": {},
   "outputs": [],
   "source": [
    "import os\n",
    "import dicom2nifti\n",
    "\n",
    "def dicom_to_nifti(dicom_folder, output_folder):\n",
    "    print(f\"Converting DICOM files from {dicom_folder} to NIfTI files in {output_folder}\")\n",
    "    # Convert DICOM to NIfTI\n",
    "    dicom2nifti.convert_directory(dicom_folder, output_folder, compression=True, reorient=True)\n",
    "    print(\"Conversion complete.\")"
   ]
  },
  {
   "cell_type": "code",
   "execution_count": 15,
   "metadata": {},
   "outputs": [
    {
     "name": "stdout",
     "output_type": "stream",
     "text": [
      "Converting DICOM files from C:/Users/zshah/Downloads/pet/NAC_nifti/MAC to NIfTI files in C:/Users/zshah/Downloads/pet/NAC_nifti\n",
      "Conversion complete.\n",
      "Converting DICOM files from C:/Users/zshah/Downloads/pet/NAC_nifti/NAC to NIfTI files in C:/Users/zshah/Downloads/pet/NAC_nifti\n",
      "Conversion complete.\n",
      "Converting DICOM files from C:/Users/zshah/Downloads/pet/P001/MAC to NIfTI files in C:/Users/zshah/Downloads/pet/P001\n",
      "Conversion complete.\n",
      "Converting DICOM files from C:/Users/zshah/Downloads/pet/P001/NAC to NIfTI files in C:/Users/zshah/Downloads/pet/P001\n",
      "Conversion complete.\n",
      "Converting DICOM files from C:/Users/zshah/Downloads/pet/P002/MAC to NIfTI files in C:/Users/zshah/Downloads/pet/P002\n",
      "Conversion complete.\n",
      "Converting DICOM files from C:/Users/zshah/Downloads/pet/P002/NAC to NIfTI files in C:/Users/zshah/Downloads/pet/P002\n",
      "Conversion complete.\n",
      "Converting DICOM files from C:/Users/zshah/Downloads/pet/P003/MAC to NIfTI files in C:/Users/zshah/Downloads/pet/P003\n",
      "Conversion complete.\n",
      "Converting DICOM files from C:/Users/zshah/Downloads/pet/P003/NAC to NIfTI files in C:/Users/zshah/Downloads/pet/P003\n",
      "Conversion complete.\n",
      "Converting DICOM files from C:/Users/zshah/Downloads/pet/P004/MAC to NIfTI files in C:/Users/zshah/Downloads/pet/P004\n",
      "Conversion complete.\n",
      "Converting DICOM files from C:/Users/zshah/Downloads/pet/P004/NAC to NIfTI files in C:/Users/zshah/Downloads/pet/P004\n",
      "Conversion complete.\n",
      "Converting DICOM files from C:/Users/zshah/Downloads/pet/P005/MAC to NIfTI files in C:/Users/zshah/Downloads/pet/P005\n",
      "Conversion complete.\n",
      "Converting DICOM files from C:/Users/zshah/Downloads/pet/P005/NAC to NIfTI files in C:/Users/zshah/Downloads/pet/P005\n",
      "Conversion complete.\n",
      "Converting DICOM files from C:/Users/zshah/Downloads/pet/P006/MAC to NIfTI files in C:/Users/zshah/Downloads/pet/P006\n",
      "Conversion complete.\n",
      "Converting DICOM files from C:/Users/zshah/Downloads/pet/P006/NAC to NIfTI files in C:/Users/zshah/Downloads/pet/P006\n",
      "Conversion complete.\n",
      "Converting DICOM files from C:/Users/zshah/Downloads/pet/P007/MAC to NIfTI files in C:/Users/zshah/Downloads/pet/P007\n",
      "Conversion complete.\n",
      "Converting DICOM files from C:/Users/zshah/Downloads/pet/P007/NAC to NIfTI files in C:/Users/zshah/Downloads/pet/P007\n",
      "Conversion complete.\n",
      "Converting DICOM files from C:/Users/zshah/Downloads/pet/P008/MAC to NIfTI files in C:/Users/zshah/Downloads/pet/P008\n",
      "Conversion complete.\n",
      "Converting DICOM files from C:/Users/zshah/Downloads/pet/P008/NAC to NIfTI files in C:/Users/zshah/Downloads/pet/P008\n",
      "Conversion complete.\n",
      "Converting DICOM files from C:/Users/zshah/Downloads/pet/P009/MAC to NIfTI files in C:/Users/zshah/Downloads/pet/P009\n",
      "Conversion complete.\n",
      "Converting DICOM files from C:/Users/zshah/Downloads/pet/P009/NAC to NIfTI files in C:/Users/zshah/Downloads/pet/P009\n",
      "Conversion complete.\n",
      "Converting DICOM files from C:/Users/zshah/Downloads/pet/P010/MAC to NIfTI files in C:/Users/zshah/Downloads/pet/P010\n",
      "Conversion complete.\n",
      "Converting DICOM files from C:/Users/zshah/Downloads/pet/P010/NAC to NIfTI files in C:/Users/zshah/Downloads/pet/P010\n",
      "Conversion complete.\n"
     ]
    }
   ],
   "source": [
    "root_dir = r\"C:/Users/zshah/Downloads/pet\"\n",
    "patient_folders = [folder for folder in os.listdir(root_dir) if os.path.isdir(os.path.join(root_dir, folder))]\n",
    "\n",
    "for patient_folder in patient_folders:\n",
    "    dicom_folder = root_dir + \"/\" + patient_folder + \"/MAC\"\n",
    "    output_folder = root_dir + \"/\" + patient_folder\n",
    "    dicom_to_nifti(dicom_folder, output_folder)\n",
    "\n",
    "    dicom_folder = root_dir + \"/\" + patient_folder + \"/NAC\"\n",
    "    output_folder = root_dir + \"/\" + patient_folder\n",
    "    dicom_to_nifti(dicom_folder, output_folder)\n",
    "\n"
   ]
  },
  {
   "cell_type": "code",
   "execution_count": 18,
   "metadata": {},
   "outputs": [
    {
     "name": "stdout",
     "output_type": "stream",
     "text": [
      "Moved and renamed: C:/Users/zshah/Downloads/pet\\MAC_nifti\\P001.nii.gz\n",
      "Moved and renamed: C:/Users/zshah/Downloads/pet\\NAC_nifti\\P002.nii.gz\n",
      "Moved and renamed: C:/Users/zshah/Downloads/pet\\MAC_nifti\\P002.nii.gz\n",
      "Moved and renamed: C:/Users/zshah/Downloads/pet\\NAC_nifti\\P003.nii.gz\n",
      "Moved and renamed: C:/Users/zshah/Downloads/pet\\MAC_nifti\\P003.nii.gz\n",
      "Moved and renamed: C:/Users/zshah/Downloads/pet\\NAC_nifti\\P004.nii.gz\n",
      "Moved and renamed: C:/Users/zshah/Downloads/pet\\MAC_nifti\\P004.nii.gz\n",
      "Moved and renamed: C:/Users/zshah/Downloads/pet\\NAC_nifti\\P005.nii.gz\n",
      "Moved and renamed: C:/Users/zshah/Downloads/pet\\MAC_nifti\\P005.nii.gz\n",
      "Moved and renamed: C:/Users/zshah/Downloads/pet\\NAC_nifti\\P006.nii.gz\n",
      "Moved and renamed: C:/Users/zshah/Downloads/pet\\MAC_nifti\\P006.nii.gz\n",
      "Moved and renamed: C:/Users/zshah/Downloads/pet\\NAC_nifti\\P007.nii.gz\n",
      "Moved and renamed: C:/Users/zshah/Downloads/pet\\MAC_nifti\\P007.nii.gz\n",
      "Moved and renamed: C:/Users/zshah/Downloads/pet\\NAC_nifti\\P008.nii.gz\n",
      "Moved and renamed: C:/Users/zshah/Downloads/pet\\MAC_nifti\\P008.nii.gz\n",
      "Moved and renamed: C:/Users/zshah/Downloads/pet\\NAC_nifti\\P009.nii.gz\n",
      "Moved and renamed: C:/Users/zshah/Downloads/pet\\MAC_nifti\\P009.nii.gz\n",
      "Moved and renamed: C:/Users/zshah/Downloads/pet\\NAC_nifti\\P010.nii.gz\n",
      "Moved and renamed: C:/Users/zshah/Downloads/pet\\MAC_nifti\\P010.nii.gz\n"
     ]
    }
   ],
   "source": [
    "import shutil\n",
    "nac_folder = os.path.join(root_dir, \"NAC_nifti\")\n",
    "mac_folder = os.path.join(root_dir, \"MAC_nifti\")\n",
    "\n",
    "# Create NAC folder if it doesn't exist\n",
    "os.makedirs(nac_folder, exist_ok=True)\n",
    "os.makedirs(mac_folder, exist_ok=True)\n",
    "\n",
    "# Iterate through patient folders\n",
    "for patient_folder in os.listdir(root_dir):\n",
    "    patient_folder_path = os.path.join(root_dir, patient_folder)\n",
    "\n",
    "    # Check if it's a directory\n",
    "    if os.path.isdir(patient_folder_path):\n",
    "        # Locate the \"5_pet_wb_uncorrected.nii\" file\n",
    "        file_path1 = os.path.join(patient_folder_path, \"5_pet_wb_uncorrected.nii.gz\")\n",
    "        file_path2 = os.path.join(patient_folder_path, \"4_pet_wb_hd.nii.gz\")\n",
    "\n",
    "        # Check if the file exists\n",
    "        if os.path.isfile(file_path1):\n",
    "            # Generate the new file name based on the patient folder name\n",
    "            new_file_name = f\"{patient_folder}.nii.gz\"\n",
    "\n",
    "            # Move and rename the file to the NAC folder\n",
    "            new_file_path = os.path.join(nac_folder, new_file_name)\n",
    "            shutil.copy(file_path1, new_file_path)\n",
    "\n",
    "            print(f\"Moved and renamed: {new_file_path}\")\n",
    "\n",
    "        if os.path.isfile(file_path2):\n",
    "            # Generate the new file name based on the patient folder name\n",
    "            new_file_name = f\"{patient_folder}.nii.gz\"\n",
    "\n",
    "            # Move and rename the file to the NAC folder\n",
    "            new_file_path = os.path.join(mac_folder, new_file_name)\n",
    "            shutil.copy(file_path2, new_file_path)\n",
    "\n",
    "            print(f\"Moved and renamed: {new_file_path}\")"
   ]
  }
 ],
 "metadata": {
  "kernelspec": {
   "display_name": "Python 3",
   "language": "python",
   "name": "python3"
  },
  "language_info": {
   "codemirror_mode": {
    "name": "ipython",
    "version": 3
   },
   "file_extension": ".py",
   "mimetype": "text/x-python",
   "name": "python",
   "nbconvert_exporter": "python",
   "pygments_lexer": "ipython3",
   "version": "3.11.7"
  }
 },
 "nbformat": 4,
 "nbformat_minor": 2
}
