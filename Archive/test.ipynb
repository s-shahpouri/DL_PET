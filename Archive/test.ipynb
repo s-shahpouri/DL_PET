{
 "cells": [
  {
   "cell_type": "code",
   "execution_count": 1,
   "metadata": {},
   "outputs": [],
   "source": [
    "\n",
    "import json\n",
    "from data_preparation import DataHandling \n",
    "\n"
   ]
  },
  {
   "cell_type": "code",
   "execution_count": 2,
   "metadata": {},
   "outputs": [],
   "source": [
    "\n",
    "config_file = 'config.json'\n",
    "\n",
    "with open(config_file, 'r') as f:\n",
    "    config = json.load(f)\n",
    "ga_data_dir = config[\"ga_data_dir\"]\n",
    "fdg_data_dir = config[\"fdg_data_dir\"]\n",
    "log_dir = config[\"log_dir\"]\n",
    "output_dir = config[\"output_dir\"]\n"
   ]
  },
  {
   "cell_type": "code",
   "execution_count": 3,
   "metadata": {},
   "outputs": [
    {
     "name": "stderr",
     "output_type": "stream",
     "text": [
      "Loading dataset: 100%|██████████| 131/131 [01:10<00:00,  1.85it/s]\n"
     ]
    }
   ],
   "source": [
    "\n",
    "data_handler = DataHandling(ga_data_dir, train_mode=\"NAC\", target_mode=\"ADCM\")\n",
    "\n",
    "train_files = data_handler.get_data_split('train')\n",
    "val_files = data_handler.get_data_split('val')\n",
    "test_files = data_handler.get_data_split('test')\n",
    "test_files\n",
    "\n",
    "from data_preparation import LoaderFactory\n",
    "loader_factory = LoaderFactory(\n",
    "    train_files=train_files,\n",
    "    val_files=val_files,\n",
    "    test_files=test_files,\n",
    "    patch_size = [168, 168, 16],\n",
    "    spacing = [4.07, 4.07, 3.00],\n",
    "    spatial_size = (168, 168, 320),\n",
    "    normalize=True\n",
    "    )\n",
    "\n",
    "# Get the DataLoader for each dataset type\n",
    "train_loader = loader_factory.get_loader('train', batch_size=4, num_workers=2, shuffle=True)\n",
    "val_loader = loader_factory.get_loader('val', batch_size=1, num_workers=2, shuffle=False)\n",
    "test_loader = loader_factory.get_loader('test', batch_size=1, num_workers=2, shuffle=False)\n",
    "\n"
   ]
  },
  {
   "cell_type": "code",
   "execution_count": 4,
   "metadata": {},
   "outputs": [],
   "source": [
    "from model_training import TrainingLogger, DecayLR\n",
    "\n",
    "\n",
    "starting_epoch = 0\n",
    "decay_epoch = 4\n",
    "learning_rate = 0.001\n",
    "\n",
    "\n"
   ]
  },
  {
   "cell_type": "code",
   "execution_count": 5,
   "metadata": {},
   "outputs": [
    {
     "name": "stdout",
     "output_type": "stream",
     "text": [
      "DyUnet is set:\n",
      "Kernel size:  [[3, 3, 3], [3, 3, 3], [3, 3, 3], [3, 3, 3]]\n",
      "Strides:  [[1, 1, 1], [2, 2, 2], [2, 2, 2], [2, 2, 1]]\n",
      "Defining optimizer...\n",
      "Defining scheduler...\n"
     ]
    }
   ],
   "source": [
    "\n",
    "import os\n",
    "import torch\n",
    "from model_maker import get_network\n",
    "\n",
    "device = torch.device(\"cuda:0\" if torch.cuda.is_available() else \"cpu\")\n",
    "\n",
    "model = get_network(patch_size = [168, 168, 16], spacing = [4.07, 4.07, 3.00])\n",
    "# model.load_state_dict(torch.load('/students/2023-2024/master/Shahpouri/LOG/model_3_18_22_10.pth'))\n",
    "\n",
    "model = model.to(device)\n",
    "\n",
    "\n",
    "loss_function = torch.nn.MSELoss()\n",
    "\n",
    "print('Defining optimizer...')\n",
    "optimizer = torch.optim.Adam(model.parameters(), lr=learning_rate, betas=(0.5, 0.999))\n",
    "\n",
    "max_epochs = 20\n",
    "best_metric = float('inf')\n",
    "best_metric_epoch = -1\n",
    "epoch_loss_values = []\n",
    "metric_values = []\n",
    "train_losses = []\n",
    "val_losses = []\n",
    "\n",
    "# Define scheduler\n",
    "print('Defining scheduler...')\n",
    "lr_lambda = DecayLR(epochs=max_epochs, offset=0, decay_epochs=decay_epoch).step\n",
    "scheduler = torch.optim.lr_scheduler.LambdaLR(optimizer, lr_lambda=lr_lambda)\n",
    "\n",
    "\n"
   ]
  },
  {
   "cell_type": "code",
   "execution_count": 7,
   "metadata": {},
   "outputs": [
    {
     "name": "stdout",
     "output_type": "stream",
     "text": [
      "----------\n",
      "epoch 1/20\n",
      "1/32, train_loss: 1.9227\n",
      "2/32, train_loss: 7.9976\n",
      "3/32, train_loss: 1.5333\n",
      "4/32, train_loss: 2.0363\n",
      "5/32, train_loss: 1.0347\n"
     ]
    }
   ],
   "source": [
    "from model_training import ModelTrainer\n",
    "    \n",
    "trainer = ModelTrainer(model, train_loader, val_loader, optimizer, loss_function, scheduler, max_epochs,log_dir, device)\n",
    "# trainer.log()\n",
    "trainer.train()\n",
    "\n",
    "\n"
   ]
  }
 ],
 "metadata": {
  "kernelspec": {
   "display_name": ".venv",
   "language": "python",
   "name": "python3"
  },
  "language_info": {
   "codemirror_mode": {
    "name": "ipython",
    "version": 3
   },
   "file_extension": ".py",
   "mimetype": "text/x-python",
   "name": "python",
   "nbconvert_exporter": "python",
   "pygments_lexer": "ipython3",
   "version": "3.11.2"
  }
 },
 "nbformat": 4,
 "nbformat_minor": 2
}
