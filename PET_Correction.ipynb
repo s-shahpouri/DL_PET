{
  "cells": [
    {
      "cell_type": "markdown",
      "metadata": {
        "id": "view-in-github",
        "colab_type": "text"
      },
      "source": [
        "<a href=\"https://colab.research.google.com/github/s-shahpouri/DL_PET/blob/main/PET_Correction.ipynb\" target=\"_parent\"><img src=\"https://colab.research.google.com/assets/colab-badge.svg\" alt=\"Open In Colab\"/></a>"
      ]
    },
    {
      "cell_type": "markdown",
      "metadata": {
        "id": "MXVAKJOVSMyw"
      },
      "source": [
        "## Setup environment"
      ]
    },
    {
      "cell_type": "code",
      "execution_count": 20,
      "metadata": {
        "colab": {
          "base_uri": "https://localhost:8080/"
        },
        "id": "EHBrChiqSMyw",
        "outputId": "7c669d27-d1a6-45e8-e9c8-59ba7521ec90"
      },
      "outputs": [
        {
          "output_type": "stream",
          "name": "stdout",
          "text": [
            "Traceback (most recent call last):\n",
            "  File \"<string>\", line 1, in <module>\n",
            "ModuleNotFoundError: No module named 'monai'\n",
            "\u001b[2K     \u001b[90m━━━━━━━━━━━━━━━━━━━━━━━━━━━━━━━━━━━━━━━━\u001b[0m \u001b[32m1.4/1.4 MB\u001b[0m \u001b[31m15.2 MB/s\u001b[0m eta \u001b[36m0:00:00\u001b[0m\n",
            "\u001b[2K     \u001b[90m━━━━━━━━━━━━━━━━━━━━━━━━━━━━━━━━━━━━━━━━\u001b[0m \u001b[32m266.5/266.5 kB\u001b[0m \u001b[31m25.5 MB/s\u001b[0m eta \u001b[36m0:00:00\u001b[0m\n",
            "\u001b[?25h"
          ]
        }
      ],
      "source": [
        "!python -c \"import monai\" || pip install -q \"monai-weekly[gdown, nibabel, tqdm, ignite]\"\n",
        "!python -c \"import matplotlib\" || pip install -q matplotlib\n",
        "!python -c \"import pydicom\" || pip install pydicom\n",
        "!python -c \"import dicom2nifti\" ||pip install dicom2nifti\n",
        "\n",
        "\n",
        "\n",
        "from monai.utils import first, set_determinism\n",
        "from monai.transforms import (EnsureChannelFirstd, Compose, CropForegroundd, LoadImaged, Orientationd, RandCropByPosNegLabeld, ScaleIntensityRanged, Spacingd)\n",
        "from monai.networks.nets import UNet\n",
        "from monai.networks.layers import Norm\n",
        "from monai.inferers import sliding_window_inference\n",
        "from monai.data import CacheDataset, DataLoader, Dataset\n",
        "from monai.apps import download_and_extract\n",
        "from monai.transforms import CenterSpatialCropd\n",
        "from monai.transforms import Resized\n",
        "import torch\n",
        "import matplotlib.pyplot as plt\n",
        "import os\n",
        "import glob\n",
        "import torch.nn as nn"
      ]
    },
    {
      "cell_type": "markdown",
      "metadata": {
        "id": "S6t0wW8uSMy4"
      },
      "source": [
        "## Set dataset path"
      ]
    },
    {
      "cell_type": "code",
      "source": [
        "from google.colab import drive\n",
        "import zipfile\n",
        "import os\n",
        "\n",
        "drive.mount('/content/drive')\n",
        "\n",
        "root_dir = '/content/drive/My Drive/PET_data'\n",
        "zip_file_path = os.path.join(root_dir, 'pet.zip')\n",
        "extracted_folder_path = os.path.join(root_dir, 'sapmle_data')\n",
        "\n",
        "# Create the extracted data folder if it doesn't exist\n",
        "os.makedirs(extracted_folder_path, exist_ok=True)\n",
        "\n",
        "# Unzip the file\n",
        "with zipfile.ZipFile(zip_file_path, 'r') as zip_ref:\n",
        "    zip_ref.extractall(extracted_folder_path)\n",
        "\n",
        "# List the contents of each patient folder, including subfolders\n",
        "for patient_folder in os.listdir(extracted_folder_path):\n",
        "    patient_folder_path = os.path.join(extracted_folder_path, patient_folder)\n",
        "\n",
        "    # List subfolders within the patient folder\n",
        "    subfolders = [subfolder for subfolder in os.listdir(patient_folder_path) if os.path.isdir(os.path.join(patient_folder_path, subfolder))]\n",
        "\n",
        "    print(f\"Contents of {patient_folder}: {subfolders}\")\n"
      ],
      "metadata": {
        "colab": {
          "base_uri": "https://localhost:8080/"
        },
        "id": "5qvqxTtApBZM",
        "outputId": "98dcf0cd-d113-43aa-ffbe-19e686dc99ed"
      },
      "execution_count": 13,
      "outputs": [
        {
          "output_type": "stream",
          "name": "stdout",
          "text": [
            "Drive already mounted at /content/drive; to attempt to forcibly remount, call drive.mount(\"/content/drive\", force_remount=True).\n",
            "Contents of P010: ['MAC', 'NAC']\n",
            "Contents of P001: ['MAC', 'NAC']\n",
            "Contents of P002: ['MAC', 'NAC']\n",
            "Contents of P003: ['MAC', 'NAC']\n",
            "Contents of P004: ['MAC', 'NAC']\n",
            "Contents of P005: ['MAC', 'NAC']\n",
            "Contents of P006: ['MAC', 'NAC']\n",
            "Contents of P007: ['MAC', 'NAC']\n",
            "Contents of P008: ['MAC', 'NAC']\n",
            "Contents of P009: ['MAC', 'NAC']\n"
          ]
        }
      ]
    },
    {
      "cell_type": "code",
      "execution_count": 21,
      "metadata": {
        "colab": {
          "base_uri": "https://localhost:8080/"
        },
        "id": "KsYq65ABSMy5",
        "outputId": "feb48fa8-be06-4709-e8f5-e3a462760d1b"
      },
      "outputs": [
        {
          "output_type": "stream",
          "name": "stdout",
          "text": [
            "Mounted at /content/drive\n"
          ]
        }
      ],
      "source": [
        "from google.colab import drive\n",
        "import os\n",
        "\n",
        "import dicom2nifti\n",
        "\n",
        "drive.mount('/content/drive')\n",
        "root_dir = '/content/drive/My Drive/PET_data/sample_data'\n",
        "\n",
        "# Get a list of all patient folders\n",
        "patient_folders = sorted([f for f in os.listdir(root_dir) if os.path.isdir(os.path.join(root_dir, f))])\n",
        "\n",
        "# Create a list to store data dictionaries for each patient\n",
        "data_dicts = []\n",
        "\n",
        "# Iterate through each patient folder\n",
        "for patient_folder in patient_folders:\n",
        "    patient_path = os.path.join(root_dir, patient_folder)\n",
        "\n",
        "    # Check if 'NAC' and 'MAC' folders exist in the patient folder\n",
        "    if 'NAC' in os.listdir(patient_path) and 'MAC' in os.listdir(patient_path):\n",
        "\n",
        "        nac_folder = os.path.join(patient_path, 'NAC')\n",
        "        mac_folder = os.path.join(patient_path, 'MAC')\n",
        "\n",
        "        # Create a data dictionary for the patient\n",
        "        data_dict = {\"image\": nac_folder, \"target\": mac_folder}\n",
        "        data_dicts.append(data_dict)\n",
        "\n",
        "# Optional: Split the data into train and validation sets\n",
        "train_files, val_files = data_dicts[:-1], data_dicts[-1:]\n",
        "\n",
        "\n"
      ]
    },
    {
      "cell_type": "code",
      "source": [
        "import os\n",
        "import dicom2nifti\n",
        "\n",
        "def dicom_to_nifti(dicom_folder, output_folder):\n",
        "    print(f\"Converting DICOM files from {dicom_folder} to NIfTI files in {output_folder}\")\n",
        "    # Convert DICOM to NIfTI\n",
        "    dicom2nifti.convert_directory(dicom_folder, output_folder, compression=True, reorient=True)\n",
        "    print(\"Conversion complete.\")\n"
      ],
      "metadata": {
        "id": "91CchLPVWmZj"
      },
      "execution_count": 22,
      "outputs": []
    },
    {
      "cell_type": "code",
      "source": [
        "drive.mount('/content/drive')\n",
        "root_dir = '/content/drive/My Drive/PET_data/sample_data'\n",
        "\n",
        "patient_folders = sorted([f for f in os.listdir(root_dir) if os.path.isdir(os.path.join(root_dir, f))])\n",
        "\n",
        "for patient_folder in patient_folders:\n",
        "    dicom_folder = root_dir + \"/\" + patient_folder + \"/MAC\"\n",
        "    output_folder = root_dir + \"/\" + patient_folder\n",
        "    dicom_to_nifti(dicom_folder, output_folder)\n",
        "\n",
        "    dicom_folder = root_dir + \"/\" + patient_folder + \"/NAC\"\n",
        "    output_folder = root_dir + \"/\" + patient_folder\n",
        "    dicom_to_nifti(dicom_folder, output_folder)"
      ],
      "metadata": {
        "colab": {
          "base_uri": "https://localhost:8080/"
        },
        "id": "5v-0oYWmBxEs",
        "outputId": "3b6404b5-7207-4734-8980-a4d69347a305"
      },
      "execution_count": 23,
      "outputs": [
        {
          "output_type": "stream",
          "name": "stdout",
          "text": [
            "Drive already mounted at /content/drive; to attempt to forcibly remount, call drive.mount(\"/content/drive\", force_remount=True).\n",
            "Converting DICOM files from /content/drive/My Drive/PET_data/sample_data/P001/MAC to NIfTI files in /content/drive/My Drive/PET_data/sample_data/P001\n",
            "Conversion complete.\n",
            "Converting DICOM files from /content/drive/My Drive/PET_data/sample_data/P001/NAC to NIfTI files in /content/drive/My Drive/PET_data/sample_data/P001\n",
            "Conversion complete.\n",
            "Converting DICOM files from /content/drive/My Drive/PET_data/sample_data/P002/MAC to NIfTI files in /content/drive/My Drive/PET_data/sample_data/P002\n",
            "Conversion complete.\n",
            "Converting DICOM files from /content/drive/My Drive/PET_data/sample_data/P002/NAC to NIfTI files in /content/drive/My Drive/PET_data/sample_data/P002\n",
            "Conversion complete.\n",
            "Converting DICOM files from /content/drive/My Drive/PET_data/sample_data/P003/MAC to NIfTI files in /content/drive/My Drive/PET_data/sample_data/P003\n",
            "Conversion complete.\n",
            "Converting DICOM files from /content/drive/My Drive/PET_data/sample_data/P003/NAC to NIfTI files in /content/drive/My Drive/PET_data/sample_data/P003\n",
            "Conversion complete.\n",
            "Converting DICOM files from /content/drive/My Drive/PET_data/sample_data/P004/MAC to NIfTI files in /content/drive/My Drive/PET_data/sample_data/P004\n",
            "Conversion complete.\n",
            "Converting DICOM files from /content/drive/My Drive/PET_data/sample_data/P004/NAC to NIfTI files in /content/drive/My Drive/PET_data/sample_data/P004\n",
            "Conversion complete.\n",
            "Converting DICOM files from /content/drive/My Drive/PET_data/sample_data/P005/MAC to NIfTI files in /content/drive/My Drive/PET_data/sample_data/P005\n",
            "Conversion complete.\n",
            "Converting DICOM files from /content/drive/My Drive/PET_data/sample_data/P005/NAC to NIfTI files in /content/drive/My Drive/PET_data/sample_data/P005\n",
            "Conversion complete.\n",
            "Converting DICOM files from /content/drive/My Drive/PET_data/sample_data/P006/MAC to NIfTI files in /content/drive/My Drive/PET_data/sample_data/P006\n",
            "Conversion complete.\n",
            "Converting DICOM files from /content/drive/My Drive/PET_data/sample_data/P006/NAC to NIfTI files in /content/drive/My Drive/PET_data/sample_data/P006\n",
            "Conversion complete.\n",
            "Converting DICOM files from /content/drive/My Drive/PET_data/sample_data/P007/MAC to NIfTI files in /content/drive/My Drive/PET_data/sample_data/P007\n",
            "Conversion complete.\n",
            "Converting DICOM files from /content/drive/My Drive/PET_data/sample_data/P007/NAC to NIfTI files in /content/drive/My Drive/PET_data/sample_data/P007\n",
            "Conversion complete.\n",
            "Converting DICOM files from /content/drive/My Drive/PET_data/sample_data/P008/MAC to NIfTI files in /content/drive/My Drive/PET_data/sample_data/P008\n",
            "Conversion complete.\n",
            "Converting DICOM files from /content/drive/My Drive/PET_data/sample_data/P008/NAC to NIfTI files in /content/drive/My Drive/PET_data/sample_data/P008\n",
            "Conversion complete.\n",
            "Converting DICOM files from /content/drive/My Drive/PET_data/sample_data/P009/MAC to NIfTI files in /content/drive/My Drive/PET_data/sample_data/P009\n",
            "Conversion complete.\n",
            "Converting DICOM files from /content/drive/My Drive/PET_data/sample_data/P009/NAC to NIfTI files in /content/drive/My Drive/PET_data/sample_data/P009\n",
            "Conversion complete.\n",
            "Converting DICOM files from /content/drive/My Drive/PET_data/sample_data/P010/MAC to NIfTI files in /content/drive/My Drive/PET_data/sample_data/P010\n",
            "Conversion complete.\n",
            "Converting DICOM files from /content/drive/My Drive/PET_data/sample_data/P010/NAC to NIfTI files in /content/drive/My Drive/PET_data/sample_data/P010\n",
            "Conversion complete.\n"
          ]
        }
      ]
    }
  ],
  "metadata": {
    "colab": {
      "gpuType": "T4",
      "provenance": [],
      "include_colab_link": true
    },
    "kernelspec": {
      "display_name": "Python 3",
      "name": "python3"
    },
    "language_info": {
      "codemirror_mode": {
        "name": "ipython",
        "version": 3
      },
      "file_extension": ".py",
      "mimetype": "text/x-python",
      "name": "python",
      "nbconvert_exporter": "python",
      "pygments_lexer": "ipython3",
      "version": "3.8.13"
    }
  },
  "nbformat": 4,
  "nbformat_minor": 0
}