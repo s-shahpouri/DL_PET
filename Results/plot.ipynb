{
 "cells": [
  {
   "cell_type": "code",
   "execution_count": 3,
   "metadata": {},
   "outputs": [
    {
     "data": {
      "text/html": [
       "<div>\n",
       "<style scoped>\n",
       "    .dataframe tbody tr th:only-of-type {\n",
       "        vertical-align: middle;\n",
       "    }\n",
       "\n",
       "    .dataframe tbody tr th {\n",
       "        vertical-align: top;\n",
       "    }\n",
       "\n",
       "    .dataframe thead th {\n",
       "        text-align: right;\n",
       "    }\n",
       "</style>\n",
       "<table border=\"1\" class=\"dataframe\">\n",
       "  <thead>\n",
       "    <tr style=\"text-align: right;\">\n",
       "      <th></th>\n",
       "      <th>Mean Error (SUV)</th>\n",
       "      <th>Mean Absolure Error (SUV)</th>\n",
       "      <th>Relative Error (SUV%)</th>\n",
       "      <th>Absolure Relative Error (SUV%)</th>\n",
       "      <th>Root Mean Squared Error</th>\n",
       "      <th>Peak Signal-to-Noise Ratio</th>\n",
       "      <th>Structual Similarity Index</th>\n",
       "      <th>Center</th>\n",
       "      <th>Dataset</th>\n",
       "    </tr>\n",
       "  </thead>\n",
       "  <tbody>\n",
       "    <tr>\n",
       "      <th>0</th>\n",
       "      <td>-1.196978</td>\n",
       "      <td>1.880488</td>\n",
       "      <td>-23.590440</td>\n",
       "      <td>42.682062</td>\n",
       "      <td>4.863194</td>\n",
       "      <td>41.298205</td>\n",
       "      <td>0.845310</td>\n",
       "      <td>C1</td>\n",
       "      <td>ADCM</td>\n",
       "    </tr>\n",
       "    <tr>\n",
       "      <th>1</th>\n",
       "      <td>-0.447971</td>\n",
       "      <td>1.266090</td>\n",
       "      <td>3.856694</td>\n",
       "      <td>39.992420</td>\n",
       "      <td>3.998148</td>\n",
       "      <td>37.276716</td>\n",
       "      <td>0.918472</td>\n",
       "      <td>C1</td>\n",
       "      <td>ADCM</td>\n",
       "    </tr>\n",
       "    <tr>\n",
       "      <th>2</th>\n",
       "      <td>-0.474551</td>\n",
       "      <td>1.774806</td>\n",
       "      <td>-12.434157</td>\n",
       "      <td>48.799069</td>\n",
       "      <td>4.799575</td>\n",
       "      <td>37.137537</td>\n",
       "      <td>0.855523</td>\n",
       "      <td>C2</td>\n",
       "      <td>ADCM</td>\n",
       "    </tr>\n",
       "    <tr>\n",
       "      <th>3</th>\n",
       "      <td>0.237656</td>\n",
       "      <td>1.666976</td>\n",
       "      <td>-4.194909</td>\n",
       "      <td>45.239406</td>\n",
       "      <td>5.980827</td>\n",
       "      <td>37.153803</td>\n",
       "      <td>0.847149</td>\n",
       "      <td>C2</td>\n",
       "      <td>ADCM</td>\n",
       "    </tr>\n",
       "    <tr>\n",
       "      <th>4</th>\n",
       "      <td>0.385242</td>\n",
       "      <td>2.417950</td>\n",
       "      <td>4.835177</td>\n",
       "      <td>45.420929</td>\n",
       "      <td>10.657650</td>\n",
       "      <td>39.021518</td>\n",
       "      <td>0.927742</td>\n",
       "      <td>C3</td>\n",
       "      <td>ADCM</td>\n",
       "    </tr>\n",
       "  </tbody>\n",
       "</table>\n",
       "</div>"
      ],
      "text/plain": [
       "   Mean Error (SUV)  Mean Absolure Error (SUV)  Relative Error (SUV%)  \\\n",
       "0         -1.196978                   1.880488             -23.590440   \n",
       "1         -0.447971                   1.266090               3.856694   \n",
       "2         -0.474551                   1.774806             -12.434157   \n",
       "3          0.237656                   1.666976              -4.194909   \n",
       "4          0.385242                   2.417950               4.835177   \n",
       "\n",
       "   Absolure Relative Error (SUV%)  Root Mean Squared Error  \\\n",
       "0                       42.682062                 4.863194   \n",
       "1                       39.992420                 3.998148   \n",
       "2                       48.799069                 4.799575   \n",
       "3                       45.239406                 5.980827   \n",
       "4                       45.420929                10.657650   \n",
       "\n",
       "   Peak Signal-to-Noise Ratio  Structual Similarity Index Center Dataset  \n",
       "0                   41.298205                    0.845310     C1    ADCM  \n",
       "1                   37.276716                    0.918472     C1    ADCM  \n",
       "2                   37.137537                    0.855523     C2    ADCM  \n",
       "3                   37.153803                    0.847149     C2    ADCM  \n",
       "4                   39.021518                    0.927742     C3    ADCM  "
      ]
     },
     "execution_count": 3,
     "metadata": {},
     "output_type": "execute_result"
    }
   ],
   "source": [
    "import pandas as pd\n",
    "\n",
    "df_ga = pd.read_csv(\"metric_data_ga2.csv\")\n",
    "\n",
    "df_ga.head()"
   ]
  },
  {
   "cell_type": "code",
   "execution_count": 4,
   "metadata": {},
   "outputs": [
    {
     "data": {
      "text/html": [
       "<div>\n",
       "<style scoped>\n",
       "    .dataframe tbody tr th:only-of-type {\n",
       "        vertical-align: middle;\n",
       "    }\n",
       "\n",
       "    .dataframe tbody tr th {\n",
       "        vertical-align: top;\n",
       "    }\n",
       "\n",
       "    .dataframe thead th {\n",
       "        text-align: right;\n",
       "    }\n",
       "</style>\n",
       "<table border=\"1\" class=\"dataframe\">\n",
       "  <thead>\n",
       "    <tr style=\"text-align: right;\">\n",
       "      <th></th>\n",
       "      <th>Mean Error (SUV)</th>\n",
       "      <th>Mean Absolure Error (SUV)</th>\n",
       "      <th>Relative Error (SUV%)</th>\n",
       "      <th>Absolure Relative Error (SUV%)</th>\n",
       "      <th>Root Mean Squared Error</th>\n",
       "      <th>Peak Signal-to-Noise Ratio</th>\n",
       "      <th>Structual Similarity Index</th>\n",
       "      <th>Center</th>\n",
       "      <th>Dataset</th>\n",
       "    </tr>\n",
       "  </thead>\n",
       "  <tbody>\n",
       "    <tr>\n",
       "      <th>0</th>\n",
       "      <td>0.922312</td>\n",
       "      <td>1.164954</td>\n",
       "      <td>81.163557</td>\n",
       "      <td>95.087844</td>\n",
       "      <td>2.881750</td>\n",
       "      <td>38.660804</td>\n",
       "      <td>0.850557</td>\n",
       "      <td>C6</td>\n",
       "      <td>ADCM</td>\n",
       "    </tr>\n",
       "    <tr>\n",
       "      <th>1</th>\n",
       "      <td>0.670506</td>\n",
       "      <td>1.173514</td>\n",
       "      <td>43.733601</td>\n",
       "      <td>80.648891</td>\n",
       "      <td>4.148767</td>\n",
       "      <td>33.726892</td>\n",
       "      <td>0.750708</td>\n",
       "      <td>C6</td>\n",
       "      <td>ADCM</td>\n",
       "    </tr>\n",
       "    <tr>\n",
       "      <th>2</th>\n",
       "      <td>0.126372</td>\n",
       "      <td>0.833950</td>\n",
       "      <td>21.497199</td>\n",
       "      <td>63.732136</td>\n",
       "      <td>2.626467</td>\n",
       "      <td>34.958001</td>\n",
       "      <td>0.679669</td>\n",
       "      <td>C6</td>\n",
       "      <td>ADCM</td>\n",
       "    </tr>\n",
       "    <tr>\n",
       "      <th>3</th>\n",
       "      <td>-0.284092</td>\n",
       "      <td>0.926313</td>\n",
       "      <td>2.055585</td>\n",
       "      <td>53.891931</td>\n",
       "      <td>2.347692</td>\n",
       "      <td>37.845244</td>\n",
       "      <td>0.899650</td>\n",
       "      <td>C6</td>\n",
       "      <td>ADCM</td>\n",
       "    </tr>\n",
       "    <tr>\n",
       "      <th>4</th>\n",
       "      <td>-0.253572</td>\n",
       "      <td>1.065186</td>\n",
       "      <td>-8.066486</td>\n",
       "      <td>64.590468</td>\n",
       "      <td>2.836446</td>\n",
       "      <td>38.195606</td>\n",
       "      <td>0.633506</td>\n",
       "      <td>C6</td>\n",
       "      <td>ADCM</td>\n",
       "    </tr>\n",
       "  </tbody>\n",
       "</table>\n",
       "</div>"
      ],
      "text/plain": [
       "   Mean Error (SUV)  Mean Absolure Error (SUV)  Relative Error (SUV%)  \\\n",
       "0          0.922312                   1.164954              81.163557   \n",
       "1          0.670506                   1.173514              43.733601   \n",
       "2          0.126372                   0.833950              21.497199   \n",
       "3         -0.284092                   0.926313               2.055585   \n",
       "4         -0.253572                   1.065186              -8.066486   \n",
       "\n",
       "   Absolure Relative Error (SUV%)  Root Mean Squared Error  \\\n",
       "0                       95.087844                 2.881750   \n",
       "1                       80.648891                 4.148767   \n",
       "2                       63.732136                 2.626467   \n",
       "3                       53.891931                 2.347692   \n",
       "4                       64.590468                 2.836446   \n",
       "\n",
       "   Peak Signal-to-Noise Ratio  Structual Similarity Index Center Dataset  \n",
       "0                   38.660804                    0.850557     C6    ADCM  \n",
       "1                   33.726892                    0.750708     C6    ADCM  \n",
       "2                   34.958001                    0.679669     C6    ADCM  \n",
       "3                   37.845244                    0.899650     C6    ADCM  \n",
       "4                   38.195606                    0.633506     C6    ADCM  "
      ]
     },
     "execution_count": 4,
     "metadata": {},
     "output_type": "execute_result"
    }
   ],
   "source": [
    "df_fdg = pd.read_csv(\"metric_data_fdg.csv\")\n",
    "df_fdg.head()"
   ]
  },
  {
   "cell_type": "code",
   "execution_count": 5,
   "metadata": {},
   "outputs": [],
   "source": [
    "import pandas as pd\n",
    "\n",
    "import plotly.express as px\n",
    "df_combined = pd.concat([df_ga, df_fdg])\n",
    "\n",
    "# Create a new column 'Group' to categorize centers\n",
    "df_combined['Group'] = df_combined['Center'].apply(lambda x: 'internal' if x in ['C1', 'C2', 'C3', 'C4'] else x)\n",
    "\n",
    "# Filter the data for the relevant Centers and Group\n",
    "df_filtered = df_combined[df_combined['Group'].isin(['internal', 'C5', 'C6', 'C7'])]\n",
    "\n",
    "group_name_mapping = {\n",
    "    'internal': 'Internal',\n",
    "    'C5': 'X-Scanner',\n",
    "    'C6': 'X-TracerI',\n",
    "    'C7': 'X-TracerII'\n",
    "}\n",
    "\n",
    "# Replace the old group names with the new ones\n",
    "df_filtered['Group'] = df_filtered['Group'].replace(group_name_mapping)\n",
    "\n",
    "group_color_mapping = {\n",
    "    'Internal': '#1f77b4',   # Deep Blue\n",
    "    'X-Scanner': '#2ca02c', # Soft Green\n",
    "    'X-TracerI': '#ff7f0e',  # Muted Orange\n",
    "    'X-TracerII': '#d62728', # Soft Red\n",
    "\n",
    "}\n",
    "\n",
    "\n",
    "# Set the columns we want to plot\n",
    "columns_to_plot = ['Mean Error (SUV)', 'Mean Absolure Error (SUV)', 'Structual Similarity Index']\n",
    "\n",
    "\n"
   ]
  },
  {
   "cell_type": "code",
   "execution_count": 6,
   "metadata": {},
   "outputs": [
    {
     "data": {
      "text/html": [
       "<div>\n",
       "<style scoped>\n",
       "    .dataframe tbody tr th:only-of-type {\n",
       "        vertical-align: middle;\n",
       "    }\n",
       "\n",
       "    .dataframe tbody tr th {\n",
       "        vertical-align: top;\n",
       "    }\n",
       "\n",
       "    .dataframe thead th {\n",
       "        text-align: right;\n",
       "    }\n",
       "</style>\n",
       "<table border=\"1\" class=\"dataframe\">\n",
       "  <thead>\n",
       "    <tr style=\"text-align: right;\">\n",
       "      <th></th>\n",
       "      <th>Mean Error (SUV)</th>\n",
       "      <th>Mean Absolure Error (SUV)</th>\n",
       "      <th>Relative Error (SUV%)</th>\n",
       "      <th>Absolure Relative Error (SUV%)</th>\n",
       "      <th>Root Mean Squared Error</th>\n",
       "      <th>Peak Signal-to-Noise Ratio</th>\n",
       "      <th>Structual Similarity Index</th>\n",
       "      <th>Center</th>\n",
       "      <th>Dataset</th>\n",
       "      <th>Group</th>\n",
       "    </tr>\n",
       "  </thead>\n",
       "  <tbody>\n",
       "    <tr>\n",
       "      <th>20</th>\n",
       "      <td>-1.189145</td>\n",
       "      <td>1.517361</td>\n",
       "      <td>-21.406473</td>\n",
       "      <td>38.811979</td>\n",
       "      <td>2.955354</td>\n",
       "      <td>40.861245</td>\n",
       "      <td>0.880459</td>\n",
       "      <td>C1</td>\n",
       "      <td>Multi-Center</td>\n",
       "      <td>Internal</td>\n",
       "    </tr>\n",
       "    <tr>\n",
       "      <th>21</th>\n",
       "      <td>0.251997</td>\n",
       "      <td>0.827524</td>\n",
       "      <td>20.459027</td>\n",
       "      <td>36.570637</td>\n",
       "      <td>1.821480</td>\n",
       "      <td>40.397126</td>\n",
       "      <td>0.955923</td>\n",
       "      <td>C1</td>\n",
       "      <td>Multi-Center</td>\n",
       "      <td>Internal</td>\n",
       "    </tr>\n",
       "    <tr>\n",
       "      <th>22</th>\n",
       "      <td>-0.345256</td>\n",
       "      <td>0.986915</td>\n",
       "      <td>-4.024623</td>\n",
       "      <td>30.942896</td>\n",
       "      <td>2.483217</td>\n",
       "      <td>36.857095</td>\n",
       "      <td>0.944114</td>\n",
       "      <td>C2</td>\n",
       "      <td>Multi-Center</td>\n",
       "      <td>Internal</td>\n",
       "    </tr>\n",
       "    <tr>\n",
       "      <th>23</th>\n",
       "      <td>0.469724</td>\n",
       "      <td>0.943725</td>\n",
       "      <td>16.398120</td>\n",
       "      <td>32.340825</td>\n",
       "      <td>2.721721</td>\n",
       "      <td>35.716724</td>\n",
       "      <td>0.945008</td>\n",
       "      <td>C2</td>\n",
       "      <td>Multi-Center</td>\n",
       "      <td>Internal</td>\n",
       "    </tr>\n",
       "    <tr>\n",
       "      <th>24</th>\n",
       "      <td>-0.267477</td>\n",
       "      <td>1.074421</td>\n",
       "      <td>5.178803</td>\n",
       "      <td>29.086784</td>\n",
       "      <td>3.015070</td>\n",
       "      <td>41.078568</td>\n",
       "      <td>0.974526</td>\n",
       "      <td>C3</td>\n",
       "      <td>Multi-Center</td>\n",
       "      <td>Internal</td>\n",
       "    </tr>\n",
       "    <tr>\n",
       "      <th>25</th>\n",
       "      <td>-1.191047</td>\n",
       "      <td>1.514280</td>\n",
       "      <td>-12.181754</td>\n",
       "      <td>33.404942</td>\n",
       "      <td>3.027064</td>\n",
       "      <td>36.387258</td>\n",
       "      <td>0.935588</td>\n",
       "      <td>C3</td>\n",
       "      <td>Multi-Center</td>\n",
       "      <td>Internal</td>\n",
       "    </tr>\n",
       "    <tr>\n",
       "      <th>26</th>\n",
       "      <td>-0.571929</td>\n",
       "      <td>1.456600</td>\n",
       "      <td>16.096422</td>\n",
       "      <td>51.828476</td>\n",
       "      <td>3.501498</td>\n",
       "      <td>34.577949</td>\n",
       "      <td>0.908551</td>\n",
       "      <td>C4</td>\n",
       "      <td>Multi-Center</td>\n",
       "      <td>Internal</td>\n",
       "    </tr>\n",
       "    <tr>\n",
       "      <th>27</th>\n",
       "      <td>-1.651036</td>\n",
       "      <td>1.888178</td>\n",
       "      <td>-29.688407</td>\n",
       "      <td>38.066577</td>\n",
       "      <td>3.643070</td>\n",
       "      <td>35.442874</td>\n",
       "      <td>0.898801</td>\n",
       "      <td>C4</td>\n",
       "      <td>Multi-Center</td>\n",
       "      <td>Internal</td>\n",
       "    </tr>\n",
       "    <tr>\n",
       "      <th>28</th>\n",
       "      <td>-2.802982</td>\n",
       "      <td>4.417342</td>\n",
       "      <td>34.934795</td>\n",
       "      <td>82.985914</td>\n",
       "      <td>14.347300</td>\n",
       "      <td>24.684061</td>\n",
       "      <td>0.816742</td>\n",
       "      <td>C5</td>\n",
       "      <td>Multi-Center</td>\n",
       "      <td>X-Scanner</td>\n",
       "    </tr>\n",
       "    <tr>\n",
       "      <th>29</th>\n",
       "      <td>-2.618838</td>\n",
       "      <td>2.807607</td>\n",
       "      <td>-37.988202</td>\n",
       "      <td>49.913153</td>\n",
       "      <td>4.900435</td>\n",
       "      <td>32.736269</td>\n",
       "      <td>0.870127</td>\n",
       "      <td>C5</td>\n",
       "      <td>Multi-Center</td>\n",
       "      <td>X-Scanner</td>\n",
       "    </tr>\n",
       "    <tr>\n",
       "      <th>30</th>\n",
       "      <td>-2.058927</td>\n",
       "      <td>2.486485</td>\n",
       "      <td>-19.460334</td>\n",
       "      <td>50.006770</td>\n",
       "      <td>5.378507</td>\n",
       "      <td>30.020326</td>\n",
       "      <td>0.884496</td>\n",
       "      <td>C5</td>\n",
       "      <td>Multi-Center</td>\n",
       "      <td>X-Scanner</td>\n",
       "    </tr>\n",
       "    <tr>\n",
       "      <th>31</th>\n",
       "      <td>-1.380496</td>\n",
       "      <td>1.731921</td>\n",
       "      <td>-23.359918</td>\n",
       "      <td>39.676542</td>\n",
       "      <td>3.808757</td>\n",
       "      <td>33.803310</td>\n",
       "      <td>0.921423</td>\n",
       "      <td>C5</td>\n",
       "      <td>Multi-Center</td>\n",
       "      <td>X-Scanner</td>\n",
       "    </tr>\n",
       "    <tr>\n",
       "      <th>32</th>\n",
       "      <td>-1.522224</td>\n",
       "      <td>1.789823</td>\n",
       "      <td>-27.700249</td>\n",
       "      <td>41.719467</td>\n",
       "      <td>3.387557</td>\n",
       "      <td>35.105311</td>\n",
       "      <td>0.921850</td>\n",
       "      <td>C5</td>\n",
       "      <td>Multi-Center</td>\n",
       "      <td>X-Scanner</td>\n",
       "    </tr>\n",
       "    <tr>\n",
       "      <th>33</th>\n",
       "      <td>-1.914277</td>\n",
       "      <td>2.177387</td>\n",
       "      <td>-32.644160</td>\n",
       "      <td>46.540998</td>\n",
       "      <td>3.850960</td>\n",
       "      <td>34.504937</td>\n",
       "      <td>0.899595</td>\n",
       "      <td>C5</td>\n",
       "      <td>Multi-Center</td>\n",
       "      <td>X-Scanner</td>\n",
       "    </tr>\n",
       "    <tr>\n",
       "      <th>34</th>\n",
       "      <td>-2.505104</td>\n",
       "      <td>2.707858</td>\n",
       "      <td>-35.894124</td>\n",
       "      <td>50.066412</td>\n",
       "      <td>5.467774</td>\n",
       "      <td>32.861699</td>\n",
       "      <td>0.866635</td>\n",
       "      <td>C5</td>\n",
       "      <td>Multi-Center</td>\n",
       "      <td>X-Scanner</td>\n",
       "    </tr>\n",
       "    <tr>\n",
       "      <th>35</th>\n",
       "      <td>-1.483719</td>\n",
       "      <td>1.858894</td>\n",
       "      <td>-18.851572</td>\n",
       "      <td>39.796408</td>\n",
       "      <td>4.070693</td>\n",
       "      <td>33.717278</td>\n",
       "      <td>0.914710</td>\n",
       "      <td>C5</td>\n",
       "      <td>Multi-Center</td>\n",
       "      <td>X-Scanner</td>\n",
       "    </tr>\n",
       "    <tr>\n",
       "      <th>36</th>\n",
       "      <td>-1.579101</td>\n",
       "      <td>1.921940</td>\n",
       "      <td>-22.349633</td>\n",
       "      <td>40.241001</td>\n",
       "      <td>4.075301</td>\n",
       "      <td>34.339273</td>\n",
       "      <td>0.915005</td>\n",
       "      <td>C5</td>\n",
       "      <td>Multi-Center</td>\n",
       "      <td>X-Scanner</td>\n",
       "    </tr>\n",
       "    <tr>\n",
       "      <th>37</th>\n",
       "      <td>-2.117522</td>\n",
       "      <td>2.588544</td>\n",
       "      <td>-19.593643</td>\n",
       "      <td>45.456369</td>\n",
       "      <td>7.256267</td>\n",
       "      <td>29.325163</td>\n",
       "      <td>0.898980</td>\n",
       "      <td>C5</td>\n",
       "      <td>Multi-Center</td>\n",
       "      <td>X-Scanner</td>\n",
       "    </tr>\n",
       "    <tr>\n",
       "      <th>38</th>\n",
       "      <td>-0.859330</td>\n",
       "      <td>1.623257</td>\n",
       "      <td>-4.089212</td>\n",
       "      <td>49.273993</td>\n",
       "      <td>2.957469</td>\n",
       "      <td>34.811854</td>\n",
       "      <td>0.911354</td>\n",
       "      <td>C5</td>\n",
       "      <td>Multi-Center</td>\n",
       "      <td>X-Scanner</td>\n",
       "    </tr>\n",
       "    <tr>\n",
       "      <th>39</th>\n",
       "      <td>-2.242819</td>\n",
       "      <td>2.485388</td>\n",
       "      <td>-31.478618</td>\n",
       "      <td>45.769655</td>\n",
       "      <td>5.409193</td>\n",
       "      <td>31.093535</td>\n",
       "      <td>0.891886</td>\n",
       "      <td>C5</td>\n",
       "      <td>Multi-Center</td>\n",
       "      <td>X-Scanner</td>\n",
       "    </tr>\n",
       "    <tr>\n",
       "      <th>21</th>\n",
       "      <td>-0.253323</td>\n",
       "      <td>0.491705</td>\n",
       "      <td>-22.956677</td>\n",
       "      <td>42.830060</td>\n",
       "      <td>0.921483</td>\n",
       "      <td>44.820018</td>\n",
       "      <td>0.933542</td>\n",
       "      <td>C6</td>\n",
       "      <td>Multi-Center</td>\n",
       "      <td>X-TracerI</td>\n",
       "    </tr>\n",
       "    <tr>\n",
       "      <th>22</th>\n",
       "      <td>-0.785288</td>\n",
       "      <td>0.915634</td>\n",
       "      <td>-61.723034</td>\n",
       "      <td>66.800337</td>\n",
       "      <td>1.323310</td>\n",
       "      <td>33.863921</td>\n",
       "      <td>0.605028</td>\n",
       "      <td>C6</td>\n",
       "      <td>Multi-Center</td>\n",
       "      <td>X-TracerI</td>\n",
       "    </tr>\n",
       "    <tr>\n",
       "      <th>23</th>\n",
       "      <td>-0.589170</td>\n",
       "      <td>0.732410</td>\n",
       "      <td>-41.959142</td>\n",
       "      <td>57.128757</td>\n",
       "      <td>0.953817</td>\n",
       "      <td>26.727236</td>\n",
       "      <td>0.611241</td>\n",
       "      <td>C6</td>\n",
       "      <td>Multi-Center</td>\n",
       "      <td>X-TracerI</td>\n",
       "    </tr>\n",
       "    <tr>\n",
       "      <th>24</th>\n",
       "      <td>-0.429614</td>\n",
       "      <td>0.730426</td>\n",
       "      <td>-33.640031</td>\n",
       "      <td>45.064144</td>\n",
       "      <td>1.539571</td>\n",
       "      <td>40.894817</td>\n",
       "      <td>0.934227</td>\n",
       "      <td>C6</td>\n",
       "      <td>Multi-Center</td>\n",
       "      <td>X-TracerI</td>\n",
       "    </tr>\n",
       "    <tr>\n",
       "      <th>25</th>\n",
       "      <td>-0.575514</td>\n",
       "      <td>0.667074</td>\n",
       "      <td>-41.913196</td>\n",
       "      <td>49.733854</td>\n",
       "      <td>0.836446</td>\n",
       "      <td>29.154781</td>\n",
       "      <td>0.694651</td>\n",
       "      <td>C6</td>\n",
       "      <td>Multi-Center</td>\n",
       "      <td>X-TracerI</td>\n",
       "    </tr>\n",
       "    <tr>\n",
       "      <th>26</th>\n",
       "      <td>-0.389267</td>\n",
       "      <td>0.623707</td>\n",
       "      <td>-34.757481</td>\n",
       "      <td>54.542863</td>\n",
       "      <td>0.948942</td>\n",
       "      <td>38.985071</td>\n",
       "      <td>0.769585</td>\n",
       "      <td>C6</td>\n",
       "      <td>Multi-Center</td>\n",
       "      <td>X-TracerI</td>\n",
       "    </tr>\n",
       "    <tr>\n",
       "      <th>27</th>\n",
       "      <td>-0.484049</td>\n",
       "      <td>0.655270</td>\n",
       "      <td>-37.621581</td>\n",
       "      <td>46.828999</td>\n",
       "      <td>1.036655</td>\n",
       "      <td>35.020889</td>\n",
       "      <td>0.774591</td>\n",
       "      <td>C6</td>\n",
       "      <td>Multi-Center</td>\n",
       "      <td>X-TracerI</td>\n",
       "    </tr>\n",
       "    <tr>\n",
       "      <th>28</th>\n",
       "      <td>-0.329266</td>\n",
       "      <td>0.530521</td>\n",
       "      <td>-25.986093</td>\n",
       "      <td>43.299868</td>\n",
       "      <td>0.833838</td>\n",
       "      <td>45.932695</td>\n",
       "      <td>0.938234</td>\n",
       "      <td>C6</td>\n",
       "      <td>Multi-Center</td>\n",
       "      <td>X-TracerI</td>\n",
       "    </tr>\n",
       "    <tr>\n",
       "      <th>29</th>\n",
       "      <td>-0.340053</td>\n",
       "      <td>0.548782</td>\n",
       "      <td>-21.262973</td>\n",
       "      <td>39.490030</td>\n",
       "      <td>0.871716</td>\n",
       "      <td>44.446388</td>\n",
       "      <td>0.910417</td>\n",
       "      <td>C6</td>\n",
       "      <td>Multi-Center</td>\n",
       "      <td>X-TracerI</td>\n",
       "    </tr>\n",
       "    <tr>\n",
       "      <th>30</th>\n",
       "      <td>-0.375145</td>\n",
       "      <td>0.500686</td>\n",
       "      <td>-34.744561</td>\n",
       "      <td>49.897552</td>\n",
       "      <td>0.727110</td>\n",
       "      <td>37.535008</td>\n",
       "      <td>0.808572</td>\n",
       "      <td>C6</td>\n",
       "      <td>Multi-Center</td>\n",
       "      <td>X-TracerI</td>\n",
       "    </tr>\n",
       "    <tr>\n",
       "      <th>31</th>\n",
       "      <td>-0.653475</td>\n",
       "      <td>0.721098</td>\n",
       "      <td>-46.695195</td>\n",
       "      <td>52.926828</td>\n",
       "      <td>1.139965</td>\n",
       "      <td>28.011939</td>\n",
       "      <td>0.686889</td>\n",
       "      <td>C7</td>\n",
       "      <td>Multi-Center</td>\n",
       "      <td>X-TracerII</td>\n",
       "    </tr>\n",
       "    <tr>\n",
       "      <th>32</th>\n",
       "      <td>-0.565423</td>\n",
       "      <td>0.745682</td>\n",
       "      <td>-38.949533</td>\n",
       "      <td>56.142406</td>\n",
       "      <td>1.401619</td>\n",
       "      <td>28.845578</td>\n",
       "      <td>0.693340</td>\n",
       "      <td>C7</td>\n",
       "      <td>Multi-Center</td>\n",
       "      <td>X-TracerII</td>\n",
       "    </tr>\n",
       "    <tr>\n",
       "      <th>33</th>\n",
       "      <td>-0.430172</td>\n",
       "      <td>0.539961</td>\n",
       "      <td>-38.525321</td>\n",
       "      <td>48.633620</td>\n",
       "      <td>0.710051</td>\n",
       "      <td>33.708202</td>\n",
       "      <td>0.747969</td>\n",
       "      <td>C7</td>\n",
       "      <td>Multi-Center</td>\n",
       "      <td>X-TracerII</td>\n",
       "    </tr>\n",
       "    <tr>\n",
       "      <th>34</th>\n",
       "      <td>-0.516588</td>\n",
       "      <td>0.598696</td>\n",
       "      <td>-38.727591</td>\n",
       "      <td>46.507472</td>\n",
       "      <td>0.825264</td>\n",
       "      <td>29.061660</td>\n",
       "      <td>0.725414</td>\n",
       "      <td>C7</td>\n",
       "      <td>Multi-Center</td>\n",
       "      <td>X-TracerII</td>\n",
       "    </tr>\n",
       "    <tr>\n",
       "      <th>35</th>\n",
       "      <td>-0.667742</td>\n",
       "      <td>0.755427</td>\n",
       "      <td>-47.260789</td>\n",
       "      <td>54.308254</td>\n",
       "      <td>1.078635</td>\n",
       "      <td>35.060187</td>\n",
       "      <td>0.739534</td>\n",
       "      <td>C7</td>\n",
       "      <td>Multi-Center</td>\n",
       "      <td>X-TracerII</td>\n",
       "    </tr>\n",
       "    <tr>\n",
       "      <th>36</th>\n",
       "      <td>-0.658474</td>\n",
       "      <td>0.715638</td>\n",
       "      <td>-47.973240</td>\n",
       "      <td>53.199632</td>\n",
       "      <td>1.066671</td>\n",
       "      <td>31.020638</td>\n",
       "      <td>0.686742</td>\n",
       "      <td>C7</td>\n",
       "      <td>Multi-Center</td>\n",
       "      <td>X-TracerII</td>\n",
       "    </tr>\n",
       "    <tr>\n",
       "      <th>37</th>\n",
       "      <td>-0.551712</td>\n",
       "      <td>0.630917</td>\n",
       "      <td>-44.485124</td>\n",
       "      <td>51.603632</td>\n",
       "      <td>0.805458</td>\n",
       "      <td>30.474281</td>\n",
       "      <td>0.687548</td>\n",
       "      <td>C7</td>\n",
       "      <td>Multi-Center</td>\n",
       "      <td>X-TracerII</td>\n",
       "    </tr>\n",
       "    <tr>\n",
       "      <th>38</th>\n",
       "      <td>-0.693941</td>\n",
       "      <td>0.927650</td>\n",
       "      <td>-41.754761</td>\n",
       "      <td>66.728827</td>\n",
       "      <td>3.425571</td>\n",
       "      <td>44.385757</td>\n",
       "      <td>0.972591</td>\n",
       "      <td>C7</td>\n",
       "      <td>Multi-Center</td>\n",
       "      <td>X-TracerII</td>\n",
       "    </tr>\n",
       "    <tr>\n",
       "      <th>39</th>\n",
       "      <td>-0.598760</td>\n",
       "      <td>0.668182</td>\n",
       "      <td>-45.177411</td>\n",
       "      <td>50.315126</td>\n",
       "      <td>0.950152</td>\n",
       "      <td>35.917202</td>\n",
       "      <td>0.788111</td>\n",
       "      <td>C7</td>\n",
       "      <td>Multi-Center</td>\n",
       "      <td>X-TracerII</td>\n",
       "    </tr>\n",
       "    <tr>\n",
       "      <th>40</th>\n",
       "      <td>-0.730021</td>\n",
       "      <td>0.923421</td>\n",
       "      <td>-45.643741</td>\n",
       "      <td>66.818713</td>\n",
       "      <td>2.060167</td>\n",
       "      <td>38.224579</td>\n",
       "      <td>0.888959</td>\n",
       "      <td>C7</td>\n",
       "      <td>Multi-Center</td>\n",
       "      <td>X-TracerII</td>\n",
       "    </tr>\n",
       "    <tr>\n",
       "      <th>41</th>\n",
       "      <td>-0.678501</td>\n",
       "      <td>0.776531</td>\n",
       "      <td>-42.038212</td>\n",
       "      <td>51.469476</td>\n",
       "      <td>1.417924</td>\n",
       "      <td>28.663649</td>\n",
       "      <td>0.729603</td>\n",
       "      <td>C7</td>\n",
       "      <td>Multi-Center</td>\n",
       "      <td>X-TracerII</td>\n",
       "    </tr>\n",
       "  </tbody>\n",
       "</table>\n",
       "</div>"
      ],
      "text/plain": [
       "    Mean Error (SUV)  Mean Absolure Error (SUV)  Relative Error (SUV%)  \\\n",
       "20         -1.189145                   1.517361             -21.406473   \n",
       "21          0.251997                   0.827524              20.459027   \n",
       "22         -0.345256                   0.986915              -4.024623   \n",
       "23          0.469724                   0.943725              16.398120   \n",
       "24         -0.267477                   1.074421               5.178803   \n",
       "25         -1.191047                   1.514280             -12.181754   \n",
       "26         -0.571929                   1.456600              16.096422   \n",
       "27         -1.651036                   1.888178             -29.688407   \n",
       "28         -2.802982                   4.417342              34.934795   \n",
       "29         -2.618838                   2.807607             -37.988202   \n",
       "30         -2.058927                   2.486485             -19.460334   \n",
       "31         -1.380496                   1.731921             -23.359918   \n",
       "32         -1.522224                   1.789823             -27.700249   \n",
       "33         -1.914277                   2.177387             -32.644160   \n",
       "34         -2.505104                   2.707858             -35.894124   \n",
       "35         -1.483719                   1.858894             -18.851572   \n",
       "36         -1.579101                   1.921940             -22.349633   \n",
       "37         -2.117522                   2.588544             -19.593643   \n",
       "38         -0.859330                   1.623257              -4.089212   \n",
       "39         -2.242819                   2.485388             -31.478618   \n",
       "21         -0.253323                   0.491705             -22.956677   \n",
       "22         -0.785288                   0.915634             -61.723034   \n",
       "23         -0.589170                   0.732410             -41.959142   \n",
       "24         -0.429614                   0.730426             -33.640031   \n",
       "25         -0.575514                   0.667074             -41.913196   \n",
       "26         -0.389267                   0.623707             -34.757481   \n",
       "27         -0.484049                   0.655270             -37.621581   \n",
       "28         -0.329266                   0.530521             -25.986093   \n",
       "29         -0.340053                   0.548782             -21.262973   \n",
       "30         -0.375145                   0.500686             -34.744561   \n",
       "31         -0.653475                   0.721098             -46.695195   \n",
       "32         -0.565423                   0.745682             -38.949533   \n",
       "33         -0.430172                   0.539961             -38.525321   \n",
       "34         -0.516588                   0.598696             -38.727591   \n",
       "35         -0.667742                   0.755427             -47.260789   \n",
       "36         -0.658474                   0.715638             -47.973240   \n",
       "37         -0.551712                   0.630917             -44.485124   \n",
       "38         -0.693941                   0.927650             -41.754761   \n",
       "39         -0.598760                   0.668182             -45.177411   \n",
       "40         -0.730021                   0.923421             -45.643741   \n",
       "41         -0.678501                   0.776531             -42.038212   \n",
       "\n",
       "    Absolure Relative Error (SUV%)  Root Mean Squared Error  \\\n",
       "20                       38.811979                 2.955354   \n",
       "21                       36.570637                 1.821480   \n",
       "22                       30.942896                 2.483217   \n",
       "23                       32.340825                 2.721721   \n",
       "24                       29.086784                 3.015070   \n",
       "25                       33.404942                 3.027064   \n",
       "26                       51.828476                 3.501498   \n",
       "27                       38.066577                 3.643070   \n",
       "28                       82.985914                14.347300   \n",
       "29                       49.913153                 4.900435   \n",
       "30                       50.006770                 5.378507   \n",
       "31                       39.676542                 3.808757   \n",
       "32                       41.719467                 3.387557   \n",
       "33                       46.540998                 3.850960   \n",
       "34                       50.066412                 5.467774   \n",
       "35                       39.796408                 4.070693   \n",
       "36                       40.241001                 4.075301   \n",
       "37                       45.456369                 7.256267   \n",
       "38                       49.273993                 2.957469   \n",
       "39                       45.769655                 5.409193   \n",
       "21                       42.830060                 0.921483   \n",
       "22                       66.800337                 1.323310   \n",
       "23                       57.128757                 0.953817   \n",
       "24                       45.064144                 1.539571   \n",
       "25                       49.733854                 0.836446   \n",
       "26                       54.542863                 0.948942   \n",
       "27                       46.828999                 1.036655   \n",
       "28                       43.299868                 0.833838   \n",
       "29                       39.490030                 0.871716   \n",
       "30                       49.897552                 0.727110   \n",
       "31                       52.926828                 1.139965   \n",
       "32                       56.142406                 1.401619   \n",
       "33                       48.633620                 0.710051   \n",
       "34                       46.507472                 0.825264   \n",
       "35                       54.308254                 1.078635   \n",
       "36                       53.199632                 1.066671   \n",
       "37                       51.603632                 0.805458   \n",
       "38                       66.728827                 3.425571   \n",
       "39                       50.315126                 0.950152   \n",
       "40                       66.818713                 2.060167   \n",
       "41                       51.469476                 1.417924   \n",
       "\n",
       "    Peak Signal-to-Noise Ratio  Structual Similarity Index Center  \\\n",
       "20                   40.861245                    0.880459     C1   \n",
       "21                   40.397126                    0.955923     C1   \n",
       "22                   36.857095                    0.944114     C2   \n",
       "23                   35.716724                    0.945008     C2   \n",
       "24                   41.078568                    0.974526     C3   \n",
       "25                   36.387258                    0.935588     C3   \n",
       "26                   34.577949                    0.908551     C4   \n",
       "27                   35.442874                    0.898801     C4   \n",
       "28                   24.684061                    0.816742     C5   \n",
       "29                   32.736269                    0.870127     C5   \n",
       "30                   30.020326                    0.884496     C5   \n",
       "31                   33.803310                    0.921423     C5   \n",
       "32                   35.105311                    0.921850     C5   \n",
       "33                   34.504937                    0.899595     C5   \n",
       "34                   32.861699                    0.866635     C5   \n",
       "35                   33.717278                    0.914710     C5   \n",
       "36                   34.339273                    0.915005     C5   \n",
       "37                   29.325163                    0.898980     C5   \n",
       "38                   34.811854                    0.911354     C5   \n",
       "39                   31.093535                    0.891886     C5   \n",
       "21                   44.820018                    0.933542     C6   \n",
       "22                   33.863921                    0.605028     C6   \n",
       "23                   26.727236                    0.611241     C6   \n",
       "24                   40.894817                    0.934227     C6   \n",
       "25                   29.154781                    0.694651     C6   \n",
       "26                   38.985071                    0.769585     C6   \n",
       "27                   35.020889                    0.774591     C6   \n",
       "28                   45.932695                    0.938234     C6   \n",
       "29                   44.446388                    0.910417     C6   \n",
       "30                   37.535008                    0.808572     C6   \n",
       "31                   28.011939                    0.686889     C7   \n",
       "32                   28.845578                    0.693340     C7   \n",
       "33                   33.708202                    0.747969     C7   \n",
       "34                   29.061660                    0.725414     C7   \n",
       "35                   35.060187                    0.739534     C7   \n",
       "36                   31.020638                    0.686742     C7   \n",
       "37                   30.474281                    0.687548     C7   \n",
       "38                   44.385757                    0.972591     C7   \n",
       "39                   35.917202                    0.788111     C7   \n",
       "40                   38.224579                    0.888959     C7   \n",
       "41                   28.663649                    0.729603     C7   \n",
       "\n",
       "         Dataset       Group  \n",
       "20  Multi-Center    Internal  \n",
       "21  Multi-Center    Internal  \n",
       "22  Multi-Center    Internal  \n",
       "23  Multi-Center    Internal  \n",
       "24  Multi-Center    Internal  \n",
       "25  Multi-Center    Internal  \n",
       "26  Multi-Center    Internal  \n",
       "27  Multi-Center    Internal  \n",
       "28  Multi-Center   X-Scanner  \n",
       "29  Multi-Center   X-Scanner  \n",
       "30  Multi-Center   X-Scanner  \n",
       "31  Multi-Center   X-Scanner  \n",
       "32  Multi-Center   X-Scanner  \n",
       "33  Multi-Center   X-Scanner  \n",
       "34  Multi-Center   X-Scanner  \n",
       "35  Multi-Center   X-Scanner  \n",
       "36  Multi-Center   X-Scanner  \n",
       "37  Multi-Center   X-Scanner  \n",
       "38  Multi-Center   X-Scanner  \n",
       "39  Multi-Center   X-Scanner  \n",
       "21  Multi-Center   X-TracerI  \n",
       "22  Multi-Center   X-TracerI  \n",
       "23  Multi-Center   X-TracerI  \n",
       "24  Multi-Center   X-TracerI  \n",
       "25  Multi-Center   X-TracerI  \n",
       "26  Multi-Center   X-TracerI  \n",
       "27  Multi-Center   X-TracerI  \n",
       "28  Multi-Center   X-TracerI  \n",
       "29  Multi-Center   X-TracerI  \n",
       "30  Multi-Center   X-TracerI  \n",
       "31  Multi-Center  X-TracerII  \n",
       "32  Multi-Center  X-TracerII  \n",
       "33  Multi-Center  X-TracerII  \n",
       "34  Multi-Center  X-TracerII  \n",
       "35  Multi-Center  X-TracerII  \n",
       "36  Multi-Center  X-TracerII  \n",
       "37  Multi-Center  X-TracerII  \n",
       "38  Multi-Center  X-TracerII  \n",
       "39  Multi-Center  X-TracerII  \n",
       "40  Multi-Center  X-TracerII  \n",
       "41  Multi-Center  X-TracerII  "
      ]
     },
     "execution_count": 6,
     "metadata": {},
     "output_type": "execute_result"
    }
   ],
   "source": [
    "df_filtered = df_filtered[df_filtered['Dataset'] != 'ADCM']\n",
    "\n",
    "df_filtered"
   ]
  },
  {
   "cell_type": "code",
   "execution_count": 30,
   "metadata": {},
   "outputs": [
    {
     "data": {
      "application/vnd.plotly.v1+json": {
       "config": {
        "plotlyServerURL": "https://plot.ly"
       },
       "data": [
        {
         "alignmentgroup": "True",
         "boxpoints": "suspectedoutliers",
         "hovertemplate": "Group=%{x}<br>Mean Error (SUV)=%{y}<extra></extra>",
         "legendgroup": "Internal",
         "marker": {
          "color": "#ffffff"
         },
         "name": "Internal",
         "notched": false,
         "offsetgroup": "Internal",
         "orientation": "v",
         "showlegend": true,
         "type": "box",
         "x": [
          "Internal",
          "Internal",
          "Internal",
          "Internal",
          "Internal",
          "Internal",
          "Internal",
          "Internal"
         ],
         "x0": " ",
         "xaxis": "x",
         "y": [
          -1.1891445939476657,
          0.2519972390057742,
          -0.3452557280437059,
          0.4697239865537157,
          -0.2674774272445508,
          -1.1910467561811826,
          -0.571929280222022,
          -1.6510359789546527
         ],
         "y0": " ",
         "yaxis": "y"
        },
        {
         "alignmentgroup": "True",
         "boxpoints": "suspectedoutliers",
         "hovertemplate": "Group=%{x}<br>Mean Error (SUV)=%{y}<extra></extra>",
         "legendgroup": "X-Scanner",
         "marker": {
          "color": "#2ca02c"
         },
         "name": "X-Scanner",
         "notched": false,
         "offsetgroup": "X-Scanner",
         "orientation": "v",
         "showlegend": true,
         "type": "box",
         "x": [
          "X-Scanner",
          "X-Scanner",
          "X-Scanner",
          "X-Scanner",
          "X-Scanner",
          "X-Scanner",
          "X-Scanner",
          "X-Scanner",
          "X-Scanner",
          "X-Scanner",
          "X-Scanner",
          "X-Scanner"
         ],
         "x0": " ",
         "xaxis": "x",
         "y": [
          -2.8029822558851394,
          -2.61883826259063,
          -2.0589265409436432,
          -1.3804961383168628,
          -1.522223770412285,
          -1.9142766090558891,
          -2.5051036116480816,
          -1.4837188627091455,
          -1.57910135796933,
          -2.1175220181913006,
          -0.8593295086365987,
          -2.242819236182748
         ],
         "y0": " ",
         "yaxis": "y"
        },
        {
         "alignmentgroup": "True",
         "boxpoints": "suspectedoutliers",
         "hovertemplate": "Group=%{x}<br>Mean Error (SUV)=%{y}<extra></extra>",
         "legendgroup": "X-TracerI",
         "marker": {
          "color": "#ff7f0e"
         },
         "name": "X-TracerI",
         "notched": false,
         "offsetgroup": "X-TracerI",
         "orientation": "v",
         "showlegend": true,
         "type": "box",
         "x": [
          "X-TracerI",
          "X-TracerI",
          "X-TracerI",
          "X-TracerI",
          "X-TracerI",
          "X-TracerI",
          "X-TracerI",
          "X-TracerI",
          "X-TracerI",
          "X-TracerI"
         ],
         "x0": " ",
         "xaxis": "x",
         "y": [
          -0.2533228437352298,
          -0.7852880299539251,
          -0.5891696508336531,
          -0.4296144208442078,
          -0.5755135456364943,
          -0.3892674970584013,
          -0.4840485645080934,
          -0.3292656258239357,
          -0.3400530626732412,
          -0.3751449579957191
         ],
         "y0": " ",
         "yaxis": "y"
        },
        {
         "alignmentgroup": "True",
         "boxpoints": "suspectedoutliers",
         "hovertemplate": "Group=%{x}<br>Mean Error (SUV)=%{y}<extra></extra>",
         "legendgroup": "X-TracerII",
         "marker": {
          "color": "#d62728"
         },
         "name": "X-TracerII",
         "notched": false,
         "offsetgroup": "X-TracerII",
         "orientation": "v",
         "showlegend": true,
         "type": "box",
         "x": [
          "X-TracerII",
          "X-TracerII",
          "X-TracerII",
          "X-TracerII",
          "X-TracerII",
          "X-TracerII",
          "X-TracerII",
          "X-TracerII",
          "X-TracerII",
          "X-TracerII",
          "X-TracerII"
         ],
         "x0": " ",
         "xaxis": "x",
         "y": [
          -0.6534754940922887,
          -0.5654231048014308,
          -0.4301723711501698,
          -0.5165880588747674,
          -0.6677419447663477,
          -0.6584737454693153,
          -0.5517122499860377,
          -0.6939407854410562,
          -0.5987604593675865,
          -0.7300213318339184,
          -0.6785005724729886
         ],
         "y0": " ",
         "yaxis": "y"
        }
       ],
       "layout": {
        "boxmode": "overlay",
        "font": {
         "color": "white",
         "family": "Open Sans",
         "size": 24
        },
        "height": 400,
        "legend": {
         "font": {
          "color": "white",
          "size": 24
         },
         "title": {
          "text": "Group"
         },
         "tracegroupgap": 0
        },
        "margin": {
         "t": 60
        },
        "paper_bgcolor": "rgba(0,0,0,0)",
        "plot_bgcolor": "rgba(0,0,0,0)",
        "showlegend": false,
        "template": {
         "data": {
          "bar": [
           {
            "error_x": {
             "color": "#2a3f5f"
            },
            "error_y": {
             "color": "#2a3f5f"
            },
            "marker": {
             "line": {
              "color": "#E5ECF6",
              "width": 0.5
             },
             "pattern": {
              "fillmode": "overlay",
              "size": 10,
              "solidity": 0.2
             }
            },
            "type": "bar"
           }
          ],
          "barpolar": [
           {
            "marker": {
             "line": {
              "color": "#E5ECF6",
              "width": 0.5
             },
             "pattern": {
              "fillmode": "overlay",
              "size": 10,
              "solidity": 0.2
             }
            },
            "type": "barpolar"
           }
          ],
          "carpet": [
           {
            "aaxis": {
             "endlinecolor": "#2a3f5f",
             "gridcolor": "white",
             "linecolor": "white",
             "minorgridcolor": "white",
             "startlinecolor": "#2a3f5f"
            },
            "baxis": {
             "endlinecolor": "#2a3f5f",
             "gridcolor": "white",
             "linecolor": "white",
             "minorgridcolor": "white",
             "startlinecolor": "#2a3f5f"
            },
            "type": "carpet"
           }
          ],
          "choropleth": [
           {
            "colorbar": {
             "outlinewidth": 0,
             "ticks": ""
            },
            "type": "choropleth"
           }
          ],
          "contour": [
           {
            "colorbar": {
             "outlinewidth": 0,
             "ticks": ""
            },
            "colorscale": [
             [
              0,
              "#0d0887"
             ],
             [
              0.1111111111111111,
              "#46039f"
             ],
             [
              0.2222222222222222,
              "#7201a8"
             ],
             [
              0.3333333333333333,
              "#9c179e"
             ],
             [
              0.4444444444444444,
              "#bd3786"
             ],
             [
              0.5555555555555556,
              "#d8576b"
             ],
             [
              0.6666666666666666,
              "#ed7953"
             ],
             [
              0.7777777777777778,
              "#fb9f3a"
             ],
             [
              0.8888888888888888,
              "#fdca26"
             ],
             [
              1,
              "#f0f921"
             ]
            ],
            "type": "contour"
           }
          ],
          "contourcarpet": [
           {
            "colorbar": {
             "outlinewidth": 0,
             "ticks": ""
            },
            "type": "contourcarpet"
           }
          ],
          "heatmap": [
           {
            "colorbar": {
             "outlinewidth": 0,
             "ticks": ""
            },
            "colorscale": [
             [
              0,
              "#0d0887"
             ],
             [
              0.1111111111111111,
              "#46039f"
             ],
             [
              0.2222222222222222,
              "#7201a8"
             ],
             [
              0.3333333333333333,
              "#9c179e"
             ],
             [
              0.4444444444444444,
              "#bd3786"
             ],
             [
              0.5555555555555556,
              "#d8576b"
             ],
             [
              0.6666666666666666,
              "#ed7953"
             ],
             [
              0.7777777777777778,
              "#fb9f3a"
             ],
             [
              0.8888888888888888,
              "#fdca26"
             ],
             [
              1,
              "#f0f921"
             ]
            ],
            "type": "heatmap"
           }
          ],
          "heatmapgl": [
           {
            "colorbar": {
             "outlinewidth": 0,
             "ticks": ""
            },
            "colorscale": [
             [
              0,
              "#0d0887"
             ],
             [
              0.1111111111111111,
              "#46039f"
             ],
             [
              0.2222222222222222,
              "#7201a8"
             ],
             [
              0.3333333333333333,
              "#9c179e"
             ],
             [
              0.4444444444444444,
              "#bd3786"
             ],
             [
              0.5555555555555556,
              "#d8576b"
             ],
             [
              0.6666666666666666,
              "#ed7953"
             ],
             [
              0.7777777777777778,
              "#fb9f3a"
             ],
             [
              0.8888888888888888,
              "#fdca26"
             ],
             [
              1,
              "#f0f921"
             ]
            ],
            "type": "heatmapgl"
           }
          ],
          "histogram": [
           {
            "marker": {
             "pattern": {
              "fillmode": "overlay",
              "size": 10,
              "solidity": 0.2
             }
            },
            "type": "histogram"
           }
          ],
          "histogram2d": [
           {
            "colorbar": {
             "outlinewidth": 0,
             "ticks": ""
            },
            "colorscale": [
             [
              0,
              "#0d0887"
             ],
             [
              0.1111111111111111,
              "#46039f"
             ],
             [
              0.2222222222222222,
              "#7201a8"
             ],
             [
              0.3333333333333333,
              "#9c179e"
             ],
             [
              0.4444444444444444,
              "#bd3786"
             ],
             [
              0.5555555555555556,
              "#d8576b"
             ],
             [
              0.6666666666666666,
              "#ed7953"
             ],
             [
              0.7777777777777778,
              "#fb9f3a"
             ],
             [
              0.8888888888888888,
              "#fdca26"
             ],
             [
              1,
              "#f0f921"
             ]
            ],
            "type": "histogram2d"
           }
          ],
          "histogram2dcontour": [
           {
            "colorbar": {
             "outlinewidth": 0,
             "ticks": ""
            },
            "colorscale": [
             [
              0,
              "#0d0887"
             ],
             [
              0.1111111111111111,
              "#46039f"
             ],
             [
              0.2222222222222222,
              "#7201a8"
             ],
             [
              0.3333333333333333,
              "#9c179e"
             ],
             [
              0.4444444444444444,
              "#bd3786"
             ],
             [
              0.5555555555555556,
              "#d8576b"
             ],
             [
              0.6666666666666666,
              "#ed7953"
             ],
             [
              0.7777777777777778,
              "#fb9f3a"
             ],
             [
              0.8888888888888888,
              "#fdca26"
             ],
             [
              1,
              "#f0f921"
             ]
            ],
            "type": "histogram2dcontour"
           }
          ],
          "mesh3d": [
           {
            "colorbar": {
             "outlinewidth": 0,
             "ticks": ""
            },
            "type": "mesh3d"
           }
          ],
          "parcoords": [
           {
            "line": {
             "colorbar": {
              "outlinewidth": 0,
              "ticks": ""
             }
            },
            "type": "parcoords"
           }
          ],
          "pie": [
           {
            "automargin": true,
            "type": "pie"
           }
          ],
          "scatter": [
           {
            "fillpattern": {
             "fillmode": "overlay",
             "size": 10,
             "solidity": 0.2
            },
            "type": "scatter"
           }
          ],
          "scatter3d": [
           {
            "line": {
             "colorbar": {
              "outlinewidth": 0,
              "ticks": ""
             }
            },
            "marker": {
             "colorbar": {
              "outlinewidth": 0,
              "ticks": ""
             }
            },
            "type": "scatter3d"
           }
          ],
          "scattercarpet": [
           {
            "marker": {
             "colorbar": {
              "outlinewidth": 0,
              "ticks": ""
             }
            },
            "type": "scattercarpet"
           }
          ],
          "scattergeo": [
           {
            "marker": {
             "colorbar": {
              "outlinewidth": 0,
              "ticks": ""
             }
            },
            "type": "scattergeo"
           }
          ],
          "scattergl": [
           {
            "marker": {
             "colorbar": {
              "outlinewidth": 0,
              "ticks": ""
             }
            },
            "type": "scattergl"
           }
          ],
          "scattermapbox": [
           {
            "marker": {
             "colorbar": {
              "outlinewidth": 0,
              "ticks": ""
             }
            },
            "type": "scattermapbox"
           }
          ],
          "scatterpolar": [
           {
            "marker": {
             "colorbar": {
              "outlinewidth": 0,
              "ticks": ""
             }
            },
            "type": "scatterpolar"
           }
          ],
          "scatterpolargl": [
           {
            "marker": {
             "colorbar": {
              "outlinewidth": 0,
              "ticks": ""
             }
            },
            "type": "scatterpolargl"
           }
          ],
          "scatterternary": [
           {
            "marker": {
             "colorbar": {
              "outlinewidth": 0,
              "ticks": ""
             }
            },
            "type": "scatterternary"
           }
          ],
          "surface": [
           {
            "colorbar": {
             "outlinewidth": 0,
             "ticks": ""
            },
            "colorscale": [
             [
              0,
              "#0d0887"
             ],
             [
              0.1111111111111111,
              "#46039f"
             ],
             [
              0.2222222222222222,
              "#7201a8"
             ],
             [
              0.3333333333333333,
              "#9c179e"
             ],
             [
              0.4444444444444444,
              "#bd3786"
             ],
             [
              0.5555555555555556,
              "#d8576b"
             ],
             [
              0.6666666666666666,
              "#ed7953"
             ],
             [
              0.7777777777777778,
              "#fb9f3a"
             ],
             [
              0.8888888888888888,
              "#fdca26"
             ],
             [
              1,
              "#f0f921"
             ]
            ],
            "type": "surface"
           }
          ],
          "table": [
           {
            "cells": {
             "fill": {
              "color": "#EBF0F8"
             },
             "line": {
              "color": "white"
             }
            },
            "header": {
             "fill": {
              "color": "#C8D4E3"
             },
             "line": {
              "color": "white"
             }
            },
            "type": "table"
           }
          ]
         },
         "layout": {
          "annotationdefaults": {
           "arrowcolor": "#2a3f5f",
           "arrowhead": 0,
           "arrowwidth": 1
          },
          "autotypenumbers": "strict",
          "coloraxis": {
           "colorbar": {
            "outlinewidth": 0,
            "ticks": ""
           }
          },
          "colorscale": {
           "diverging": [
            [
             0,
             "#8e0152"
            ],
            [
             0.1,
             "#c51b7d"
            ],
            [
             0.2,
             "#de77ae"
            ],
            [
             0.3,
             "#f1b6da"
            ],
            [
             0.4,
             "#fde0ef"
            ],
            [
             0.5,
             "#f7f7f7"
            ],
            [
             0.6,
             "#e6f5d0"
            ],
            [
             0.7,
             "#b8e186"
            ],
            [
             0.8,
             "#7fbc41"
            ],
            [
             0.9,
             "#4d9221"
            ],
            [
             1,
             "#276419"
            ]
           ],
           "sequential": [
            [
             0,
             "#0d0887"
            ],
            [
             0.1111111111111111,
             "#46039f"
            ],
            [
             0.2222222222222222,
             "#7201a8"
            ],
            [
             0.3333333333333333,
             "#9c179e"
            ],
            [
             0.4444444444444444,
             "#bd3786"
            ],
            [
             0.5555555555555556,
             "#d8576b"
            ],
            [
             0.6666666666666666,
             "#ed7953"
            ],
            [
             0.7777777777777778,
             "#fb9f3a"
            ],
            [
             0.8888888888888888,
             "#fdca26"
            ],
            [
             1,
             "#f0f921"
            ]
           ],
           "sequentialminus": [
            [
             0,
             "#0d0887"
            ],
            [
             0.1111111111111111,
             "#46039f"
            ],
            [
             0.2222222222222222,
             "#7201a8"
            ],
            [
             0.3333333333333333,
             "#9c179e"
            ],
            [
             0.4444444444444444,
             "#bd3786"
            ],
            [
             0.5555555555555556,
             "#d8576b"
            ],
            [
             0.6666666666666666,
             "#ed7953"
            ],
            [
             0.7777777777777778,
             "#fb9f3a"
            ],
            [
             0.8888888888888888,
             "#fdca26"
            ],
            [
             1,
             "#f0f921"
            ]
           ]
          },
          "colorway": [
           "#636efa",
           "#EF553B",
           "#00cc96",
           "#ab63fa",
           "#FFA15A",
           "#19d3f3",
           "#FF6692",
           "#B6E880",
           "#FF97FF",
           "#FECB52"
          ],
          "font": {
           "color": "#2a3f5f"
          },
          "geo": {
           "bgcolor": "white",
           "lakecolor": "white",
           "landcolor": "#E5ECF6",
           "showlakes": true,
           "showland": true,
           "subunitcolor": "white"
          },
          "hoverlabel": {
           "align": "left"
          },
          "hovermode": "closest",
          "mapbox": {
           "style": "light"
          },
          "paper_bgcolor": "white",
          "plot_bgcolor": "#E5ECF6",
          "polar": {
           "angularaxis": {
            "gridcolor": "white",
            "linecolor": "white",
            "ticks": ""
           },
           "bgcolor": "#E5ECF6",
           "radialaxis": {
            "gridcolor": "white",
            "linecolor": "white",
            "ticks": ""
           }
          },
          "scene": {
           "xaxis": {
            "backgroundcolor": "#E5ECF6",
            "gridcolor": "white",
            "gridwidth": 2,
            "linecolor": "white",
            "showbackground": true,
            "ticks": "",
            "zerolinecolor": "white"
           },
           "yaxis": {
            "backgroundcolor": "#E5ECF6",
            "gridcolor": "white",
            "gridwidth": 2,
            "linecolor": "white",
            "showbackground": true,
            "ticks": "",
            "zerolinecolor": "white"
           },
           "zaxis": {
            "backgroundcolor": "#E5ECF6",
            "gridcolor": "white",
            "gridwidth": 2,
            "linecolor": "white",
            "showbackground": true,
            "ticks": "",
            "zerolinecolor": "white"
           }
          },
          "shapedefaults": {
           "line": {
            "color": "#2a3f5f"
           }
          },
          "ternary": {
           "aaxis": {
            "gridcolor": "white",
            "linecolor": "white",
            "ticks": ""
           },
           "baxis": {
            "gridcolor": "white",
            "linecolor": "white",
            "ticks": ""
           },
           "bgcolor": "#E5ECF6",
           "caxis": {
            "gridcolor": "white",
            "linecolor": "white",
            "ticks": ""
           }
          },
          "title": {
           "x": 0.05
          },
          "xaxis": {
           "automargin": true,
           "gridcolor": "white",
           "linecolor": "white",
           "ticks": "",
           "title": {
            "standoff": 15
           },
           "zerolinecolor": "white",
           "zerolinewidth": 2
          },
          "yaxis": {
           "automargin": true,
           "gridcolor": "white",
           "linecolor": "white",
           "ticks": "",
           "title": {
            "standoff": 15
           },
           "zerolinecolor": "white",
           "zerolinewidth": 2
          }
         }
        },
        "title": {
         "font": {
          "color": "white",
          "family": "Open Sans",
          "size": 30,
          "weight": "bold"
         },
         "text": "Mean Error",
         "x": 0.5,
         "xanchor": "center",
         "yanchor": "top"
        },
        "width": 600,
        "xaxis": {
         "anchor": "y",
         "categoryarray": [
          "Internal",
          "X-Scanner",
          "X-TracerI",
          "X-TracerII"
         ],
         "categoryorder": "array",
         "domain": [
          0,
          1
         ],
         "showgrid": false,
         "tickfont": {
          "color": "white",
          "size": 20
         },
         "title": {
          "text": "Group"
         }
        },
        "yaxis": {
         "anchor": "x",
         "domain": [
          0,
          1
         ],
         "showgrid": false,
         "tickfont": {
          "color": "white",
          "size": 20
         },
         "title": {
          "text": "SUV"
         },
         "zeroline": false
        }
       }
      },
      "text/html": [
       "<div>                            <div id=\"2af63a94-afa3-462d-af1f-36519deabbc0\" class=\"plotly-graph-div\" style=\"height:400px; width:600px;\"></div>            <script type=\"text/javascript\">                require([\"plotly\"], function(Plotly) {                    window.PLOTLYENV=window.PLOTLYENV || {};                                    if (document.getElementById(\"2af63a94-afa3-462d-af1f-36519deabbc0\")) {                    Plotly.newPlot(                        \"2af63a94-afa3-462d-af1f-36519deabbc0\",                        [{\"alignmentgroup\":\"True\",\"boxpoints\":\"suspectedoutliers\",\"hovertemplate\":\"Group=%{x}\\u003cbr\\u003eMean Error (SUV)=%{y}\\u003cextra\\u003e\\u003c\\u002fextra\\u003e\",\"legendgroup\":\"Internal\",\"marker\":{\"color\":\"#ffffff\"},\"name\":\"Internal\",\"notched\":false,\"offsetgroup\":\"Internal\",\"orientation\":\"v\",\"showlegend\":true,\"x\":[\"Internal\",\"Internal\",\"Internal\",\"Internal\",\"Internal\",\"Internal\",\"Internal\",\"Internal\"],\"x0\":\" \",\"xaxis\":\"x\",\"y\":[-1.1891445939476657,0.2519972390057742,-0.3452557280437059,0.4697239865537157,-0.2674774272445508,-1.1910467561811826,-0.571929280222022,-1.6510359789546527],\"y0\":\" \",\"yaxis\":\"y\",\"type\":\"box\"},{\"alignmentgroup\":\"True\",\"boxpoints\":\"suspectedoutliers\",\"hovertemplate\":\"Group=%{x}\\u003cbr\\u003eMean Error (SUV)=%{y}\\u003cextra\\u003e\\u003c\\u002fextra\\u003e\",\"legendgroup\":\"X-Scanner\",\"marker\":{\"color\":\"#2ca02c\"},\"name\":\"X-Scanner\",\"notched\":false,\"offsetgroup\":\"X-Scanner\",\"orientation\":\"v\",\"showlegend\":true,\"x\":[\"X-Scanner\",\"X-Scanner\",\"X-Scanner\",\"X-Scanner\",\"X-Scanner\",\"X-Scanner\",\"X-Scanner\",\"X-Scanner\",\"X-Scanner\",\"X-Scanner\",\"X-Scanner\",\"X-Scanner\"],\"x0\":\" \",\"xaxis\":\"x\",\"y\":[-2.8029822558851394,-2.61883826259063,-2.0589265409436432,-1.3804961383168628,-1.522223770412285,-1.9142766090558891,-2.5051036116480816,-1.4837188627091455,-1.57910135796933,-2.1175220181913006,-0.8593295086365987,-2.242819236182748],\"y0\":\" \",\"yaxis\":\"y\",\"type\":\"box\"},{\"alignmentgroup\":\"True\",\"boxpoints\":\"suspectedoutliers\",\"hovertemplate\":\"Group=%{x}\\u003cbr\\u003eMean Error (SUV)=%{y}\\u003cextra\\u003e\\u003c\\u002fextra\\u003e\",\"legendgroup\":\"X-TracerI\",\"marker\":{\"color\":\"#ff7f0e\"},\"name\":\"X-TracerI\",\"notched\":false,\"offsetgroup\":\"X-TracerI\",\"orientation\":\"v\",\"showlegend\":true,\"x\":[\"X-TracerI\",\"X-TracerI\",\"X-TracerI\",\"X-TracerI\",\"X-TracerI\",\"X-TracerI\",\"X-TracerI\",\"X-TracerI\",\"X-TracerI\",\"X-TracerI\"],\"x0\":\" \",\"xaxis\":\"x\",\"y\":[-0.2533228437352298,-0.7852880299539251,-0.5891696508336531,-0.4296144208442078,-0.5755135456364943,-0.3892674970584013,-0.4840485645080934,-0.3292656258239357,-0.3400530626732412,-0.3751449579957191],\"y0\":\" \",\"yaxis\":\"y\",\"type\":\"box\"},{\"alignmentgroup\":\"True\",\"boxpoints\":\"suspectedoutliers\",\"hovertemplate\":\"Group=%{x}\\u003cbr\\u003eMean Error (SUV)=%{y}\\u003cextra\\u003e\\u003c\\u002fextra\\u003e\",\"legendgroup\":\"X-TracerII\",\"marker\":{\"color\":\"#d62728\"},\"name\":\"X-TracerII\",\"notched\":false,\"offsetgroup\":\"X-TracerII\",\"orientation\":\"v\",\"showlegend\":true,\"x\":[\"X-TracerII\",\"X-TracerII\",\"X-TracerII\",\"X-TracerII\",\"X-TracerII\",\"X-TracerII\",\"X-TracerII\",\"X-TracerII\",\"X-TracerII\",\"X-TracerII\",\"X-TracerII\"],\"x0\":\" \",\"xaxis\":\"x\",\"y\":[-0.6534754940922887,-0.5654231048014308,-0.4301723711501698,-0.5165880588747674,-0.6677419447663477,-0.6584737454693153,-0.5517122499860377,-0.6939407854410562,-0.5987604593675865,-0.7300213318339184,-0.6785005724729886],\"y0\":\" \",\"yaxis\":\"y\",\"type\":\"box\"}],                        {\"template\":{\"data\":{\"histogram2dcontour\":[{\"type\":\"histogram2dcontour\",\"colorbar\":{\"outlinewidth\":0,\"ticks\":\"\"},\"colorscale\":[[0.0,\"#0d0887\"],[0.1111111111111111,\"#46039f\"],[0.2222222222222222,\"#7201a8\"],[0.3333333333333333,\"#9c179e\"],[0.4444444444444444,\"#bd3786\"],[0.5555555555555556,\"#d8576b\"],[0.6666666666666666,\"#ed7953\"],[0.7777777777777778,\"#fb9f3a\"],[0.8888888888888888,\"#fdca26\"],[1.0,\"#f0f921\"]]}],\"choropleth\":[{\"type\":\"choropleth\",\"colorbar\":{\"outlinewidth\":0,\"ticks\":\"\"}}],\"histogram2d\":[{\"type\":\"histogram2d\",\"colorbar\":{\"outlinewidth\":0,\"ticks\":\"\"},\"colorscale\":[[0.0,\"#0d0887\"],[0.1111111111111111,\"#46039f\"],[0.2222222222222222,\"#7201a8\"],[0.3333333333333333,\"#9c179e\"],[0.4444444444444444,\"#bd3786\"],[0.5555555555555556,\"#d8576b\"],[0.6666666666666666,\"#ed7953\"],[0.7777777777777778,\"#fb9f3a\"],[0.8888888888888888,\"#fdca26\"],[1.0,\"#f0f921\"]]}],\"heatmap\":[{\"type\":\"heatmap\",\"colorbar\":{\"outlinewidth\":0,\"ticks\":\"\"},\"colorscale\":[[0.0,\"#0d0887\"],[0.1111111111111111,\"#46039f\"],[0.2222222222222222,\"#7201a8\"],[0.3333333333333333,\"#9c179e\"],[0.4444444444444444,\"#bd3786\"],[0.5555555555555556,\"#d8576b\"],[0.6666666666666666,\"#ed7953\"],[0.7777777777777778,\"#fb9f3a\"],[0.8888888888888888,\"#fdca26\"],[1.0,\"#f0f921\"]]}],\"heatmapgl\":[{\"type\":\"heatmapgl\",\"colorbar\":{\"outlinewidth\":0,\"ticks\":\"\"},\"colorscale\":[[0.0,\"#0d0887\"],[0.1111111111111111,\"#46039f\"],[0.2222222222222222,\"#7201a8\"],[0.3333333333333333,\"#9c179e\"],[0.4444444444444444,\"#bd3786\"],[0.5555555555555556,\"#d8576b\"],[0.6666666666666666,\"#ed7953\"],[0.7777777777777778,\"#fb9f3a\"],[0.8888888888888888,\"#fdca26\"],[1.0,\"#f0f921\"]]}],\"contourcarpet\":[{\"type\":\"contourcarpet\",\"colorbar\":{\"outlinewidth\":0,\"ticks\":\"\"}}],\"contour\":[{\"type\":\"contour\",\"colorbar\":{\"outlinewidth\":0,\"ticks\":\"\"},\"colorscale\":[[0.0,\"#0d0887\"],[0.1111111111111111,\"#46039f\"],[0.2222222222222222,\"#7201a8\"],[0.3333333333333333,\"#9c179e\"],[0.4444444444444444,\"#bd3786\"],[0.5555555555555556,\"#d8576b\"],[0.6666666666666666,\"#ed7953\"],[0.7777777777777778,\"#fb9f3a\"],[0.8888888888888888,\"#fdca26\"],[1.0,\"#f0f921\"]]}],\"surface\":[{\"type\":\"surface\",\"colorbar\":{\"outlinewidth\":0,\"ticks\":\"\"},\"colorscale\":[[0.0,\"#0d0887\"],[0.1111111111111111,\"#46039f\"],[0.2222222222222222,\"#7201a8\"],[0.3333333333333333,\"#9c179e\"],[0.4444444444444444,\"#bd3786\"],[0.5555555555555556,\"#d8576b\"],[0.6666666666666666,\"#ed7953\"],[0.7777777777777778,\"#fb9f3a\"],[0.8888888888888888,\"#fdca26\"],[1.0,\"#f0f921\"]]}],\"mesh3d\":[{\"type\":\"mesh3d\",\"colorbar\":{\"outlinewidth\":0,\"ticks\":\"\"}}],\"scatter\":[{\"fillpattern\":{\"fillmode\":\"overlay\",\"size\":10,\"solidity\":0.2},\"type\":\"scatter\"}],\"parcoords\":[{\"type\":\"parcoords\",\"line\":{\"colorbar\":{\"outlinewidth\":0,\"ticks\":\"\"}}}],\"scatterpolargl\":[{\"type\":\"scatterpolargl\",\"marker\":{\"colorbar\":{\"outlinewidth\":0,\"ticks\":\"\"}}}],\"bar\":[{\"error_x\":{\"color\":\"#2a3f5f\"},\"error_y\":{\"color\":\"#2a3f5f\"},\"marker\":{\"line\":{\"color\":\"#E5ECF6\",\"width\":0.5},\"pattern\":{\"fillmode\":\"overlay\",\"size\":10,\"solidity\":0.2}},\"type\":\"bar\"}],\"scattergeo\":[{\"type\":\"scattergeo\",\"marker\":{\"colorbar\":{\"outlinewidth\":0,\"ticks\":\"\"}}}],\"scatterpolar\":[{\"type\":\"scatterpolar\",\"marker\":{\"colorbar\":{\"outlinewidth\":0,\"ticks\":\"\"}}}],\"histogram\":[{\"marker\":{\"pattern\":{\"fillmode\":\"overlay\",\"size\":10,\"solidity\":0.2}},\"type\":\"histogram\"}],\"scattergl\":[{\"type\":\"scattergl\",\"marker\":{\"colorbar\":{\"outlinewidth\":0,\"ticks\":\"\"}}}],\"scatter3d\":[{\"type\":\"scatter3d\",\"line\":{\"colorbar\":{\"outlinewidth\":0,\"ticks\":\"\"}},\"marker\":{\"colorbar\":{\"outlinewidth\":0,\"ticks\":\"\"}}}],\"scattermapbox\":[{\"type\":\"scattermapbox\",\"marker\":{\"colorbar\":{\"outlinewidth\":0,\"ticks\":\"\"}}}],\"scatterternary\":[{\"type\":\"scatterternary\",\"marker\":{\"colorbar\":{\"outlinewidth\":0,\"ticks\":\"\"}}}],\"scattercarpet\":[{\"type\":\"scattercarpet\",\"marker\":{\"colorbar\":{\"outlinewidth\":0,\"ticks\":\"\"}}}],\"carpet\":[{\"aaxis\":{\"endlinecolor\":\"#2a3f5f\",\"gridcolor\":\"white\",\"linecolor\":\"white\",\"minorgridcolor\":\"white\",\"startlinecolor\":\"#2a3f5f\"},\"baxis\":{\"endlinecolor\":\"#2a3f5f\",\"gridcolor\":\"white\",\"linecolor\":\"white\",\"minorgridcolor\":\"white\",\"startlinecolor\":\"#2a3f5f\"},\"type\":\"carpet\"}],\"table\":[{\"cells\":{\"fill\":{\"color\":\"#EBF0F8\"},\"line\":{\"color\":\"white\"}},\"header\":{\"fill\":{\"color\":\"#C8D4E3\"},\"line\":{\"color\":\"white\"}},\"type\":\"table\"}],\"barpolar\":[{\"marker\":{\"line\":{\"color\":\"#E5ECF6\",\"width\":0.5},\"pattern\":{\"fillmode\":\"overlay\",\"size\":10,\"solidity\":0.2}},\"type\":\"barpolar\"}],\"pie\":[{\"automargin\":true,\"type\":\"pie\"}]},\"layout\":{\"autotypenumbers\":\"strict\",\"colorway\":[\"#636efa\",\"#EF553B\",\"#00cc96\",\"#ab63fa\",\"#FFA15A\",\"#19d3f3\",\"#FF6692\",\"#B6E880\",\"#FF97FF\",\"#FECB52\"],\"font\":{\"color\":\"#2a3f5f\"},\"hovermode\":\"closest\",\"hoverlabel\":{\"align\":\"left\"},\"paper_bgcolor\":\"white\",\"plot_bgcolor\":\"#E5ECF6\",\"polar\":{\"bgcolor\":\"#E5ECF6\",\"angularaxis\":{\"gridcolor\":\"white\",\"linecolor\":\"white\",\"ticks\":\"\"},\"radialaxis\":{\"gridcolor\":\"white\",\"linecolor\":\"white\",\"ticks\":\"\"}},\"ternary\":{\"bgcolor\":\"#E5ECF6\",\"aaxis\":{\"gridcolor\":\"white\",\"linecolor\":\"white\",\"ticks\":\"\"},\"baxis\":{\"gridcolor\":\"white\",\"linecolor\":\"white\",\"ticks\":\"\"},\"caxis\":{\"gridcolor\":\"white\",\"linecolor\":\"white\",\"ticks\":\"\"}},\"coloraxis\":{\"colorbar\":{\"outlinewidth\":0,\"ticks\":\"\"}},\"colorscale\":{\"sequential\":[[0.0,\"#0d0887\"],[0.1111111111111111,\"#46039f\"],[0.2222222222222222,\"#7201a8\"],[0.3333333333333333,\"#9c179e\"],[0.4444444444444444,\"#bd3786\"],[0.5555555555555556,\"#d8576b\"],[0.6666666666666666,\"#ed7953\"],[0.7777777777777778,\"#fb9f3a\"],[0.8888888888888888,\"#fdca26\"],[1.0,\"#f0f921\"]],\"sequentialminus\":[[0.0,\"#0d0887\"],[0.1111111111111111,\"#46039f\"],[0.2222222222222222,\"#7201a8\"],[0.3333333333333333,\"#9c179e\"],[0.4444444444444444,\"#bd3786\"],[0.5555555555555556,\"#d8576b\"],[0.6666666666666666,\"#ed7953\"],[0.7777777777777778,\"#fb9f3a\"],[0.8888888888888888,\"#fdca26\"],[1.0,\"#f0f921\"]],\"diverging\":[[0,\"#8e0152\"],[0.1,\"#c51b7d\"],[0.2,\"#de77ae\"],[0.3,\"#f1b6da\"],[0.4,\"#fde0ef\"],[0.5,\"#f7f7f7\"],[0.6,\"#e6f5d0\"],[0.7,\"#b8e186\"],[0.8,\"#7fbc41\"],[0.9,\"#4d9221\"],[1,\"#276419\"]]},\"xaxis\":{\"gridcolor\":\"white\",\"linecolor\":\"white\",\"ticks\":\"\",\"title\":{\"standoff\":15},\"zerolinecolor\":\"white\",\"automargin\":true,\"zerolinewidth\":2},\"yaxis\":{\"gridcolor\":\"white\",\"linecolor\":\"white\",\"ticks\":\"\",\"title\":{\"standoff\":15},\"zerolinecolor\":\"white\",\"automargin\":true,\"zerolinewidth\":2},\"scene\":{\"xaxis\":{\"backgroundcolor\":\"#E5ECF6\",\"gridcolor\":\"white\",\"linecolor\":\"white\",\"showbackground\":true,\"ticks\":\"\",\"zerolinecolor\":\"white\",\"gridwidth\":2},\"yaxis\":{\"backgroundcolor\":\"#E5ECF6\",\"gridcolor\":\"white\",\"linecolor\":\"white\",\"showbackground\":true,\"ticks\":\"\",\"zerolinecolor\":\"white\",\"gridwidth\":2},\"zaxis\":{\"backgroundcolor\":\"#E5ECF6\",\"gridcolor\":\"white\",\"linecolor\":\"white\",\"showbackground\":true,\"ticks\":\"\",\"zerolinecolor\":\"white\",\"gridwidth\":2}},\"shapedefaults\":{\"line\":{\"color\":\"#2a3f5f\"}},\"annotationdefaults\":{\"arrowcolor\":\"#2a3f5f\",\"arrowhead\":0,\"arrowwidth\":1},\"geo\":{\"bgcolor\":\"white\",\"landcolor\":\"#E5ECF6\",\"subunitcolor\":\"white\",\"showland\":true,\"showlakes\":true,\"lakecolor\":\"white\"},\"title\":{\"x\":0.05},\"mapbox\":{\"style\":\"light\"}}},\"xaxis\":{\"anchor\":\"y\",\"domain\":[0.0,1.0],\"title\":{\"text\":\"Group\"},\"categoryorder\":\"array\",\"categoryarray\":[\"Internal\",\"X-Scanner\",\"X-TracerI\",\"X-TracerII\"],\"tickfont\":{\"size\":20,\"color\":\"white\"},\"showgrid\":false},\"yaxis\":{\"anchor\":\"x\",\"domain\":[0.0,1.0],\"title\":{\"text\":\"SUV\"},\"tickfont\":{\"size\":20,\"color\":\"white\"},\"showgrid\":false,\"zeroline\":false},\"legend\":{\"title\":{\"text\":\"Group\"},\"tracegroupgap\":0,\"font\":{\"size\":24,\"color\":\"white\"}},\"margin\":{\"t\":60},\"boxmode\":\"overlay\",\"title\":{\"font\":{\"color\":\"white\",\"size\":30,\"family\":\"Open Sans\",\"weight\":\"bold\"},\"text\":\"Mean Error\",\"x\":0.5,\"xanchor\":\"center\",\"yanchor\":\"top\"},\"font\":{\"family\":\"Open Sans\",\"size\":24,\"color\":\"white\"},\"plot_bgcolor\":\"rgba(0,0,0,0)\",\"paper_bgcolor\":\"rgba(0,0,0,0)\",\"height\":400,\"width\":600,\"showlegend\":false},                        {\"responsive\": true}                    ).then(function(){\n",
       "                            \n",
       "var gd = document.getElementById('2af63a94-afa3-462d-af1f-36519deabbc0');\n",
       "var x = new MutationObserver(function (mutations, observer) {{\n",
       "        var display = window.getComputedStyle(gd).display;\n",
       "        if (!display || display === 'none') {{\n",
       "            console.log([gd, 'removed!']);\n",
       "            Plotly.purge(gd);\n",
       "            observer.disconnect();\n",
       "        }}\n",
       "}});\n",
       "\n",
       "// Listen for the removal of the full notebook cells\n",
       "var notebookContainer = gd.closest('#notebook-container');\n",
       "if (notebookContainer) {{\n",
       "    x.observe(notebookContainer, {childList: true});\n",
       "}}\n",
       "\n",
       "// Listen for the clearing of the current output cell\n",
       "var outputEl = gd.closest('.output');\n",
       "if (outputEl) {{\n",
       "    x.observe(outputEl, {childList: true});\n",
       "}}\n",
       "\n",
       "                        })                };                });            </script>        </div>"
      ]
     },
     "metadata": {},
     "output_type": "display_data"
    },
    {
     "data": {
      "application/vnd.plotly.v1+json": {
       "config": {
        "plotlyServerURL": "https://plot.ly"
       },
       "data": [
        {
         "alignmentgroup": "True",
         "boxpoints": "suspectedoutliers",
         "hovertemplate": "Group=%{x}<br>Mean Absolure Error (SUV)=%{y}<extra></extra>",
         "legendgroup": "Internal",
         "marker": {
          "color": "#ffffff"
         },
         "name": "Internal",
         "notched": false,
         "offsetgroup": "Internal",
         "orientation": "v",
         "showlegend": true,
         "type": "box",
         "x": [
          "Internal",
          "Internal",
          "Internal",
          "Internal",
          "Internal",
          "Internal",
          "Internal",
          "Internal"
         ],
         "x0": " ",
         "xaxis": "x",
         "y": [
          1.517361489996696,
          0.8275240137907782,
          0.9869154858559932,
          0.9437248147227836,
          1.0744210906700502,
          1.5142801760010207,
          1.4565999868643928,
          1.88817761050526
         ],
         "y0": " ",
         "yaxis": "y"
        },
        {
         "alignmentgroup": "True",
         "boxpoints": "suspectedoutliers",
         "hovertemplate": "Group=%{x}<br>Mean Absolure Error (SUV)=%{y}<extra></extra>",
         "legendgroup": "X-Scanner",
         "marker": {
          "color": "#2ca02c"
         },
         "name": "X-Scanner",
         "notched": false,
         "offsetgroup": "X-Scanner",
         "orientation": "v",
         "showlegend": true,
         "type": "box",
         "x": [
          "X-Scanner",
          "X-Scanner",
          "X-Scanner",
          "X-Scanner",
          "X-Scanner",
          "X-Scanner",
          "X-Scanner",
          "X-Scanner",
          "X-Scanner",
          "X-Scanner",
          "X-Scanner",
          "X-Scanner"
         ],
         "x0": " ",
         "xaxis": "x",
         "y": [
          4.417342194370151,
          2.8076072389118965,
          2.4864845848901043,
          1.7319208581558423,
          1.7898230202118135,
          2.177386542876722,
          2.707857556805558,
          1.85889431495399,
          1.921940169312726,
          2.58854386999932,
          1.623257134108491,
          2.485387858809451
         ],
         "y0": " ",
         "yaxis": "y"
        },
        {
         "alignmentgroup": "True",
         "boxpoints": "suspectedoutliers",
         "hovertemplate": "Group=%{x}<br>Mean Absolure Error (SUV)=%{y}<extra></extra>",
         "legendgroup": "X-TracerI",
         "marker": {
          "color": "#ff7f0e"
         },
         "name": "X-TracerI",
         "notched": false,
         "offsetgroup": "X-TracerI",
         "orientation": "v",
         "showlegend": true,
         "type": "box",
         "x": [
          "X-TracerI",
          "X-TracerI",
          "X-TracerI",
          "X-TracerI",
          "X-TracerI",
          "X-TracerI",
          "X-TracerI",
          "X-TracerI",
          "X-TracerI",
          "X-TracerI"
         ],
         "x0": " ",
         "xaxis": "x",
         "y": [
          0.4917047478059849,
          0.9156344698244988,
          0.7324099092769698,
          0.7304263400792187,
          0.6670736154685519,
          0.6237066996545871,
          0.6552700578250187,
          0.5305214697610935,
          0.5487823306237434,
          0.5006862620773223
         ],
         "y0": " ",
         "yaxis": "y"
        },
        {
         "alignmentgroup": "True",
         "boxpoints": "suspectedoutliers",
         "hovertemplate": "Group=%{x}<br>Mean Absolure Error (SUV)=%{y}<extra></extra>",
         "legendgroup": "X-TracerII",
         "marker": {
          "color": "#d62728"
         },
         "name": "X-TracerII",
         "notched": false,
         "offsetgroup": "X-TracerII",
         "orientation": "v",
         "showlegend": true,
         "type": "box",
         "x": [
          "X-TracerII",
          "X-TracerII",
          "X-TracerII",
          "X-TracerII",
          "X-TracerII",
          "X-TracerII",
          "X-TracerII",
          "X-TracerII",
          "X-TracerII",
          "X-TracerII",
          "X-TracerII"
         ],
         "x0": " ",
         "xaxis": "x",
         "y": [
          0.7210977033710827,
          0.7456819546786527,
          0.5399609170216582,
          0.5986961414527346,
          0.7554271812442813,
          0.7156378882314999,
          0.6309174210748317,
          0.927649861417883,
          0.6681821982465295,
          0.923420638408704,
          0.7765314715813427
         ],
         "y0": " ",
         "yaxis": "y"
        }
       ],
       "layout": {
        "boxmode": "overlay",
        "font": {
         "color": "white",
         "family": "Open Sans",
         "size": 24
        },
        "height": 400,
        "legend": {
         "font": {
          "color": "white",
          "size": 24
         },
         "title": {
          "text": "Group"
         },
         "tracegroupgap": 0
        },
        "margin": {
         "t": 60
        },
        "paper_bgcolor": "rgba(0,0,0,0)",
        "plot_bgcolor": "rgba(0,0,0,0)",
        "showlegend": false,
        "template": {
         "data": {
          "bar": [
           {
            "error_x": {
             "color": "#2a3f5f"
            },
            "error_y": {
             "color": "#2a3f5f"
            },
            "marker": {
             "line": {
              "color": "#E5ECF6",
              "width": 0.5
             },
             "pattern": {
              "fillmode": "overlay",
              "size": 10,
              "solidity": 0.2
             }
            },
            "type": "bar"
           }
          ],
          "barpolar": [
           {
            "marker": {
             "line": {
              "color": "#E5ECF6",
              "width": 0.5
             },
             "pattern": {
              "fillmode": "overlay",
              "size": 10,
              "solidity": 0.2
             }
            },
            "type": "barpolar"
           }
          ],
          "carpet": [
           {
            "aaxis": {
             "endlinecolor": "#2a3f5f",
             "gridcolor": "white",
             "linecolor": "white",
             "minorgridcolor": "white",
             "startlinecolor": "#2a3f5f"
            },
            "baxis": {
             "endlinecolor": "#2a3f5f",
             "gridcolor": "white",
             "linecolor": "white",
             "minorgridcolor": "white",
             "startlinecolor": "#2a3f5f"
            },
            "type": "carpet"
           }
          ],
          "choropleth": [
           {
            "colorbar": {
             "outlinewidth": 0,
             "ticks": ""
            },
            "type": "choropleth"
           }
          ],
          "contour": [
           {
            "colorbar": {
             "outlinewidth": 0,
             "ticks": ""
            },
            "colorscale": [
             [
              0,
              "#0d0887"
             ],
             [
              0.1111111111111111,
              "#46039f"
             ],
             [
              0.2222222222222222,
              "#7201a8"
             ],
             [
              0.3333333333333333,
              "#9c179e"
             ],
             [
              0.4444444444444444,
              "#bd3786"
             ],
             [
              0.5555555555555556,
              "#d8576b"
             ],
             [
              0.6666666666666666,
              "#ed7953"
             ],
             [
              0.7777777777777778,
              "#fb9f3a"
             ],
             [
              0.8888888888888888,
              "#fdca26"
             ],
             [
              1,
              "#f0f921"
             ]
            ],
            "type": "contour"
           }
          ],
          "contourcarpet": [
           {
            "colorbar": {
             "outlinewidth": 0,
             "ticks": ""
            },
            "type": "contourcarpet"
           }
          ],
          "heatmap": [
           {
            "colorbar": {
             "outlinewidth": 0,
             "ticks": ""
            },
            "colorscale": [
             [
              0,
              "#0d0887"
             ],
             [
              0.1111111111111111,
              "#46039f"
             ],
             [
              0.2222222222222222,
              "#7201a8"
             ],
             [
              0.3333333333333333,
              "#9c179e"
             ],
             [
              0.4444444444444444,
              "#bd3786"
             ],
             [
              0.5555555555555556,
              "#d8576b"
             ],
             [
              0.6666666666666666,
              "#ed7953"
             ],
             [
              0.7777777777777778,
              "#fb9f3a"
             ],
             [
              0.8888888888888888,
              "#fdca26"
             ],
             [
              1,
              "#f0f921"
             ]
            ],
            "type": "heatmap"
           }
          ],
          "heatmapgl": [
           {
            "colorbar": {
             "outlinewidth": 0,
             "ticks": ""
            },
            "colorscale": [
             [
              0,
              "#0d0887"
             ],
             [
              0.1111111111111111,
              "#46039f"
             ],
             [
              0.2222222222222222,
              "#7201a8"
             ],
             [
              0.3333333333333333,
              "#9c179e"
             ],
             [
              0.4444444444444444,
              "#bd3786"
             ],
             [
              0.5555555555555556,
              "#d8576b"
             ],
             [
              0.6666666666666666,
              "#ed7953"
             ],
             [
              0.7777777777777778,
              "#fb9f3a"
             ],
             [
              0.8888888888888888,
              "#fdca26"
             ],
             [
              1,
              "#f0f921"
             ]
            ],
            "type": "heatmapgl"
           }
          ],
          "histogram": [
           {
            "marker": {
             "pattern": {
              "fillmode": "overlay",
              "size": 10,
              "solidity": 0.2
             }
            },
            "type": "histogram"
           }
          ],
          "histogram2d": [
           {
            "colorbar": {
             "outlinewidth": 0,
             "ticks": ""
            },
            "colorscale": [
             [
              0,
              "#0d0887"
             ],
             [
              0.1111111111111111,
              "#46039f"
             ],
             [
              0.2222222222222222,
              "#7201a8"
             ],
             [
              0.3333333333333333,
              "#9c179e"
             ],
             [
              0.4444444444444444,
              "#bd3786"
             ],
             [
              0.5555555555555556,
              "#d8576b"
             ],
             [
              0.6666666666666666,
              "#ed7953"
             ],
             [
              0.7777777777777778,
              "#fb9f3a"
             ],
             [
              0.8888888888888888,
              "#fdca26"
             ],
             [
              1,
              "#f0f921"
             ]
            ],
            "type": "histogram2d"
           }
          ],
          "histogram2dcontour": [
           {
            "colorbar": {
             "outlinewidth": 0,
             "ticks": ""
            },
            "colorscale": [
             [
              0,
              "#0d0887"
             ],
             [
              0.1111111111111111,
              "#46039f"
             ],
             [
              0.2222222222222222,
              "#7201a8"
             ],
             [
              0.3333333333333333,
              "#9c179e"
             ],
             [
              0.4444444444444444,
              "#bd3786"
             ],
             [
              0.5555555555555556,
              "#d8576b"
             ],
             [
              0.6666666666666666,
              "#ed7953"
             ],
             [
              0.7777777777777778,
              "#fb9f3a"
             ],
             [
              0.8888888888888888,
              "#fdca26"
             ],
             [
              1,
              "#f0f921"
             ]
            ],
            "type": "histogram2dcontour"
           }
          ],
          "mesh3d": [
           {
            "colorbar": {
             "outlinewidth": 0,
             "ticks": ""
            },
            "type": "mesh3d"
           }
          ],
          "parcoords": [
           {
            "line": {
             "colorbar": {
              "outlinewidth": 0,
              "ticks": ""
             }
            },
            "type": "parcoords"
           }
          ],
          "pie": [
           {
            "automargin": true,
            "type": "pie"
           }
          ],
          "scatter": [
           {
            "fillpattern": {
             "fillmode": "overlay",
             "size": 10,
             "solidity": 0.2
            },
            "type": "scatter"
           }
          ],
          "scatter3d": [
           {
            "line": {
             "colorbar": {
              "outlinewidth": 0,
              "ticks": ""
             }
            },
            "marker": {
             "colorbar": {
              "outlinewidth": 0,
              "ticks": ""
             }
            },
            "type": "scatter3d"
           }
          ],
          "scattercarpet": [
           {
            "marker": {
             "colorbar": {
              "outlinewidth": 0,
              "ticks": ""
             }
            },
            "type": "scattercarpet"
           }
          ],
          "scattergeo": [
           {
            "marker": {
             "colorbar": {
              "outlinewidth": 0,
              "ticks": ""
             }
            },
            "type": "scattergeo"
           }
          ],
          "scattergl": [
           {
            "marker": {
             "colorbar": {
              "outlinewidth": 0,
              "ticks": ""
             }
            },
            "type": "scattergl"
           }
          ],
          "scattermapbox": [
           {
            "marker": {
             "colorbar": {
              "outlinewidth": 0,
              "ticks": ""
             }
            },
            "type": "scattermapbox"
           }
          ],
          "scatterpolar": [
           {
            "marker": {
             "colorbar": {
              "outlinewidth": 0,
              "ticks": ""
             }
            },
            "type": "scatterpolar"
           }
          ],
          "scatterpolargl": [
           {
            "marker": {
             "colorbar": {
              "outlinewidth": 0,
              "ticks": ""
             }
            },
            "type": "scatterpolargl"
           }
          ],
          "scatterternary": [
           {
            "marker": {
             "colorbar": {
              "outlinewidth": 0,
              "ticks": ""
             }
            },
            "type": "scatterternary"
           }
          ],
          "surface": [
           {
            "colorbar": {
             "outlinewidth": 0,
             "ticks": ""
            },
            "colorscale": [
             [
              0,
              "#0d0887"
             ],
             [
              0.1111111111111111,
              "#46039f"
             ],
             [
              0.2222222222222222,
              "#7201a8"
             ],
             [
              0.3333333333333333,
              "#9c179e"
             ],
             [
              0.4444444444444444,
              "#bd3786"
             ],
             [
              0.5555555555555556,
              "#d8576b"
             ],
             [
              0.6666666666666666,
              "#ed7953"
             ],
             [
              0.7777777777777778,
              "#fb9f3a"
             ],
             [
              0.8888888888888888,
              "#fdca26"
             ],
             [
              1,
              "#f0f921"
             ]
            ],
            "type": "surface"
           }
          ],
          "table": [
           {
            "cells": {
             "fill": {
              "color": "#EBF0F8"
             },
             "line": {
              "color": "white"
             }
            },
            "header": {
             "fill": {
              "color": "#C8D4E3"
             },
             "line": {
              "color": "white"
             }
            },
            "type": "table"
           }
          ]
         },
         "layout": {
          "annotationdefaults": {
           "arrowcolor": "#2a3f5f",
           "arrowhead": 0,
           "arrowwidth": 1
          },
          "autotypenumbers": "strict",
          "coloraxis": {
           "colorbar": {
            "outlinewidth": 0,
            "ticks": ""
           }
          },
          "colorscale": {
           "diverging": [
            [
             0,
             "#8e0152"
            ],
            [
             0.1,
             "#c51b7d"
            ],
            [
             0.2,
             "#de77ae"
            ],
            [
             0.3,
             "#f1b6da"
            ],
            [
             0.4,
             "#fde0ef"
            ],
            [
             0.5,
             "#f7f7f7"
            ],
            [
             0.6,
             "#e6f5d0"
            ],
            [
             0.7,
             "#b8e186"
            ],
            [
             0.8,
             "#7fbc41"
            ],
            [
             0.9,
             "#4d9221"
            ],
            [
             1,
             "#276419"
            ]
           ],
           "sequential": [
            [
             0,
             "#0d0887"
            ],
            [
             0.1111111111111111,
             "#46039f"
            ],
            [
             0.2222222222222222,
             "#7201a8"
            ],
            [
             0.3333333333333333,
             "#9c179e"
            ],
            [
             0.4444444444444444,
             "#bd3786"
            ],
            [
             0.5555555555555556,
             "#d8576b"
            ],
            [
             0.6666666666666666,
             "#ed7953"
            ],
            [
             0.7777777777777778,
             "#fb9f3a"
            ],
            [
             0.8888888888888888,
             "#fdca26"
            ],
            [
             1,
             "#f0f921"
            ]
           ],
           "sequentialminus": [
            [
             0,
             "#0d0887"
            ],
            [
             0.1111111111111111,
             "#46039f"
            ],
            [
             0.2222222222222222,
             "#7201a8"
            ],
            [
             0.3333333333333333,
             "#9c179e"
            ],
            [
             0.4444444444444444,
             "#bd3786"
            ],
            [
             0.5555555555555556,
             "#d8576b"
            ],
            [
             0.6666666666666666,
             "#ed7953"
            ],
            [
             0.7777777777777778,
             "#fb9f3a"
            ],
            [
             0.8888888888888888,
             "#fdca26"
            ],
            [
             1,
             "#f0f921"
            ]
           ]
          },
          "colorway": [
           "#636efa",
           "#EF553B",
           "#00cc96",
           "#ab63fa",
           "#FFA15A",
           "#19d3f3",
           "#FF6692",
           "#B6E880",
           "#FF97FF",
           "#FECB52"
          ],
          "font": {
           "color": "#2a3f5f"
          },
          "geo": {
           "bgcolor": "white",
           "lakecolor": "white",
           "landcolor": "#E5ECF6",
           "showlakes": true,
           "showland": true,
           "subunitcolor": "white"
          },
          "hoverlabel": {
           "align": "left"
          },
          "hovermode": "closest",
          "mapbox": {
           "style": "light"
          },
          "paper_bgcolor": "white",
          "plot_bgcolor": "#E5ECF6",
          "polar": {
           "angularaxis": {
            "gridcolor": "white",
            "linecolor": "white",
            "ticks": ""
           },
           "bgcolor": "#E5ECF6",
           "radialaxis": {
            "gridcolor": "white",
            "linecolor": "white",
            "ticks": ""
           }
          },
          "scene": {
           "xaxis": {
            "backgroundcolor": "#E5ECF6",
            "gridcolor": "white",
            "gridwidth": 2,
            "linecolor": "white",
            "showbackground": true,
            "ticks": "",
            "zerolinecolor": "white"
           },
           "yaxis": {
            "backgroundcolor": "#E5ECF6",
            "gridcolor": "white",
            "gridwidth": 2,
            "linecolor": "white",
            "showbackground": true,
            "ticks": "",
            "zerolinecolor": "white"
           },
           "zaxis": {
            "backgroundcolor": "#E5ECF6",
            "gridcolor": "white",
            "gridwidth": 2,
            "linecolor": "white",
            "showbackground": true,
            "ticks": "",
            "zerolinecolor": "white"
           }
          },
          "shapedefaults": {
           "line": {
            "color": "#2a3f5f"
           }
          },
          "ternary": {
           "aaxis": {
            "gridcolor": "white",
            "linecolor": "white",
            "ticks": ""
           },
           "baxis": {
            "gridcolor": "white",
            "linecolor": "white",
            "ticks": ""
           },
           "bgcolor": "#E5ECF6",
           "caxis": {
            "gridcolor": "white",
            "linecolor": "white",
            "ticks": ""
           }
          },
          "title": {
           "x": 0.05
          },
          "xaxis": {
           "automargin": true,
           "gridcolor": "white",
           "linecolor": "white",
           "ticks": "",
           "title": {
            "standoff": 15
           },
           "zerolinecolor": "white",
           "zerolinewidth": 2
          },
          "yaxis": {
           "automargin": true,
           "gridcolor": "white",
           "linecolor": "white",
           "ticks": "",
           "title": {
            "standoff": 15
           },
           "zerolinecolor": "white",
           "zerolinewidth": 2
          }
         }
        },
        "title": {
         "font": {
          "color": "white",
          "family": "Open Sans",
          "size": 30,
          "weight": "bold"
         },
         "text": "Mean Absolute Error",
         "x": 0.5,
         "xanchor": "center",
         "yanchor": "top"
        },
        "width": 600,
        "xaxis": {
         "anchor": "y",
         "categoryarray": [
          "Internal",
          "X-Scanner",
          "X-TracerI",
          "X-TracerII"
         ],
         "categoryorder": "array",
         "domain": [
          0,
          1
         ],
         "showgrid": false,
         "tickfont": {
          "color": "white",
          "size": 20
         },
         "title": {
          "text": "Group"
         }
        },
        "yaxis": {
         "anchor": "x",
         "domain": [
          0,
          1
         ],
         "showgrid": false,
         "tickfont": {
          "color": "white",
          "size": 20
         },
         "title": {
          "text": "SUV"
         },
         "zeroline": false
        }
       }
      },
      "text/html": [
       "<div>                            <div id=\"c509fc50-01ad-4813-8ae6-674ebe4e866a\" class=\"plotly-graph-div\" style=\"height:400px; width:600px;\"></div>            <script type=\"text/javascript\">                require([\"plotly\"], function(Plotly) {                    window.PLOTLYENV=window.PLOTLYENV || {};                                    if (document.getElementById(\"c509fc50-01ad-4813-8ae6-674ebe4e866a\")) {                    Plotly.newPlot(                        \"c509fc50-01ad-4813-8ae6-674ebe4e866a\",                        [{\"alignmentgroup\":\"True\",\"boxpoints\":\"suspectedoutliers\",\"hovertemplate\":\"Group=%{x}\\u003cbr\\u003eMean Absolure Error (SUV)=%{y}\\u003cextra\\u003e\\u003c\\u002fextra\\u003e\",\"legendgroup\":\"Internal\",\"marker\":{\"color\":\"#ffffff\"},\"name\":\"Internal\",\"notched\":false,\"offsetgroup\":\"Internal\",\"orientation\":\"v\",\"showlegend\":true,\"x\":[\"Internal\",\"Internal\",\"Internal\",\"Internal\",\"Internal\",\"Internal\",\"Internal\",\"Internal\"],\"x0\":\" \",\"xaxis\":\"x\",\"y\":[1.517361489996696,0.8275240137907782,0.9869154858559932,0.9437248147227836,1.0744210906700502,1.5142801760010207,1.4565999868643928,1.88817761050526],\"y0\":\" \",\"yaxis\":\"y\",\"type\":\"box\"},{\"alignmentgroup\":\"True\",\"boxpoints\":\"suspectedoutliers\",\"hovertemplate\":\"Group=%{x}\\u003cbr\\u003eMean Absolure Error (SUV)=%{y}\\u003cextra\\u003e\\u003c\\u002fextra\\u003e\",\"legendgroup\":\"X-Scanner\",\"marker\":{\"color\":\"#2ca02c\"},\"name\":\"X-Scanner\",\"notched\":false,\"offsetgroup\":\"X-Scanner\",\"orientation\":\"v\",\"showlegend\":true,\"x\":[\"X-Scanner\",\"X-Scanner\",\"X-Scanner\",\"X-Scanner\",\"X-Scanner\",\"X-Scanner\",\"X-Scanner\",\"X-Scanner\",\"X-Scanner\",\"X-Scanner\",\"X-Scanner\",\"X-Scanner\"],\"x0\":\" \",\"xaxis\":\"x\",\"y\":[4.417342194370151,2.8076072389118965,2.4864845848901043,1.7319208581558423,1.7898230202118135,2.177386542876722,2.707857556805558,1.85889431495399,1.921940169312726,2.58854386999932,1.623257134108491,2.485387858809451],\"y0\":\" \",\"yaxis\":\"y\",\"type\":\"box\"},{\"alignmentgroup\":\"True\",\"boxpoints\":\"suspectedoutliers\",\"hovertemplate\":\"Group=%{x}\\u003cbr\\u003eMean Absolure Error (SUV)=%{y}\\u003cextra\\u003e\\u003c\\u002fextra\\u003e\",\"legendgroup\":\"X-TracerI\",\"marker\":{\"color\":\"#ff7f0e\"},\"name\":\"X-TracerI\",\"notched\":false,\"offsetgroup\":\"X-TracerI\",\"orientation\":\"v\",\"showlegend\":true,\"x\":[\"X-TracerI\",\"X-TracerI\",\"X-TracerI\",\"X-TracerI\",\"X-TracerI\",\"X-TracerI\",\"X-TracerI\",\"X-TracerI\",\"X-TracerI\",\"X-TracerI\"],\"x0\":\" \",\"xaxis\":\"x\",\"y\":[0.4917047478059849,0.9156344698244988,0.7324099092769698,0.7304263400792187,0.6670736154685519,0.6237066996545871,0.6552700578250187,0.5305214697610935,0.5487823306237434,0.5006862620773223],\"y0\":\" \",\"yaxis\":\"y\",\"type\":\"box\"},{\"alignmentgroup\":\"True\",\"boxpoints\":\"suspectedoutliers\",\"hovertemplate\":\"Group=%{x}\\u003cbr\\u003eMean Absolure Error (SUV)=%{y}\\u003cextra\\u003e\\u003c\\u002fextra\\u003e\",\"legendgroup\":\"X-TracerII\",\"marker\":{\"color\":\"#d62728\"},\"name\":\"X-TracerII\",\"notched\":false,\"offsetgroup\":\"X-TracerII\",\"orientation\":\"v\",\"showlegend\":true,\"x\":[\"X-TracerII\",\"X-TracerII\",\"X-TracerII\",\"X-TracerII\",\"X-TracerII\",\"X-TracerII\",\"X-TracerII\",\"X-TracerII\",\"X-TracerII\",\"X-TracerII\",\"X-TracerII\"],\"x0\":\" \",\"xaxis\":\"x\",\"y\":[0.7210977033710827,0.7456819546786527,0.5399609170216582,0.5986961414527346,0.7554271812442813,0.7156378882314999,0.6309174210748317,0.927649861417883,0.6681821982465295,0.923420638408704,0.7765314715813427],\"y0\":\" \",\"yaxis\":\"y\",\"type\":\"box\"}],                        {\"template\":{\"data\":{\"histogram2dcontour\":[{\"type\":\"histogram2dcontour\",\"colorbar\":{\"outlinewidth\":0,\"ticks\":\"\"},\"colorscale\":[[0.0,\"#0d0887\"],[0.1111111111111111,\"#46039f\"],[0.2222222222222222,\"#7201a8\"],[0.3333333333333333,\"#9c179e\"],[0.4444444444444444,\"#bd3786\"],[0.5555555555555556,\"#d8576b\"],[0.6666666666666666,\"#ed7953\"],[0.7777777777777778,\"#fb9f3a\"],[0.8888888888888888,\"#fdca26\"],[1.0,\"#f0f921\"]]}],\"choropleth\":[{\"type\":\"choropleth\",\"colorbar\":{\"outlinewidth\":0,\"ticks\":\"\"}}],\"histogram2d\":[{\"type\":\"histogram2d\",\"colorbar\":{\"outlinewidth\":0,\"ticks\":\"\"},\"colorscale\":[[0.0,\"#0d0887\"],[0.1111111111111111,\"#46039f\"],[0.2222222222222222,\"#7201a8\"],[0.3333333333333333,\"#9c179e\"],[0.4444444444444444,\"#bd3786\"],[0.5555555555555556,\"#d8576b\"],[0.6666666666666666,\"#ed7953\"],[0.7777777777777778,\"#fb9f3a\"],[0.8888888888888888,\"#fdca26\"],[1.0,\"#f0f921\"]]}],\"heatmap\":[{\"type\":\"heatmap\",\"colorbar\":{\"outlinewidth\":0,\"ticks\":\"\"},\"colorscale\":[[0.0,\"#0d0887\"],[0.1111111111111111,\"#46039f\"],[0.2222222222222222,\"#7201a8\"],[0.3333333333333333,\"#9c179e\"],[0.4444444444444444,\"#bd3786\"],[0.5555555555555556,\"#d8576b\"],[0.6666666666666666,\"#ed7953\"],[0.7777777777777778,\"#fb9f3a\"],[0.8888888888888888,\"#fdca26\"],[1.0,\"#f0f921\"]]}],\"heatmapgl\":[{\"type\":\"heatmapgl\",\"colorbar\":{\"outlinewidth\":0,\"ticks\":\"\"},\"colorscale\":[[0.0,\"#0d0887\"],[0.1111111111111111,\"#46039f\"],[0.2222222222222222,\"#7201a8\"],[0.3333333333333333,\"#9c179e\"],[0.4444444444444444,\"#bd3786\"],[0.5555555555555556,\"#d8576b\"],[0.6666666666666666,\"#ed7953\"],[0.7777777777777778,\"#fb9f3a\"],[0.8888888888888888,\"#fdca26\"],[1.0,\"#f0f921\"]]}],\"contourcarpet\":[{\"type\":\"contourcarpet\",\"colorbar\":{\"outlinewidth\":0,\"ticks\":\"\"}}],\"contour\":[{\"type\":\"contour\",\"colorbar\":{\"outlinewidth\":0,\"ticks\":\"\"},\"colorscale\":[[0.0,\"#0d0887\"],[0.1111111111111111,\"#46039f\"],[0.2222222222222222,\"#7201a8\"],[0.3333333333333333,\"#9c179e\"],[0.4444444444444444,\"#bd3786\"],[0.5555555555555556,\"#d8576b\"],[0.6666666666666666,\"#ed7953\"],[0.7777777777777778,\"#fb9f3a\"],[0.8888888888888888,\"#fdca26\"],[1.0,\"#f0f921\"]]}],\"surface\":[{\"type\":\"surface\",\"colorbar\":{\"outlinewidth\":0,\"ticks\":\"\"},\"colorscale\":[[0.0,\"#0d0887\"],[0.1111111111111111,\"#46039f\"],[0.2222222222222222,\"#7201a8\"],[0.3333333333333333,\"#9c179e\"],[0.4444444444444444,\"#bd3786\"],[0.5555555555555556,\"#d8576b\"],[0.6666666666666666,\"#ed7953\"],[0.7777777777777778,\"#fb9f3a\"],[0.8888888888888888,\"#fdca26\"],[1.0,\"#f0f921\"]]}],\"mesh3d\":[{\"type\":\"mesh3d\",\"colorbar\":{\"outlinewidth\":0,\"ticks\":\"\"}}],\"scatter\":[{\"fillpattern\":{\"fillmode\":\"overlay\",\"size\":10,\"solidity\":0.2},\"type\":\"scatter\"}],\"parcoords\":[{\"type\":\"parcoords\",\"line\":{\"colorbar\":{\"outlinewidth\":0,\"ticks\":\"\"}}}],\"scatterpolargl\":[{\"type\":\"scatterpolargl\",\"marker\":{\"colorbar\":{\"outlinewidth\":0,\"ticks\":\"\"}}}],\"bar\":[{\"error_x\":{\"color\":\"#2a3f5f\"},\"error_y\":{\"color\":\"#2a3f5f\"},\"marker\":{\"line\":{\"color\":\"#E5ECF6\",\"width\":0.5},\"pattern\":{\"fillmode\":\"overlay\",\"size\":10,\"solidity\":0.2}},\"type\":\"bar\"}],\"scattergeo\":[{\"type\":\"scattergeo\",\"marker\":{\"colorbar\":{\"outlinewidth\":0,\"ticks\":\"\"}}}],\"scatterpolar\":[{\"type\":\"scatterpolar\",\"marker\":{\"colorbar\":{\"outlinewidth\":0,\"ticks\":\"\"}}}],\"histogram\":[{\"marker\":{\"pattern\":{\"fillmode\":\"overlay\",\"size\":10,\"solidity\":0.2}},\"type\":\"histogram\"}],\"scattergl\":[{\"type\":\"scattergl\",\"marker\":{\"colorbar\":{\"outlinewidth\":0,\"ticks\":\"\"}}}],\"scatter3d\":[{\"type\":\"scatter3d\",\"line\":{\"colorbar\":{\"outlinewidth\":0,\"ticks\":\"\"}},\"marker\":{\"colorbar\":{\"outlinewidth\":0,\"ticks\":\"\"}}}],\"scattermapbox\":[{\"type\":\"scattermapbox\",\"marker\":{\"colorbar\":{\"outlinewidth\":0,\"ticks\":\"\"}}}],\"scatterternary\":[{\"type\":\"scatterternary\",\"marker\":{\"colorbar\":{\"outlinewidth\":0,\"ticks\":\"\"}}}],\"scattercarpet\":[{\"type\":\"scattercarpet\",\"marker\":{\"colorbar\":{\"outlinewidth\":0,\"ticks\":\"\"}}}],\"carpet\":[{\"aaxis\":{\"endlinecolor\":\"#2a3f5f\",\"gridcolor\":\"white\",\"linecolor\":\"white\",\"minorgridcolor\":\"white\",\"startlinecolor\":\"#2a3f5f\"},\"baxis\":{\"endlinecolor\":\"#2a3f5f\",\"gridcolor\":\"white\",\"linecolor\":\"white\",\"minorgridcolor\":\"white\",\"startlinecolor\":\"#2a3f5f\"},\"type\":\"carpet\"}],\"table\":[{\"cells\":{\"fill\":{\"color\":\"#EBF0F8\"},\"line\":{\"color\":\"white\"}},\"header\":{\"fill\":{\"color\":\"#C8D4E3\"},\"line\":{\"color\":\"white\"}},\"type\":\"table\"}],\"barpolar\":[{\"marker\":{\"line\":{\"color\":\"#E5ECF6\",\"width\":0.5},\"pattern\":{\"fillmode\":\"overlay\",\"size\":10,\"solidity\":0.2}},\"type\":\"barpolar\"}],\"pie\":[{\"automargin\":true,\"type\":\"pie\"}]},\"layout\":{\"autotypenumbers\":\"strict\",\"colorway\":[\"#636efa\",\"#EF553B\",\"#00cc96\",\"#ab63fa\",\"#FFA15A\",\"#19d3f3\",\"#FF6692\",\"#B6E880\",\"#FF97FF\",\"#FECB52\"],\"font\":{\"color\":\"#2a3f5f\"},\"hovermode\":\"closest\",\"hoverlabel\":{\"align\":\"left\"},\"paper_bgcolor\":\"white\",\"plot_bgcolor\":\"#E5ECF6\",\"polar\":{\"bgcolor\":\"#E5ECF6\",\"angularaxis\":{\"gridcolor\":\"white\",\"linecolor\":\"white\",\"ticks\":\"\"},\"radialaxis\":{\"gridcolor\":\"white\",\"linecolor\":\"white\",\"ticks\":\"\"}},\"ternary\":{\"bgcolor\":\"#E5ECF6\",\"aaxis\":{\"gridcolor\":\"white\",\"linecolor\":\"white\",\"ticks\":\"\"},\"baxis\":{\"gridcolor\":\"white\",\"linecolor\":\"white\",\"ticks\":\"\"},\"caxis\":{\"gridcolor\":\"white\",\"linecolor\":\"white\",\"ticks\":\"\"}},\"coloraxis\":{\"colorbar\":{\"outlinewidth\":0,\"ticks\":\"\"}},\"colorscale\":{\"sequential\":[[0.0,\"#0d0887\"],[0.1111111111111111,\"#46039f\"],[0.2222222222222222,\"#7201a8\"],[0.3333333333333333,\"#9c179e\"],[0.4444444444444444,\"#bd3786\"],[0.5555555555555556,\"#d8576b\"],[0.6666666666666666,\"#ed7953\"],[0.7777777777777778,\"#fb9f3a\"],[0.8888888888888888,\"#fdca26\"],[1.0,\"#f0f921\"]],\"sequentialminus\":[[0.0,\"#0d0887\"],[0.1111111111111111,\"#46039f\"],[0.2222222222222222,\"#7201a8\"],[0.3333333333333333,\"#9c179e\"],[0.4444444444444444,\"#bd3786\"],[0.5555555555555556,\"#d8576b\"],[0.6666666666666666,\"#ed7953\"],[0.7777777777777778,\"#fb9f3a\"],[0.8888888888888888,\"#fdca26\"],[1.0,\"#f0f921\"]],\"diverging\":[[0,\"#8e0152\"],[0.1,\"#c51b7d\"],[0.2,\"#de77ae\"],[0.3,\"#f1b6da\"],[0.4,\"#fde0ef\"],[0.5,\"#f7f7f7\"],[0.6,\"#e6f5d0\"],[0.7,\"#b8e186\"],[0.8,\"#7fbc41\"],[0.9,\"#4d9221\"],[1,\"#276419\"]]},\"xaxis\":{\"gridcolor\":\"white\",\"linecolor\":\"white\",\"ticks\":\"\",\"title\":{\"standoff\":15},\"zerolinecolor\":\"white\",\"automargin\":true,\"zerolinewidth\":2},\"yaxis\":{\"gridcolor\":\"white\",\"linecolor\":\"white\",\"ticks\":\"\",\"title\":{\"standoff\":15},\"zerolinecolor\":\"white\",\"automargin\":true,\"zerolinewidth\":2},\"scene\":{\"xaxis\":{\"backgroundcolor\":\"#E5ECF6\",\"gridcolor\":\"white\",\"linecolor\":\"white\",\"showbackground\":true,\"ticks\":\"\",\"zerolinecolor\":\"white\",\"gridwidth\":2},\"yaxis\":{\"backgroundcolor\":\"#E5ECF6\",\"gridcolor\":\"white\",\"linecolor\":\"white\",\"showbackground\":true,\"ticks\":\"\",\"zerolinecolor\":\"white\",\"gridwidth\":2},\"zaxis\":{\"backgroundcolor\":\"#E5ECF6\",\"gridcolor\":\"white\",\"linecolor\":\"white\",\"showbackground\":true,\"ticks\":\"\",\"zerolinecolor\":\"white\",\"gridwidth\":2}},\"shapedefaults\":{\"line\":{\"color\":\"#2a3f5f\"}},\"annotationdefaults\":{\"arrowcolor\":\"#2a3f5f\",\"arrowhead\":0,\"arrowwidth\":1},\"geo\":{\"bgcolor\":\"white\",\"landcolor\":\"#E5ECF6\",\"subunitcolor\":\"white\",\"showland\":true,\"showlakes\":true,\"lakecolor\":\"white\"},\"title\":{\"x\":0.05},\"mapbox\":{\"style\":\"light\"}}},\"xaxis\":{\"anchor\":\"y\",\"domain\":[0.0,1.0],\"title\":{\"text\":\"Group\"},\"categoryorder\":\"array\",\"categoryarray\":[\"Internal\",\"X-Scanner\",\"X-TracerI\",\"X-TracerII\"],\"tickfont\":{\"size\":20,\"color\":\"white\"},\"showgrid\":false},\"yaxis\":{\"anchor\":\"x\",\"domain\":[0.0,1.0],\"title\":{\"text\":\"SUV\"},\"tickfont\":{\"size\":20,\"color\":\"white\"},\"showgrid\":false,\"zeroline\":false},\"legend\":{\"title\":{\"text\":\"Group\"},\"tracegroupgap\":0,\"font\":{\"size\":24,\"color\":\"white\"}},\"margin\":{\"t\":60},\"boxmode\":\"overlay\",\"title\":{\"font\":{\"color\":\"white\",\"size\":30,\"family\":\"Open Sans\",\"weight\":\"bold\"},\"text\":\"Mean Absolute Error\",\"x\":0.5,\"xanchor\":\"center\",\"yanchor\":\"top\"},\"font\":{\"family\":\"Open Sans\",\"size\":24,\"color\":\"white\"},\"plot_bgcolor\":\"rgba(0,0,0,0)\",\"paper_bgcolor\":\"rgba(0,0,0,0)\",\"height\":400,\"width\":600,\"showlegend\":false},                        {\"responsive\": true}                    ).then(function(){\n",
       "                            \n",
       "var gd = document.getElementById('c509fc50-01ad-4813-8ae6-674ebe4e866a');\n",
       "var x = new MutationObserver(function (mutations, observer) {{\n",
       "        var display = window.getComputedStyle(gd).display;\n",
       "        if (!display || display === 'none') {{\n",
       "            console.log([gd, 'removed!']);\n",
       "            Plotly.purge(gd);\n",
       "            observer.disconnect();\n",
       "        }}\n",
       "}});\n",
       "\n",
       "// Listen for the removal of the full notebook cells\n",
       "var notebookContainer = gd.closest('#notebook-container');\n",
       "if (notebookContainer) {{\n",
       "    x.observe(notebookContainer, {childList: true});\n",
       "}}\n",
       "\n",
       "// Listen for the clearing of the current output cell\n",
       "var outputEl = gd.closest('.output');\n",
       "if (outputEl) {{\n",
       "    x.observe(outputEl, {childList: true});\n",
       "}}\n",
       "\n",
       "                        })                };                });            </script>        </div>"
      ]
     },
     "metadata": {},
     "output_type": "display_data"
    },
    {
     "data": {
      "application/vnd.plotly.v1+json": {
       "config": {
        "plotlyServerURL": "https://plot.ly"
       },
       "data": [
        {
         "alignmentgroup": "True",
         "boxpoints": "suspectedoutliers",
         "hovertemplate": "Group=%{x}<br>Structual Similarity Index=%{y}<extra></extra>",
         "legendgroup": "Internal",
         "marker": {
          "color": "#ffffff"
         },
         "name": "Internal",
         "notched": false,
         "offsetgroup": "Internal",
         "orientation": "v",
         "showlegend": true,
         "type": "box",
         "x": [
          "Internal",
          "Internal",
          "Internal",
          "Internal",
          "Internal",
          "Internal",
          "Internal",
          "Internal"
         ],
         "x0": " ",
         "xaxis": "x",
         "y": [
          0.8804585386174477,
          0.9559231865026652,
          0.9441143350838228,
          0.9450080200273958,
          0.9745257077143914,
          0.9355879076836432,
          0.9085507869546844,
          0.8988007787324649
         ],
         "y0": " ",
         "yaxis": "y"
        },
        {
         "alignmentgroup": "True",
         "boxpoints": "suspectedoutliers",
         "hovertemplate": "Group=%{x}<br>Structual Similarity Index=%{y}<extra></extra>",
         "legendgroup": "X-Scanner",
         "marker": {
          "color": "#2ca02c"
         },
         "name": "X-Scanner",
         "notched": false,
         "offsetgroup": "X-Scanner",
         "orientation": "v",
         "showlegend": true,
         "type": "box",
         "x": [
          "X-Scanner",
          "X-Scanner",
          "X-Scanner",
          "X-Scanner",
          "X-Scanner",
          "X-Scanner",
          "X-Scanner",
          "X-Scanner",
          "X-Scanner",
          "X-Scanner",
          "X-Scanner",
          "X-Scanner"
         ],
         "x0": " ",
         "xaxis": "x",
         "y": [
          0.816742360315431,
          0.870126709811121,
          0.8844963313753432,
          0.9214232066689544,
          0.9218497286878402,
          0.8995953952439322,
          0.8666346285191655,
          0.9147099526686469,
          0.9150051184892029,
          0.8989801476744433,
          0.9113538599693224,
          0.8918863524895314
         ],
         "y0": " ",
         "yaxis": "y"
        },
        {
         "alignmentgroup": "True",
         "boxpoints": "suspectedoutliers",
         "hovertemplate": "Group=%{x}<br>Structual Similarity Index=%{y}<extra></extra>",
         "legendgroup": "X-TracerI",
         "marker": {
          "color": "#ff7f0e"
         },
         "name": "X-TracerI",
         "notched": false,
         "offsetgroup": "X-TracerI",
         "orientation": "v",
         "showlegend": true,
         "type": "box",
         "x": [
          "X-TracerI",
          "X-TracerI",
          "X-TracerI",
          "X-TracerI",
          "X-TracerI",
          "X-TracerI",
          "X-TracerI",
          "X-TracerI",
          "X-TracerI",
          "X-TracerI"
         ],
         "x0": " ",
         "xaxis": "x",
         "y": [
          0.9335416670077448,
          0.6050283971225722,
          0.6112414348520867,
          0.9342268377133292,
          0.6946511589936962,
          0.7695849291343673,
          0.7745908481034063,
          0.9382343510974044,
          0.9104171479310872,
          0.8085724993565465
         ],
         "y0": " ",
         "yaxis": "y"
        },
        {
         "alignmentgroup": "True",
         "boxpoints": "suspectedoutliers",
         "hovertemplate": "Group=%{x}<br>Structual Similarity Index=%{y}<extra></extra>",
         "legendgroup": "X-TracerII",
         "marker": {
          "color": "#d62728"
         },
         "name": "X-TracerII",
         "notched": false,
         "offsetgroup": "X-TracerII",
         "orientation": "v",
         "showlegend": true,
         "type": "box",
         "x": [
          "X-TracerII",
          "X-TracerII",
          "X-TracerII",
          "X-TracerII",
          "X-TracerII",
          "X-TracerII",
          "X-TracerII",
          "X-TracerII",
          "X-TracerII",
          "X-TracerII",
          "X-TracerII"
         ],
         "x0": " ",
         "xaxis": "x",
         "y": [
          0.686889438335886,
          0.6933404021344293,
          0.7479686861319247,
          0.7254140867334501,
          0.7395343711240424,
          0.6867415883820208,
          0.6875484476421962,
          0.972590613847942,
          0.7881110245088058,
          0.8889587672488706,
          0.7296027495494171
         ],
         "y0": " ",
         "yaxis": "y"
        }
       ],
       "layout": {
        "boxmode": "overlay",
        "font": {
         "color": "white",
         "family": "Open Sans",
         "size": 24
        },
        "height": 400,
        "legend": {
         "font": {
          "color": "white",
          "size": 24
         },
         "title": {
          "text": "Group"
         },
         "tracegroupgap": 0
        },
        "margin": {
         "t": 60
        },
        "paper_bgcolor": "rgba(0,0,0,0)",
        "plot_bgcolor": "rgba(0,0,0,0)",
        "showlegend": false,
        "template": {
         "data": {
          "bar": [
           {
            "error_x": {
             "color": "#2a3f5f"
            },
            "error_y": {
             "color": "#2a3f5f"
            },
            "marker": {
             "line": {
              "color": "#E5ECF6",
              "width": 0.5
             },
             "pattern": {
              "fillmode": "overlay",
              "size": 10,
              "solidity": 0.2
             }
            },
            "type": "bar"
           }
          ],
          "barpolar": [
           {
            "marker": {
             "line": {
              "color": "#E5ECF6",
              "width": 0.5
             },
             "pattern": {
              "fillmode": "overlay",
              "size": 10,
              "solidity": 0.2
             }
            },
            "type": "barpolar"
           }
          ],
          "carpet": [
           {
            "aaxis": {
             "endlinecolor": "#2a3f5f",
             "gridcolor": "white",
             "linecolor": "white",
             "minorgridcolor": "white",
             "startlinecolor": "#2a3f5f"
            },
            "baxis": {
             "endlinecolor": "#2a3f5f",
             "gridcolor": "white",
             "linecolor": "white",
             "minorgridcolor": "white",
             "startlinecolor": "#2a3f5f"
            },
            "type": "carpet"
           }
          ],
          "choropleth": [
           {
            "colorbar": {
             "outlinewidth": 0,
             "ticks": ""
            },
            "type": "choropleth"
           }
          ],
          "contour": [
           {
            "colorbar": {
             "outlinewidth": 0,
             "ticks": ""
            },
            "colorscale": [
             [
              0,
              "#0d0887"
             ],
             [
              0.1111111111111111,
              "#46039f"
             ],
             [
              0.2222222222222222,
              "#7201a8"
             ],
             [
              0.3333333333333333,
              "#9c179e"
             ],
             [
              0.4444444444444444,
              "#bd3786"
             ],
             [
              0.5555555555555556,
              "#d8576b"
             ],
             [
              0.6666666666666666,
              "#ed7953"
             ],
             [
              0.7777777777777778,
              "#fb9f3a"
             ],
             [
              0.8888888888888888,
              "#fdca26"
             ],
             [
              1,
              "#f0f921"
             ]
            ],
            "type": "contour"
           }
          ],
          "contourcarpet": [
           {
            "colorbar": {
             "outlinewidth": 0,
             "ticks": ""
            },
            "type": "contourcarpet"
           }
          ],
          "heatmap": [
           {
            "colorbar": {
             "outlinewidth": 0,
             "ticks": ""
            },
            "colorscale": [
             [
              0,
              "#0d0887"
             ],
             [
              0.1111111111111111,
              "#46039f"
             ],
             [
              0.2222222222222222,
              "#7201a8"
             ],
             [
              0.3333333333333333,
              "#9c179e"
             ],
             [
              0.4444444444444444,
              "#bd3786"
             ],
             [
              0.5555555555555556,
              "#d8576b"
             ],
             [
              0.6666666666666666,
              "#ed7953"
             ],
             [
              0.7777777777777778,
              "#fb9f3a"
             ],
             [
              0.8888888888888888,
              "#fdca26"
             ],
             [
              1,
              "#f0f921"
             ]
            ],
            "type": "heatmap"
           }
          ],
          "heatmapgl": [
           {
            "colorbar": {
             "outlinewidth": 0,
             "ticks": ""
            },
            "colorscale": [
             [
              0,
              "#0d0887"
             ],
             [
              0.1111111111111111,
              "#46039f"
             ],
             [
              0.2222222222222222,
              "#7201a8"
             ],
             [
              0.3333333333333333,
              "#9c179e"
             ],
             [
              0.4444444444444444,
              "#bd3786"
             ],
             [
              0.5555555555555556,
              "#d8576b"
             ],
             [
              0.6666666666666666,
              "#ed7953"
             ],
             [
              0.7777777777777778,
              "#fb9f3a"
             ],
             [
              0.8888888888888888,
              "#fdca26"
             ],
             [
              1,
              "#f0f921"
             ]
            ],
            "type": "heatmapgl"
           }
          ],
          "histogram": [
           {
            "marker": {
             "pattern": {
              "fillmode": "overlay",
              "size": 10,
              "solidity": 0.2
             }
            },
            "type": "histogram"
           }
          ],
          "histogram2d": [
           {
            "colorbar": {
             "outlinewidth": 0,
             "ticks": ""
            },
            "colorscale": [
             [
              0,
              "#0d0887"
             ],
             [
              0.1111111111111111,
              "#46039f"
             ],
             [
              0.2222222222222222,
              "#7201a8"
             ],
             [
              0.3333333333333333,
              "#9c179e"
             ],
             [
              0.4444444444444444,
              "#bd3786"
             ],
             [
              0.5555555555555556,
              "#d8576b"
             ],
             [
              0.6666666666666666,
              "#ed7953"
             ],
             [
              0.7777777777777778,
              "#fb9f3a"
             ],
             [
              0.8888888888888888,
              "#fdca26"
             ],
             [
              1,
              "#f0f921"
             ]
            ],
            "type": "histogram2d"
           }
          ],
          "histogram2dcontour": [
           {
            "colorbar": {
             "outlinewidth": 0,
             "ticks": ""
            },
            "colorscale": [
             [
              0,
              "#0d0887"
             ],
             [
              0.1111111111111111,
              "#46039f"
             ],
             [
              0.2222222222222222,
              "#7201a8"
             ],
             [
              0.3333333333333333,
              "#9c179e"
             ],
             [
              0.4444444444444444,
              "#bd3786"
             ],
             [
              0.5555555555555556,
              "#d8576b"
             ],
             [
              0.6666666666666666,
              "#ed7953"
             ],
             [
              0.7777777777777778,
              "#fb9f3a"
             ],
             [
              0.8888888888888888,
              "#fdca26"
             ],
             [
              1,
              "#f0f921"
             ]
            ],
            "type": "histogram2dcontour"
           }
          ],
          "mesh3d": [
           {
            "colorbar": {
             "outlinewidth": 0,
             "ticks": ""
            },
            "type": "mesh3d"
           }
          ],
          "parcoords": [
           {
            "line": {
             "colorbar": {
              "outlinewidth": 0,
              "ticks": ""
             }
            },
            "type": "parcoords"
           }
          ],
          "pie": [
           {
            "automargin": true,
            "type": "pie"
           }
          ],
          "scatter": [
           {
            "fillpattern": {
             "fillmode": "overlay",
             "size": 10,
             "solidity": 0.2
            },
            "type": "scatter"
           }
          ],
          "scatter3d": [
           {
            "line": {
             "colorbar": {
              "outlinewidth": 0,
              "ticks": ""
             }
            },
            "marker": {
             "colorbar": {
              "outlinewidth": 0,
              "ticks": ""
             }
            },
            "type": "scatter3d"
           }
          ],
          "scattercarpet": [
           {
            "marker": {
             "colorbar": {
              "outlinewidth": 0,
              "ticks": ""
             }
            },
            "type": "scattercarpet"
           }
          ],
          "scattergeo": [
           {
            "marker": {
             "colorbar": {
              "outlinewidth": 0,
              "ticks": ""
             }
            },
            "type": "scattergeo"
           }
          ],
          "scattergl": [
           {
            "marker": {
             "colorbar": {
              "outlinewidth": 0,
              "ticks": ""
             }
            },
            "type": "scattergl"
           }
          ],
          "scattermapbox": [
           {
            "marker": {
             "colorbar": {
              "outlinewidth": 0,
              "ticks": ""
             }
            },
            "type": "scattermapbox"
           }
          ],
          "scatterpolar": [
           {
            "marker": {
             "colorbar": {
              "outlinewidth": 0,
              "ticks": ""
             }
            },
            "type": "scatterpolar"
           }
          ],
          "scatterpolargl": [
           {
            "marker": {
             "colorbar": {
              "outlinewidth": 0,
              "ticks": ""
             }
            },
            "type": "scatterpolargl"
           }
          ],
          "scatterternary": [
           {
            "marker": {
             "colorbar": {
              "outlinewidth": 0,
              "ticks": ""
             }
            },
            "type": "scatterternary"
           }
          ],
          "surface": [
           {
            "colorbar": {
             "outlinewidth": 0,
             "ticks": ""
            },
            "colorscale": [
             [
              0,
              "#0d0887"
             ],
             [
              0.1111111111111111,
              "#46039f"
             ],
             [
              0.2222222222222222,
              "#7201a8"
             ],
             [
              0.3333333333333333,
              "#9c179e"
             ],
             [
              0.4444444444444444,
              "#bd3786"
             ],
             [
              0.5555555555555556,
              "#d8576b"
             ],
             [
              0.6666666666666666,
              "#ed7953"
             ],
             [
              0.7777777777777778,
              "#fb9f3a"
             ],
             [
              0.8888888888888888,
              "#fdca26"
             ],
             [
              1,
              "#f0f921"
             ]
            ],
            "type": "surface"
           }
          ],
          "table": [
           {
            "cells": {
             "fill": {
              "color": "#EBF0F8"
             },
             "line": {
              "color": "white"
             }
            },
            "header": {
             "fill": {
              "color": "#C8D4E3"
             },
             "line": {
              "color": "white"
             }
            },
            "type": "table"
           }
          ]
         },
         "layout": {
          "annotationdefaults": {
           "arrowcolor": "#2a3f5f",
           "arrowhead": 0,
           "arrowwidth": 1
          },
          "autotypenumbers": "strict",
          "coloraxis": {
           "colorbar": {
            "outlinewidth": 0,
            "ticks": ""
           }
          },
          "colorscale": {
           "diverging": [
            [
             0,
             "#8e0152"
            ],
            [
             0.1,
             "#c51b7d"
            ],
            [
             0.2,
             "#de77ae"
            ],
            [
             0.3,
             "#f1b6da"
            ],
            [
             0.4,
             "#fde0ef"
            ],
            [
             0.5,
             "#f7f7f7"
            ],
            [
             0.6,
             "#e6f5d0"
            ],
            [
             0.7,
             "#b8e186"
            ],
            [
             0.8,
             "#7fbc41"
            ],
            [
             0.9,
             "#4d9221"
            ],
            [
             1,
             "#276419"
            ]
           ],
           "sequential": [
            [
             0,
             "#0d0887"
            ],
            [
             0.1111111111111111,
             "#46039f"
            ],
            [
             0.2222222222222222,
             "#7201a8"
            ],
            [
             0.3333333333333333,
             "#9c179e"
            ],
            [
             0.4444444444444444,
             "#bd3786"
            ],
            [
             0.5555555555555556,
             "#d8576b"
            ],
            [
             0.6666666666666666,
             "#ed7953"
            ],
            [
             0.7777777777777778,
             "#fb9f3a"
            ],
            [
             0.8888888888888888,
             "#fdca26"
            ],
            [
             1,
             "#f0f921"
            ]
           ],
           "sequentialminus": [
            [
             0,
             "#0d0887"
            ],
            [
             0.1111111111111111,
             "#46039f"
            ],
            [
             0.2222222222222222,
             "#7201a8"
            ],
            [
             0.3333333333333333,
             "#9c179e"
            ],
            [
             0.4444444444444444,
             "#bd3786"
            ],
            [
             0.5555555555555556,
             "#d8576b"
            ],
            [
             0.6666666666666666,
             "#ed7953"
            ],
            [
             0.7777777777777778,
             "#fb9f3a"
            ],
            [
             0.8888888888888888,
             "#fdca26"
            ],
            [
             1,
             "#f0f921"
            ]
           ]
          },
          "colorway": [
           "#636efa",
           "#EF553B",
           "#00cc96",
           "#ab63fa",
           "#FFA15A",
           "#19d3f3",
           "#FF6692",
           "#B6E880",
           "#FF97FF",
           "#FECB52"
          ],
          "font": {
           "color": "#2a3f5f"
          },
          "geo": {
           "bgcolor": "white",
           "lakecolor": "white",
           "landcolor": "#E5ECF6",
           "showlakes": true,
           "showland": true,
           "subunitcolor": "white"
          },
          "hoverlabel": {
           "align": "left"
          },
          "hovermode": "closest",
          "mapbox": {
           "style": "light"
          },
          "paper_bgcolor": "white",
          "plot_bgcolor": "#E5ECF6",
          "polar": {
           "angularaxis": {
            "gridcolor": "white",
            "linecolor": "white",
            "ticks": ""
           },
           "bgcolor": "#E5ECF6",
           "radialaxis": {
            "gridcolor": "white",
            "linecolor": "white",
            "ticks": ""
           }
          },
          "scene": {
           "xaxis": {
            "backgroundcolor": "#E5ECF6",
            "gridcolor": "white",
            "gridwidth": 2,
            "linecolor": "white",
            "showbackground": true,
            "ticks": "",
            "zerolinecolor": "white"
           },
           "yaxis": {
            "backgroundcolor": "#E5ECF6",
            "gridcolor": "white",
            "gridwidth": 2,
            "linecolor": "white",
            "showbackground": true,
            "ticks": "",
            "zerolinecolor": "white"
           },
           "zaxis": {
            "backgroundcolor": "#E5ECF6",
            "gridcolor": "white",
            "gridwidth": 2,
            "linecolor": "white",
            "showbackground": true,
            "ticks": "",
            "zerolinecolor": "white"
           }
          },
          "shapedefaults": {
           "line": {
            "color": "#2a3f5f"
           }
          },
          "ternary": {
           "aaxis": {
            "gridcolor": "white",
            "linecolor": "white",
            "ticks": ""
           },
           "baxis": {
            "gridcolor": "white",
            "linecolor": "white",
            "ticks": ""
           },
           "bgcolor": "#E5ECF6",
           "caxis": {
            "gridcolor": "white",
            "linecolor": "white",
            "ticks": ""
           }
          },
          "title": {
           "x": 0.05
          },
          "xaxis": {
           "automargin": true,
           "gridcolor": "white",
           "linecolor": "white",
           "ticks": "",
           "title": {
            "standoff": 15
           },
           "zerolinecolor": "white",
           "zerolinewidth": 2
          },
          "yaxis": {
           "automargin": true,
           "gridcolor": "white",
           "linecolor": "white",
           "ticks": "",
           "title": {
            "standoff": 15
           },
           "zerolinecolor": "white",
           "zerolinewidth": 2
          }
         }
        },
        "title": {
         "font": {
          "color": "white",
          "family": "Open Sans",
          "size": 30,
          "weight": "bold"
         },
         "text": "Structural Similarity Index",
         "x": 0.5,
         "xanchor": "center",
         "yanchor": "top"
        },
        "width": 600,
        "xaxis": {
         "anchor": "y",
         "categoryarray": [
          "Internal",
          "X-Scanner",
          "X-TracerI",
          "X-TracerII"
         ],
         "categoryorder": "array",
         "domain": [
          0,
          1
         ],
         "showgrid": false,
         "tickfont": {
          "color": "white",
          "size": 20
         },
         "title": {
          "text": "Group"
         }
        },
        "yaxis": {
         "anchor": "x",
         "domain": [
          0,
          1
         ],
         "showgrid": false,
         "tickfont": {
          "color": "white",
          "size": 20
         },
         "title": {
          "text": "SUV"
         },
         "zeroline": false
        }
       }
      },
      "text/html": [
       "<div>                            <div id=\"9a243d42-2e36-45db-b184-32e611f086b3\" class=\"plotly-graph-div\" style=\"height:400px; width:600px;\"></div>            <script type=\"text/javascript\">                require([\"plotly\"], function(Plotly) {                    window.PLOTLYENV=window.PLOTLYENV || {};                                    if (document.getElementById(\"9a243d42-2e36-45db-b184-32e611f086b3\")) {                    Plotly.newPlot(                        \"9a243d42-2e36-45db-b184-32e611f086b3\",                        [{\"alignmentgroup\":\"True\",\"boxpoints\":\"suspectedoutliers\",\"hovertemplate\":\"Group=%{x}\\u003cbr\\u003eStructual Similarity Index=%{y}\\u003cextra\\u003e\\u003c\\u002fextra\\u003e\",\"legendgroup\":\"Internal\",\"marker\":{\"color\":\"#ffffff\"},\"name\":\"Internal\",\"notched\":false,\"offsetgroup\":\"Internal\",\"orientation\":\"v\",\"showlegend\":true,\"x\":[\"Internal\",\"Internal\",\"Internal\",\"Internal\",\"Internal\",\"Internal\",\"Internal\",\"Internal\"],\"x0\":\" \",\"xaxis\":\"x\",\"y\":[0.8804585386174477,0.9559231865026652,0.9441143350838228,0.9450080200273958,0.9745257077143914,0.9355879076836432,0.9085507869546844,0.8988007787324649],\"y0\":\" \",\"yaxis\":\"y\",\"type\":\"box\"},{\"alignmentgroup\":\"True\",\"boxpoints\":\"suspectedoutliers\",\"hovertemplate\":\"Group=%{x}\\u003cbr\\u003eStructual Similarity Index=%{y}\\u003cextra\\u003e\\u003c\\u002fextra\\u003e\",\"legendgroup\":\"X-Scanner\",\"marker\":{\"color\":\"#2ca02c\"},\"name\":\"X-Scanner\",\"notched\":false,\"offsetgroup\":\"X-Scanner\",\"orientation\":\"v\",\"showlegend\":true,\"x\":[\"X-Scanner\",\"X-Scanner\",\"X-Scanner\",\"X-Scanner\",\"X-Scanner\",\"X-Scanner\",\"X-Scanner\",\"X-Scanner\",\"X-Scanner\",\"X-Scanner\",\"X-Scanner\",\"X-Scanner\"],\"x0\":\" \",\"xaxis\":\"x\",\"y\":[0.816742360315431,0.870126709811121,0.8844963313753432,0.9214232066689544,0.9218497286878402,0.8995953952439322,0.8666346285191655,0.9147099526686469,0.9150051184892029,0.8989801476744433,0.9113538599693224,0.8918863524895314],\"y0\":\" \",\"yaxis\":\"y\",\"type\":\"box\"},{\"alignmentgroup\":\"True\",\"boxpoints\":\"suspectedoutliers\",\"hovertemplate\":\"Group=%{x}\\u003cbr\\u003eStructual Similarity Index=%{y}\\u003cextra\\u003e\\u003c\\u002fextra\\u003e\",\"legendgroup\":\"X-TracerI\",\"marker\":{\"color\":\"#ff7f0e\"},\"name\":\"X-TracerI\",\"notched\":false,\"offsetgroup\":\"X-TracerI\",\"orientation\":\"v\",\"showlegend\":true,\"x\":[\"X-TracerI\",\"X-TracerI\",\"X-TracerI\",\"X-TracerI\",\"X-TracerI\",\"X-TracerI\",\"X-TracerI\",\"X-TracerI\",\"X-TracerI\",\"X-TracerI\"],\"x0\":\" \",\"xaxis\":\"x\",\"y\":[0.9335416670077448,0.6050283971225722,0.6112414348520867,0.9342268377133292,0.6946511589936962,0.7695849291343673,0.7745908481034063,0.9382343510974044,0.9104171479310872,0.8085724993565465],\"y0\":\" \",\"yaxis\":\"y\",\"type\":\"box\"},{\"alignmentgroup\":\"True\",\"boxpoints\":\"suspectedoutliers\",\"hovertemplate\":\"Group=%{x}\\u003cbr\\u003eStructual Similarity Index=%{y}\\u003cextra\\u003e\\u003c\\u002fextra\\u003e\",\"legendgroup\":\"X-TracerII\",\"marker\":{\"color\":\"#d62728\"},\"name\":\"X-TracerII\",\"notched\":false,\"offsetgroup\":\"X-TracerII\",\"orientation\":\"v\",\"showlegend\":true,\"x\":[\"X-TracerII\",\"X-TracerII\",\"X-TracerII\",\"X-TracerII\",\"X-TracerII\",\"X-TracerII\",\"X-TracerII\",\"X-TracerII\",\"X-TracerII\",\"X-TracerII\",\"X-TracerII\"],\"x0\":\" \",\"xaxis\":\"x\",\"y\":[0.686889438335886,0.6933404021344293,0.7479686861319247,0.7254140867334501,0.7395343711240424,0.6867415883820208,0.6875484476421962,0.972590613847942,0.7881110245088058,0.8889587672488706,0.7296027495494171],\"y0\":\" \",\"yaxis\":\"y\",\"type\":\"box\"}],                        {\"template\":{\"data\":{\"histogram2dcontour\":[{\"type\":\"histogram2dcontour\",\"colorbar\":{\"outlinewidth\":0,\"ticks\":\"\"},\"colorscale\":[[0.0,\"#0d0887\"],[0.1111111111111111,\"#46039f\"],[0.2222222222222222,\"#7201a8\"],[0.3333333333333333,\"#9c179e\"],[0.4444444444444444,\"#bd3786\"],[0.5555555555555556,\"#d8576b\"],[0.6666666666666666,\"#ed7953\"],[0.7777777777777778,\"#fb9f3a\"],[0.8888888888888888,\"#fdca26\"],[1.0,\"#f0f921\"]]}],\"choropleth\":[{\"type\":\"choropleth\",\"colorbar\":{\"outlinewidth\":0,\"ticks\":\"\"}}],\"histogram2d\":[{\"type\":\"histogram2d\",\"colorbar\":{\"outlinewidth\":0,\"ticks\":\"\"},\"colorscale\":[[0.0,\"#0d0887\"],[0.1111111111111111,\"#46039f\"],[0.2222222222222222,\"#7201a8\"],[0.3333333333333333,\"#9c179e\"],[0.4444444444444444,\"#bd3786\"],[0.5555555555555556,\"#d8576b\"],[0.6666666666666666,\"#ed7953\"],[0.7777777777777778,\"#fb9f3a\"],[0.8888888888888888,\"#fdca26\"],[1.0,\"#f0f921\"]]}],\"heatmap\":[{\"type\":\"heatmap\",\"colorbar\":{\"outlinewidth\":0,\"ticks\":\"\"},\"colorscale\":[[0.0,\"#0d0887\"],[0.1111111111111111,\"#46039f\"],[0.2222222222222222,\"#7201a8\"],[0.3333333333333333,\"#9c179e\"],[0.4444444444444444,\"#bd3786\"],[0.5555555555555556,\"#d8576b\"],[0.6666666666666666,\"#ed7953\"],[0.7777777777777778,\"#fb9f3a\"],[0.8888888888888888,\"#fdca26\"],[1.0,\"#f0f921\"]]}],\"heatmapgl\":[{\"type\":\"heatmapgl\",\"colorbar\":{\"outlinewidth\":0,\"ticks\":\"\"},\"colorscale\":[[0.0,\"#0d0887\"],[0.1111111111111111,\"#46039f\"],[0.2222222222222222,\"#7201a8\"],[0.3333333333333333,\"#9c179e\"],[0.4444444444444444,\"#bd3786\"],[0.5555555555555556,\"#d8576b\"],[0.6666666666666666,\"#ed7953\"],[0.7777777777777778,\"#fb9f3a\"],[0.8888888888888888,\"#fdca26\"],[1.0,\"#f0f921\"]]}],\"contourcarpet\":[{\"type\":\"contourcarpet\",\"colorbar\":{\"outlinewidth\":0,\"ticks\":\"\"}}],\"contour\":[{\"type\":\"contour\",\"colorbar\":{\"outlinewidth\":0,\"ticks\":\"\"},\"colorscale\":[[0.0,\"#0d0887\"],[0.1111111111111111,\"#46039f\"],[0.2222222222222222,\"#7201a8\"],[0.3333333333333333,\"#9c179e\"],[0.4444444444444444,\"#bd3786\"],[0.5555555555555556,\"#d8576b\"],[0.6666666666666666,\"#ed7953\"],[0.7777777777777778,\"#fb9f3a\"],[0.8888888888888888,\"#fdca26\"],[1.0,\"#f0f921\"]]}],\"surface\":[{\"type\":\"surface\",\"colorbar\":{\"outlinewidth\":0,\"ticks\":\"\"},\"colorscale\":[[0.0,\"#0d0887\"],[0.1111111111111111,\"#46039f\"],[0.2222222222222222,\"#7201a8\"],[0.3333333333333333,\"#9c179e\"],[0.4444444444444444,\"#bd3786\"],[0.5555555555555556,\"#d8576b\"],[0.6666666666666666,\"#ed7953\"],[0.7777777777777778,\"#fb9f3a\"],[0.8888888888888888,\"#fdca26\"],[1.0,\"#f0f921\"]]}],\"mesh3d\":[{\"type\":\"mesh3d\",\"colorbar\":{\"outlinewidth\":0,\"ticks\":\"\"}}],\"scatter\":[{\"fillpattern\":{\"fillmode\":\"overlay\",\"size\":10,\"solidity\":0.2},\"type\":\"scatter\"}],\"parcoords\":[{\"type\":\"parcoords\",\"line\":{\"colorbar\":{\"outlinewidth\":0,\"ticks\":\"\"}}}],\"scatterpolargl\":[{\"type\":\"scatterpolargl\",\"marker\":{\"colorbar\":{\"outlinewidth\":0,\"ticks\":\"\"}}}],\"bar\":[{\"error_x\":{\"color\":\"#2a3f5f\"},\"error_y\":{\"color\":\"#2a3f5f\"},\"marker\":{\"line\":{\"color\":\"#E5ECF6\",\"width\":0.5},\"pattern\":{\"fillmode\":\"overlay\",\"size\":10,\"solidity\":0.2}},\"type\":\"bar\"}],\"scattergeo\":[{\"type\":\"scattergeo\",\"marker\":{\"colorbar\":{\"outlinewidth\":0,\"ticks\":\"\"}}}],\"scatterpolar\":[{\"type\":\"scatterpolar\",\"marker\":{\"colorbar\":{\"outlinewidth\":0,\"ticks\":\"\"}}}],\"histogram\":[{\"marker\":{\"pattern\":{\"fillmode\":\"overlay\",\"size\":10,\"solidity\":0.2}},\"type\":\"histogram\"}],\"scattergl\":[{\"type\":\"scattergl\",\"marker\":{\"colorbar\":{\"outlinewidth\":0,\"ticks\":\"\"}}}],\"scatter3d\":[{\"type\":\"scatter3d\",\"line\":{\"colorbar\":{\"outlinewidth\":0,\"ticks\":\"\"}},\"marker\":{\"colorbar\":{\"outlinewidth\":0,\"ticks\":\"\"}}}],\"scattermapbox\":[{\"type\":\"scattermapbox\",\"marker\":{\"colorbar\":{\"outlinewidth\":0,\"ticks\":\"\"}}}],\"scatterternary\":[{\"type\":\"scatterternary\",\"marker\":{\"colorbar\":{\"outlinewidth\":0,\"ticks\":\"\"}}}],\"scattercarpet\":[{\"type\":\"scattercarpet\",\"marker\":{\"colorbar\":{\"outlinewidth\":0,\"ticks\":\"\"}}}],\"carpet\":[{\"aaxis\":{\"endlinecolor\":\"#2a3f5f\",\"gridcolor\":\"white\",\"linecolor\":\"white\",\"minorgridcolor\":\"white\",\"startlinecolor\":\"#2a3f5f\"},\"baxis\":{\"endlinecolor\":\"#2a3f5f\",\"gridcolor\":\"white\",\"linecolor\":\"white\",\"minorgridcolor\":\"white\",\"startlinecolor\":\"#2a3f5f\"},\"type\":\"carpet\"}],\"table\":[{\"cells\":{\"fill\":{\"color\":\"#EBF0F8\"},\"line\":{\"color\":\"white\"}},\"header\":{\"fill\":{\"color\":\"#C8D4E3\"},\"line\":{\"color\":\"white\"}},\"type\":\"table\"}],\"barpolar\":[{\"marker\":{\"line\":{\"color\":\"#E5ECF6\",\"width\":0.5},\"pattern\":{\"fillmode\":\"overlay\",\"size\":10,\"solidity\":0.2}},\"type\":\"barpolar\"}],\"pie\":[{\"automargin\":true,\"type\":\"pie\"}]},\"layout\":{\"autotypenumbers\":\"strict\",\"colorway\":[\"#636efa\",\"#EF553B\",\"#00cc96\",\"#ab63fa\",\"#FFA15A\",\"#19d3f3\",\"#FF6692\",\"#B6E880\",\"#FF97FF\",\"#FECB52\"],\"font\":{\"color\":\"#2a3f5f\"},\"hovermode\":\"closest\",\"hoverlabel\":{\"align\":\"left\"},\"paper_bgcolor\":\"white\",\"plot_bgcolor\":\"#E5ECF6\",\"polar\":{\"bgcolor\":\"#E5ECF6\",\"angularaxis\":{\"gridcolor\":\"white\",\"linecolor\":\"white\",\"ticks\":\"\"},\"radialaxis\":{\"gridcolor\":\"white\",\"linecolor\":\"white\",\"ticks\":\"\"}},\"ternary\":{\"bgcolor\":\"#E5ECF6\",\"aaxis\":{\"gridcolor\":\"white\",\"linecolor\":\"white\",\"ticks\":\"\"},\"baxis\":{\"gridcolor\":\"white\",\"linecolor\":\"white\",\"ticks\":\"\"},\"caxis\":{\"gridcolor\":\"white\",\"linecolor\":\"white\",\"ticks\":\"\"}},\"coloraxis\":{\"colorbar\":{\"outlinewidth\":0,\"ticks\":\"\"}},\"colorscale\":{\"sequential\":[[0.0,\"#0d0887\"],[0.1111111111111111,\"#46039f\"],[0.2222222222222222,\"#7201a8\"],[0.3333333333333333,\"#9c179e\"],[0.4444444444444444,\"#bd3786\"],[0.5555555555555556,\"#d8576b\"],[0.6666666666666666,\"#ed7953\"],[0.7777777777777778,\"#fb9f3a\"],[0.8888888888888888,\"#fdca26\"],[1.0,\"#f0f921\"]],\"sequentialminus\":[[0.0,\"#0d0887\"],[0.1111111111111111,\"#46039f\"],[0.2222222222222222,\"#7201a8\"],[0.3333333333333333,\"#9c179e\"],[0.4444444444444444,\"#bd3786\"],[0.5555555555555556,\"#d8576b\"],[0.6666666666666666,\"#ed7953\"],[0.7777777777777778,\"#fb9f3a\"],[0.8888888888888888,\"#fdca26\"],[1.0,\"#f0f921\"]],\"diverging\":[[0,\"#8e0152\"],[0.1,\"#c51b7d\"],[0.2,\"#de77ae\"],[0.3,\"#f1b6da\"],[0.4,\"#fde0ef\"],[0.5,\"#f7f7f7\"],[0.6,\"#e6f5d0\"],[0.7,\"#b8e186\"],[0.8,\"#7fbc41\"],[0.9,\"#4d9221\"],[1,\"#276419\"]]},\"xaxis\":{\"gridcolor\":\"white\",\"linecolor\":\"white\",\"ticks\":\"\",\"title\":{\"standoff\":15},\"zerolinecolor\":\"white\",\"automargin\":true,\"zerolinewidth\":2},\"yaxis\":{\"gridcolor\":\"white\",\"linecolor\":\"white\",\"ticks\":\"\",\"title\":{\"standoff\":15},\"zerolinecolor\":\"white\",\"automargin\":true,\"zerolinewidth\":2},\"scene\":{\"xaxis\":{\"backgroundcolor\":\"#E5ECF6\",\"gridcolor\":\"white\",\"linecolor\":\"white\",\"showbackground\":true,\"ticks\":\"\",\"zerolinecolor\":\"white\",\"gridwidth\":2},\"yaxis\":{\"backgroundcolor\":\"#E5ECF6\",\"gridcolor\":\"white\",\"linecolor\":\"white\",\"showbackground\":true,\"ticks\":\"\",\"zerolinecolor\":\"white\",\"gridwidth\":2},\"zaxis\":{\"backgroundcolor\":\"#E5ECF6\",\"gridcolor\":\"white\",\"linecolor\":\"white\",\"showbackground\":true,\"ticks\":\"\",\"zerolinecolor\":\"white\",\"gridwidth\":2}},\"shapedefaults\":{\"line\":{\"color\":\"#2a3f5f\"}},\"annotationdefaults\":{\"arrowcolor\":\"#2a3f5f\",\"arrowhead\":0,\"arrowwidth\":1},\"geo\":{\"bgcolor\":\"white\",\"landcolor\":\"#E5ECF6\",\"subunitcolor\":\"white\",\"showland\":true,\"showlakes\":true,\"lakecolor\":\"white\"},\"title\":{\"x\":0.05},\"mapbox\":{\"style\":\"light\"}}},\"xaxis\":{\"anchor\":\"y\",\"domain\":[0.0,1.0],\"title\":{\"text\":\"Group\"},\"categoryorder\":\"array\",\"categoryarray\":[\"Internal\",\"X-Scanner\",\"X-TracerI\",\"X-TracerII\"],\"tickfont\":{\"size\":20,\"color\":\"white\"},\"showgrid\":false},\"yaxis\":{\"anchor\":\"x\",\"domain\":[0.0,1.0],\"title\":{\"text\":\"SUV\"},\"tickfont\":{\"size\":20,\"color\":\"white\"},\"showgrid\":false,\"zeroline\":false},\"legend\":{\"title\":{\"text\":\"Group\"},\"tracegroupgap\":0,\"font\":{\"size\":24,\"color\":\"white\"}},\"margin\":{\"t\":60},\"boxmode\":\"overlay\",\"title\":{\"font\":{\"color\":\"white\",\"size\":30,\"family\":\"Open Sans\",\"weight\":\"bold\"},\"text\":\"Structural Similarity Index\",\"x\":0.5,\"xanchor\":\"center\",\"yanchor\":\"top\"},\"font\":{\"family\":\"Open Sans\",\"size\":24,\"color\":\"white\"},\"plot_bgcolor\":\"rgba(0,0,0,0)\",\"paper_bgcolor\":\"rgba(0,0,0,0)\",\"height\":400,\"width\":600,\"showlegend\":false},                        {\"responsive\": true}                    ).then(function(){\n",
       "                            \n",
       "var gd = document.getElementById('9a243d42-2e36-45db-b184-32e611f086b3');\n",
       "var x = new MutationObserver(function (mutations, observer) {{\n",
       "        var display = window.getComputedStyle(gd).display;\n",
       "        if (!display || display === 'none') {{\n",
       "            console.log([gd, 'removed!']);\n",
       "            Plotly.purge(gd);\n",
       "            observer.disconnect();\n",
       "        }}\n",
       "}});\n",
       "\n",
       "// Listen for the removal of the full notebook cells\n",
       "var notebookContainer = gd.closest('#notebook-container');\n",
       "if (notebookContainer) {{\n",
       "    x.observe(notebookContainer, {childList: true});\n",
       "}}\n",
       "\n",
       "// Listen for the clearing of the current output cell\n",
       "var outputEl = gd.closest('.output');\n",
       "if (outputEl) {{\n",
       "    x.observe(outputEl, {childList: true});\n",
       "}}\n",
       "\n",
       "                        })                };                });            </script>        </div>"
      ]
     },
     "metadata": {},
     "output_type": "display_data"
    }
   ],
   "source": [
    "import plotly.express as px\n",
    "\n",
    "# Define the columns to plot with corresponding x-axis titles\n",
    "columns_to_plot = {\n",
    "    'Mean Error (SUV)': 'Mean Error', \n",
    "    'Mean Absolure Error (SUV)': 'Mean Absolute Error', \n",
    "    'Structual Similarity Index': 'Structural Similarity Index'\n",
    "}\n",
    "group_color_mapping = {\n",
    "    'Internal': '#ffffff',\n",
    "    'X-Scanner': '#2ca02c', # Soft Green\n",
    "    'X-TracerI': '#ff7f0e',  # Muted Orange\n",
    "    'X-TracerII': '#d62728', # Soft Red\n",
    "\n",
    "\n",
    "}\n",
    "\n",
    "# Create box plots for each metric with customized axis titles\n",
    "for column, xaxis_title in columns_to_plot.items():\n",
    "    fig = px.box(df_filtered, \n",
    "                 x='Group', \n",
    "                 y=column, \n",
    "                 color='Group',  # Different colors for each group\n",
    "                 points=\"suspectedoutliers\",  # Show all points including outliers\n",
    "                 color_discrete_map=group_color_mapping)  # Apply custom colors\n",
    "    \n",
    "\n",
    "    # Customize the layout to include axis titles\n",
    "    fig.update_layout(\n",
    "        plot_bgcolor='rgba(0,0,0,0)',  # Transparent background\n",
    "        paper_bgcolor='rgba(0,0,0,0)',  # Transparent background\n",
    "        height=400,  # Set plot height\n",
    "        width=600,  # Set plot width\n",
    "        title={\n",
    "            'text': xaxis_title,  # Dynamic title\n",
    "            'x': 0.5,  # Center title\n",
    "            'xanchor': 'center',\n",
    "            'yanchor': 'top',\n",
    "            'font': {'color': 'white', 'size': 30, 'family': \"Open Sans\", 'weight': 'bold'},  # Title font in white and bold\n",
    "        },\n",
    "        yaxis_title='SUV',  # Custom y-axis title\n",
    "        font=dict(\n",
    "            family=\"Open Sans\",  # Font type\n",
    "            size=24,  # Set larger font size for axis labels\n",
    "            color=\"white\"  # Set font color to white\n",
    "        ),\n",
    "        legend=dict(\n",
    "            font=dict(size=24, color=\"white\")  # Increase legend font size and set to white\n",
    "        ),\n",
    "        showlegend=False\n",
    "\n",
    "    )\n",
    "    \n",
    "    # Customize the axes to remove gridlines and increase tick label sizes in white\n",
    "    fig.update_xaxes(showgrid=False, tickfont=dict(size=20, color='white'))  # Increase x-axis tick label size and set to white\n",
    "    fig.update_yaxes(showgrid=False, tickfont=dict(size=20, color='white'), zeroline=False) # Increase y-axis tick label size and set to white\n",
    "\n",
    "    fig.show()\n"
   ]
  },
  {
   "cell_type": "code",
   "execution_count": 27,
   "metadata": {},
   "outputs": [
    {
     "data": {
      "application/vnd.plotly.v1+json": {
       "config": {
        "plotlyServerURL": "https://plot.ly"
       },
       "data": [
        {
         "boxmean": "sd",
         "fillcolor": "#ffffff",
         "line": {
          "width": 1
         },
         "marker": {
          "color": "#ffffff"
         },
         "name": "Internal",
         "opacity": 1,
         "type": "box",
         "y": [
          -1.1891445939476657,
          0.2519972390057742,
          -0.3452557280437059,
          0.4697239865537157,
          -0.2674774272445508,
          -1.1910467561811826,
          -0.571929280222022,
          -1.6510359789546527
         ]
        },
        {
         "boxmean": "sd",
         "fillcolor": "#60d394",
         "line": {
          "width": 1
         },
         "marker": {
          "color": "#60d394"
         },
         "name": "X-Scanner",
         "opacity": 1,
         "type": "box",
         "y": [
          -2.8029822558851394,
          -2.61883826259063,
          -2.0589265409436432,
          -1.3804961383168628,
          -1.522223770412285,
          -1.9142766090558891,
          -2.5051036116480816,
          -1.4837188627091455,
          -1.57910135796933,
          -2.1175220181913006,
          -0.8593295086365987,
          -2.242819236182748
         ]
        },
        {
         "boxmean": "sd",
         "fillcolor": "#e15759",
         "line": {
          "width": 1
         },
         "marker": {
          "color": "#e15759"
         },
         "name": "X-TracerI",
         "opacity": 1,
         "type": "box",
         "y": [
          -0.2533228437352298,
          -0.7852880299539251,
          -0.5891696508336531,
          -0.4296144208442078,
          -0.5755135456364943,
          -0.3892674970584013,
          -0.4840485645080934,
          -0.3292656258239357,
          -0.3400530626732412,
          -0.3751449579957191
         ]
        },
        {
         "boxmean": "sd",
         "fillcolor": "#bcbd22",
         "line": {
          "width": 1
         },
         "marker": {
          "color": "#bcbd22"
         },
         "name": "X-TracerII",
         "opacity": 1,
         "type": "box",
         "y": [
          -0.6534754940922887,
          -0.5654231048014308,
          -0.4301723711501698,
          -0.5165880588747674,
          -0.6677419447663477,
          -0.6584737454693153,
          -0.5517122499860377,
          -0.6939407854410562,
          -0.5987604593675865,
          -0.7300213318339184,
          -0.6785005724729886
         ]
        }
       ],
       "layout": {
        "font": {
         "color": "white",
         "family": "Open Sans",
         "size": 24
        },
        "height": 600,
        "legend": {
         "font": {
          "color": "white",
          "size": 24
         }
        },
        "paper_bgcolor": "rgba(0,0,0,0)",
        "plot_bgcolor": "rgba(0,0,0,0)",
        "template": {
         "data": {
          "bar": [
           {
            "error_x": {
             "color": "#2a3f5f"
            },
            "error_y": {
             "color": "#2a3f5f"
            },
            "marker": {
             "line": {
              "color": "#E5ECF6",
              "width": 0.5
             },
             "pattern": {
              "fillmode": "overlay",
              "size": 10,
              "solidity": 0.2
             }
            },
            "type": "bar"
           }
          ],
          "barpolar": [
           {
            "marker": {
             "line": {
              "color": "#E5ECF6",
              "width": 0.5
             },
             "pattern": {
              "fillmode": "overlay",
              "size": 10,
              "solidity": 0.2
             }
            },
            "type": "barpolar"
           }
          ],
          "carpet": [
           {
            "aaxis": {
             "endlinecolor": "#2a3f5f",
             "gridcolor": "white",
             "linecolor": "white",
             "minorgridcolor": "white",
             "startlinecolor": "#2a3f5f"
            },
            "baxis": {
             "endlinecolor": "#2a3f5f",
             "gridcolor": "white",
             "linecolor": "white",
             "minorgridcolor": "white",
             "startlinecolor": "#2a3f5f"
            },
            "type": "carpet"
           }
          ],
          "choropleth": [
           {
            "colorbar": {
             "outlinewidth": 0,
             "ticks": ""
            },
            "type": "choropleth"
           }
          ],
          "contour": [
           {
            "colorbar": {
             "outlinewidth": 0,
             "ticks": ""
            },
            "colorscale": [
             [
              0,
              "#0d0887"
             ],
             [
              0.1111111111111111,
              "#46039f"
             ],
             [
              0.2222222222222222,
              "#7201a8"
             ],
             [
              0.3333333333333333,
              "#9c179e"
             ],
             [
              0.4444444444444444,
              "#bd3786"
             ],
             [
              0.5555555555555556,
              "#d8576b"
             ],
             [
              0.6666666666666666,
              "#ed7953"
             ],
             [
              0.7777777777777778,
              "#fb9f3a"
             ],
             [
              0.8888888888888888,
              "#fdca26"
             ],
             [
              1,
              "#f0f921"
             ]
            ],
            "type": "contour"
           }
          ],
          "contourcarpet": [
           {
            "colorbar": {
             "outlinewidth": 0,
             "ticks": ""
            },
            "type": "contourcarpet"
           }
          ],
          "heatmap": [
           {
            "colorbar": {
             "outlinewidth": 0,
             "ticks": ""
            },
            "colorscale": [
             [
              0,
              "#0d0887"
             ],
             [
              0.1111111111111111,
              "#46039f"
             ],
             [
              0.2222222222222222,
              "#7201a8"
             ],
             [
              0.3333333333333333,
              "#9c179e"
             ],
             [
              0.4444444444444444,
              "#bd3786"
             ],
             [
              0.5555555555555556,
              "#d8576b"
             ],
             [
              0.6666666666666666,
              "#ed7953"
             ],
             [
              0.7777777777777778,
              "#fb9f3a"
             ],
             [
              0.8888888888888888,
              "#fdca26"
             ],
             [
              1,
              "#f0f921"
             ]
            ],
            "type": "heatmap"
           }
          ],
          "heatmapgl": [
           {
            "colorbar": {
             "outlinewidth": 0,
             "ticks": ""
            },
            "colorscale": [
             [
              0,
              "#0d0887"
             ],
             [
              0.1111111111111111,
              "#46039f"
             ],
             [
              0.2222222222222222,
              "#7201a8"
             ],
             [
              0.3333333333333333,
              "#9c179e"
             ],
             [
              0.4444444444444444,
              "#bd3786"
             ],
             [
              0.5555555555555556,
              "#d8576b"
             ],
             [
              0.6666666666666666,
              "#ed7953"
             ],
             [
              0.7777777777777778,
              "#fb9f3a"
             ],
             [
              0.8888888888888888,
              "#fdca26"
             ],
             [
              1,
              "#f0f921"
             ]
            ],
            "type": "heatmapgl"
           }
          ],
          "histogram": [
           {
            "marker": {
             "pattern": {
              "fillmode": "overlay",
              "size": 10,
              "solidity": 0.2
             }
            },
            "type": "histogram"
           }
          ],
          "histogram2d": [
           {
            "colorbar": {
             "outlinewidth": 0,
             "ticks": ""
            },
            "colorscale": [
             [
              0,
              "#0d0887"
             ],
             [
              0.1111111111111111,
              "#46039f"
             ],
             [
              0.2222222222222222,
              "#7201a8"
             ],
             [
              0.3333333333333333,
              "#9c179e"
             ],
             [
              0.4444444444444444,
              "#bd3786"
             ],
             [
              0.5555555555555556,
              "#d8576b"
             ],
             [
              0.6666666666666666,
              "#ed7953"
             ],
             [
              0.7777777777777778,
              "#fb9f3a"
             ],
             [
              0.8888888888888888,
              "#fdca26"
             ],
             [
              1,
              "#f0f921"
             ]
            ],
            "type": "histogram2d"
           }
          ],
          "histogram2dcontour": [
           {
            "colorbar": {
             "outlinewidth": 0,
             "ticks": ""
            },
            "colorscale": [
             [
              0,
              "#0d0887"
             ],
             [
              0.1111111111111111,
              "#46039f"
             ],
             [
              0.2222222222222222,
              "#7201a8"
             ],
             [
              0.3333333333333333,
              "#9c179e"
             ],
             [
              0.4444444444444444,
              "#bd3786"
             ],
             [
              0.5555555555555556,
              "#d8576b"
             ],
             [
              0.6666666666666666,
              "#ed7953"
             ],
             [
              0.7777777777777778,
              "#fb9f3a"
             ],
             [
              0.8888888888888888,
              "#fdca26"
             ],
             [
              1,
              "#f0f921"
             ]
            ],
            "type": "histogram2dcontour"
           }
          ],
          "mesh3d": [
           {
            "colorbar": {
             "outlinewidth": 0,
             "ticks": ""
            },
            "type": "mesh3d"
           }
          ],
          "parcoords": [
           {
            "line": {
             "colorbar": {
              "outlinewidth": 0,
              "ticks": ""
             }
            },
            "type": "parcoords"
           }
          ],
          "pie": [
           {
            "automargin": true,
            "type": "pie"
           }
          ],
          "scatter": [
           {
            "fillpattern": {
             "fillmode": "overlay",
             "size": 10,
             "solidity": 0.2
            },
            "type": "scatter"
           }
          ],
          "scatter3d": [
           {
            "line": {
             "colorbar": {
              "outlinewidth": 0,
              "ticks": ""
             }
            },
            "marker": {
             "colorbar": {
              "outlinewidth": 0,
              "ticks": ""
             }
            },
            "type": "scatter3d"
           }
          ],
          "scattercarpet": [
           {
            "marker": {
             "colorbar": {
              "outlinewidth": 0,
              "ticks": ""
             }
            },
            "type": "scattercarpet"
           }
          ],
          "scattergeo": [
           {
            "marker": {
             "colorbar": {
              "outlinewidth": 0,
              "ticks": ""
             }
            },
            "type": "scattergeo"
           }
          ],
          "scattergl": [
           {
            "marker": {
             "colorbar": {
              "outlinewidth": 0,
              "ticks": ""
             }
            },
            "type": "scattergl"
           }
          ],
          "scattermapbox": [
           {
            "marker": {
             "colorbar": {
              "outlinewidth": 0,
              "ticks": ""
             }
            },
            "type": "scattermapbox"
           }
          ],
          "scatterpolar": [
           {
            "marker": {
             "colorbar": {
              "outlinewidth": 0,
              "ticks": ""
             }
            },
            "type": "scatterpolar"
           }
          ],
          "scatterpolargl": [
           {
            "marker": {
             "colorbar": {
              "outlinewidth": 0,
              "ticks": ""
             }
            },
            "type": "scatterpolargl"
           }
          ],
          "scatterternary": [
           {
            "marker": {
             "colorbar": {
              "outlinewidth": 0,
              "ticks": ""
             }
            },
            "type": "scatterternary"
           }
          ],
          "surface": [
           {
            "colorbar": {
             "outlinewidth": 0,
             "ticks": ""
            },
            "colorscale": [
             [
              0,
              "#0d0887"
             ],
             [
              0.1111111111111111,
              "#46039f"
             ],
             [
              0.2222222222222222,
              "#7201a8"
             ],
             [
              0.3333333333333333,
              "#9c179e"
             ],
             [
              0.4444444444444444,
              "#bd3786"
             ],
             [
              0.5555555555555556,
              "#d8576b"
             ],
             [
              0.6666666666666666,
              "#ed7953"
             ],
             [
              0.7777777777777778,
              "#fb9f3a"
             ],
             [
              0.8888888888888888,
              "#fdca26"
             ],
             [
              1,
              "#f0f921"
             ]
            ],
            "type": "surface"
           }
          ],
          "table": [
           {
            "cells": {
             "fill": {
              "color": "#EBF0F8"
             },
             "line": {
              "color": "white"
             }
            },
            "header": {
             "fill": {
              "color": "#C8D4E3"
             },
             "line": {
              "color": "white"
             }
            },
            "type": "table"
           }
          ]
         },
         "layout": {
          "annotationdefaults": {
           "arrowcolor": "#2a3f5f",
           "arrowhead": 0,
           "arrowwidth": 1
          },
          "autotypenumbers": "strict",
          "coloraxis": {
           "colorbar": {
            "outlinewidth": 0,
            "ticks": ""
           }
          },
          "colorscale": {
           "diverging": [
            [
             0,
             "#8e0152"
            ],
            [
             0.1,
             "#c51b7d"
            ],
            [
             0.2,
             "#de77ae"
            ],
            [
             0.3,
             "#f1b6da"
            ],
            [
             0.4,
             "#fde0ef"
            ],
            [
             0.5,
             "#f7f7f7"
            ],
            [
             0.6,
             "#e6f5d0"
            ],
            [
             0.7,
             "#b8e186"
            ],
            [
             0.8,
             "#7fbc41"
            ],
            [
             0.9,
             "#4d9221"
            ],
            [
             1,
             "#276419"
            ]
           ],
           "sequential": [
            [
             0,
             "#0d0887"
            ],
            [
             0.1111111111111111,
             "#46039f"
            ],
            [
             0.2222222222222222,
             "#7201a8"
            ],
            [
             0.3333333333333333,
             "#9c179e"
            ],
            [
             0.4444444444444444,
             "#bd3786"
            ],
            [
             0.5555555555555556,
             "#d8576b"
            ],
            [
             0.6666666666666666,
             "#ed7953"
            ],
            [
             0.7777777777777778,
             "#fb9f3a"
            ],
            [
             0.8888888888888888,
             "#fdca26"
            ],
            [
             1,
             "#f0f921"
            ]
           ],
           "sequentialminus": [
            [
             0,
             "#0d0887"
            ],
            [
             0.1111111111111111,
             "#46039f"
            ],
            [
             0.2222222222222222,
             "#7201a8"
            ],
            [
             0.3333333333333333,
             "#9c179e"
            ],
            [
             0.4444444444444444,
             "#bd3786"
            ],
            [
             0.5555555555555556,
             "#d8576b"
            ],
            [
             0.6666666666666666,
             "#ed7953"
            ],
            [
             0.7777777777777778,
             "#fb9f3a"
            ],
            [
             0.8888888888888888,
             "#fdca26"
            ],
            [
             1,
             "#f0f921"
            ]
           ]
          },
          "colorway": [
           "#636efa",
           "#EF553B",
           "#00cc96",
           "#ab63fa",
           "#FFA15A",
           "#19d3f3",
           "#FF6692",
           "#B6E880",
           "#FF97FF",
           "#FECB52"
          ],
          "font": {
           "color": "#2a3f5f"
          },
          "geo": {
           "bgcolor": "white",
           "lakecolor": "white",
           "landcolor": "#E5ECF6",
           "showlakes": true,
           "showland": true,
           "subunitcolor": "white"
          },
          "hoverlabel": {
           "align": "left"
          },
          "hovermode": "closest",
          "mapbox": {
           "style": "light"
          },
          "paper_bgcolor": "white",
          "plot_bgcolor": "#E5ECF6",
          "polar": {
           "angularaxis": {
            "gridcolor": "white",
            "linecolor": "white",
            "ticks": ""
           },
           "bgcolor": "#E5ECF6",
           "radialaxis": {
            "gridcolor": "white",
            "linecolor": "white",
            "ticks": ""
           }
          },
          "scene": {
           "xaxis": {
            "backgroundcolor": "#E5ECF6",
            "gridcolor": "white",
            "gridwidth": 2,
            "linecolor": "white",
            "showbackground": true,
            "ticks": "",
            "zerolinecolor": "white"
           },
           "yaxis": {
            "backgroundcolor": "#E5ECF6",
            "gridcolor": "white",
            "gridwidth": 2,
            "linecolor": "white",
            "showbackground": true,
            "ticks": "",
            "zerolinecolor": "white"
           },
           "zaxis": {
            "backgroundcolor": "#E5ECF6",
            "gridcolor": "white",
            "gridwidth": 2,
            "linecolor": "white",
            "showbackground": true,
            "ticks": "",
            "zerolinecolor": "white"
           }
          },
          "shapedefaults": {
           "line": {
            "color": "#2a3f5f"
           }
          },
          "ternary": {
           "aaxis": {
            "gridcolor": "white",
            "linecolor": "white",
            "ticks": ""
           },
           "baxis": {
            "gridcolor": "white",
            "linecolor": "white",
            "ticks": ""
           },
           "bgcolor": "#E5ECF6",
           "caxis": {
            "gridcolor": "white",
            "linecolor": "white",
            "ticks": ""
           }
          },
          "title": {
           "x": 0.05
          },
          "xaxis": {
           "automargin": true,
           "gridcolor": "white",
           "linecolor": "white",
           "ticks": "",
           "title": {
            "standoff": 15
           },
           "zerolinecolor": "white",
           "zerolinewidth": 2
          },
          "yaxis": {
           "automargin": true,
           "gridcolor": "white",
           "linecolor": "white",
           "ticks": "",
           "title": {
            "standoff": 15
           },
           "zerolinecolor": "white",
           "zerolinewidth": 2
          }
         }
        },
        "title": {
         "font": {
          "color": "white",
          "family": "Open Sans",
          "size": 26,
          "weight": "bold"
         },
         "text": "Mean Error",
         "x": 0.5,
         "xanchor": "center",
         "yanchor": "top"
        },
        "width": 1300,
        "xaxis": {
         "showgrid": false,
         "tickfont": {
          "color": "white",
          "size": 20
         }
        },
        "yaxis": {
         "showgrid": false,
         "tickfont": {
          "color": "white",
          "size": 20
         },
         "title": {
          "text": "SUV"
         },
         "zeroline": false
        }
       }
      },
      "text/html": [
       "<div>                            <div id=\"7cf8cc08-0cf7-43c8-9f0c-818b88acfbde\" class=\"plotly-graph-div\" style=\"height:600px; width:1300px;\"></div>            <script type=\"text/javascript\">                require([\"plotly\"], function(Plotly) {                    window.PLOTLYENV=window.PLOTLYENV || {};                                    if (document.getElementById(\"7cf8cc08-0cf7-43c8-9f0c-818b88acfbde\")) {                    Plotly.newPlot(                        \"7cf8cc08-0cf7-43c8-9f0c-818b88acfbde\",                        [{\"boxmean\":\"sd\",\"fillcolor\":\"#ffffff\",\"line\":{\"width\":1},\"marker\":{\"color\":\"#ffffff\"},\"name\":\"Internal\",\"opacity\":1,\"y\":[-1.1891445939476657,0.2519972390057742,-0.3452557280437059,0.4697239865537157,-0.2674774272445508,-1.1910467561811826,-0.571929280222022,-1.6510359789546527],\"type\":\"box\"},{\"boxmean\":\"sd\",\"fillcolor\":\"#60d394\",\"line\":{\"width\":1},\"marker\":{\"color\":\"#60d394\"},\"name\":\"X-Scanner\",\"opacity\":1,\"y\":[-2.8029822558851394,-2.61883826259063,-2.0589265409436432,-1.3804961383168628,-1.522223770412285,-1.9142766090558891,-2.5051036116480816,-1.4837188627091455,-1.57910135796933,-2.1175220181913006,-0.8593295086365987,-2.242819236182748],\"type\":\"box\"},{\"boxmean\":\"sd\",\"fillcolor\":\"#e15759\",\"line\":{\"width\":1},\"marker\":{\"color\":\"#e15759\"},\"name\":\"X-TracerI\",\"opacity\":1,\"y\":[-0.2533228437352298,-0.7852880299539251,-0.5891696508336531,-0.4296144208442078,-0.5755135456364943,-0.3892674970584013,-0.4840485645080934,-0.3292656258239357,-0.3400530626732412,-0.3751449579957191],\"type\":\"box\"},{\"boxmean\":\"sd\",\"fillcolor\":\"#bcbd22\",\"line\":{\"width\":1},\"marker\":{\"color\":\"#bcbd22\"},\"name\":\"X-TracerII\",\"opacity\":1,\"y\":[-0.6534754940922887,-0.5654231048014308,-0.4301723711501698,-0.5165880588747674,-0.6677419447663477,-0.6584737454693153,-0.5517122499860377,-0.6939407854410562,-0.5987604593675865,-0.7300213318339184,-0.6785005724729886],\"type\":\"box\"}],                        {\"template\":{\"data\":{\"histogram2dcontour\":[{\"type\":\"histogram2dcontour\",\"colorbar\":{\"outlinewidth\":0,\"ticks\":\"\"},\"colorscale\":[[0.0,\"#0d0887\"],[0.1111111111111111,\"#46039f\"],[0.2222222222222222,\"#7201a8\"],[0.3333333333333333,\"#9c179e\"],[0.4444444444444444,\"#bd3786\"],[0.5555555555555556,\"#d8576b\"],[0.6666666666666666,\"#ed7953\"],[0.7777777777777778,\"#fb9f3a\"],[0.8888888888888888,\"#fdca26\"],[1.0,\"#f0f921\"]]}],\"choropleth\":[{\"type\":\"choropleth\",\"colorbar\":{\"outlinewidth\":0,\"ticks\":\"\"}}],\"histogram2d\":[{\"type\":\"histogram2d\",\"colorbar\":{\"outlinewidth\":0,\"ticks\":\"\"},\"colorscale\":[[0.0,\"#0d0887\"],[0.1111111111111111,\"#46039f\"],[0.2222222222222222,\"#7201a8\"],[0.3333333333333333,\"#9c179e\"],[0.4444444444444444,\"#bd3786\"],[0.5555555555555556,\"#d8576b\"],[0.6666666666666666,\"#ed7953\"],[0.7777777777777778,\"#fb9f3a\"],[0.8888888888888888,\"#fdca26\"],[1.0,\"#f0f921\"]]}],\"heatmap\":[{\"type\":\"heatmap\",\"colorbar\":{\"outlinewidth\":0,\"ticks\":\"\"},\"colorscale\":[[0.0,\"#0d0887\"],[0.1111111111111111,\"#46039f\"],[0.2222222222222222,\"#7201a8\"],[0.3333333333333333,\"#9c179e\"],[0.4444444444444444,\"#bd3786\"],[0.5555555555555556,\"#d8576b\"],[0.6666666666666666,\"#ed7953\"],[0.7777777777777778,\"#fb9f3a\"],[0.8888888888888888,\"#fdca26\"],[1.0,\"#f0f921\"]]}],\"heatmapgl\":[{\"type\":\"heatmapgl\",\"colorbar\":{\"outlinewidth\":0,\"ticks\":\"\"},\"colorscale\":[[0.0,\"#0d0887\"],[0.1111111111111111,\"#46039f\"],[0.2222222222222222,\"#7201a8\"],[0.3333333333333333,\"#9c179e\"],[0.4444444444444444,\"#bd3786\"],[0.5555555555555556,\"#d8576b\"],[0.6666666666666666,\"#ed7953\"],[0.7777777777777778,\"#fb9f3a\"],[0.8888888888888888,\"#fdca26\"],[1.0,\"#f0f921\"]]}],\"contourcarpet\":[{\"type\":\"contourcarpet\",\"colorbar\":{\"outlinewidth\":0,\"ticks\":\"\"}}],\"contour\":[{\"type\":\"contour\",\"colorbar\":{\"outlinewidth\":0,\"ticks\":\"\"},\"colorscale\":[[0.0,\"#0d0887\"],[0.1111111111111111,\"#46039f\"],[0.2222222222222222,\"#7201a8\"],[0.3333333333333333,\"#9c179e\"],[0.4444444444444444,\"#bd3786\"],[0.5555555555555556,\"#d8576b\"],[0.6666666666666666,\"#ed7953\"],[0.7777777777777778,\"#fb9f3a\"],[0.8888888888888888,\"#fdca26\"],[1.0,\"#f0f921\"]]}],\"surface\":[{\"type\":\"surface\",\"colorbar\":{\"outlinewidth\":0,\"ticks\":\"\"},\"colorscale\":[[0.0,\"#0d0887\"],[0.1111111111111111,\"#46039f\"],[0.2222222222222222,\"#7201a8\"],[0.3333333333333333,\"#9c179e\"],[0.4444444444444444,\"#bd3786\"],[0.5555555555555556,\"#d8576b\"],[0.6666666666666666,\"#ed7953\"],[0.7777777777777778,\"#fb9f3a\"],[0.8888888888888888,\"#fdca26\"],[1.0,\"#f0f921\"]]}],\"mesh3d\":[{\"type\":\"mesh3d\",\"colorbar\":{\"outlinewidth\":0,\"ticks\":\"\"}}],\"scatter\":[{\"fillpattern\":{\"fillmode\":\"overlay\",\"size\":10,\"solidity\":0.2},\"type\":\"scatter\"}],\"parcoords\":[{\"type\":\"parcoords\",\"line\":{\"colorbar\":{\"outlinewidth\":0,\"ticks\":\"\"}}}],\"scatterpolargl\":[{\"type\":\"scatterpolargl\",\"marker\":{\"colorbar\":{\"outlinewidth\":0,\"ticks\":\"\"}}}],\"bar\":[{\"error_x\":{\"color\":\"#2a3f5f\"},\"error_y\":{\"color\":\"#2a3f5f\"},\"marker\":{\"line\":{\"color\":\"#E5ECF6\",\"width\":0.5},\"pattern\":{\"fillmode\":\"overlay\",\"size\":10,\"solidity\":0.2}},\"type\":\"bar\"}],\"scattergeo\":[{\"type\":\"scattergeo\",\"marker\":{\"colorbar\":{\"outlinewidth\":0,\"ticks\":\"\"}}}],\"scatterpolar\":[{\"type\":\"scatterpolar\",\"marker\":{\"colorbar\":{\"outlinewidth\":0,\"ticks\":\"\"}}}],\"histogram\":[{\"marker\":{\"pattern\":{\"fillmode\":\"overlay\",\"size\":10,\"solidity\":0.2}},\"type\":\"histogram\"}],\"scattergl\":[{\"type\":\"scattergl\",\"marker\":{\"colorbar\":{\"outlinewidth\":0,\"ticks\":\"\"}}}],\"scatter3d\":[{\"type\":\"scatter3d\",\"line\":{\"colorbar\":{\"outlinewidth\":0,\"ticks\":\"\"}},\"marker\":{\"colorbar\":{\"outlinewidth\":0,\"ticks\":\"\"}}}],\"scattermapbox\":[{\"type\":\"scattermapbox\",\"marker\":{\"colorbar\":{\"outlinewidth\":0,\"ticks\":\"\"}}}],\"scatterternary\":[{\"type\":\"scatterternary\",\"marker\":{\"colorbar\":{\"outlinewidth\":0,\"ticks\":\"\"}}}],\"scattercarpet\":[{\"type\":\"scattercarpet\",\"marker\":{\"colorbar\":{\"outlinewidth\":0,\"ticks\":\"\"}}}],\"carpet\":[{\"aaxis\":{\"endlinecolor\":\"#2a3f5f\",\"gridcolor\":\"white\",\"linecolor\":\"white\",\"minorgridcolor\":\"white\",\"startlinecolor\":\"#2a3f5f\"},\"baxis\":{\"endlinecolor\":\"#2a3f5f\",\"gridcolor\":\"white\",\"linecolor\":\"white\",\"minorgridcolor\":\"white\",\"startlinecolor\":\"#2a3f5f\"},\"type\":\"carpet\"}],\"table\":[{\"cells\":{\"fill\":{\"color\":\"#EBF0F8\"},\"line\":{\"color\":\"white\"}},\"header\":{\"fill\":{\"color\":\"#C8D4E3\"},\"line\":{\"color\":\"white\"}},\"type\":\"table\"}],\"barpolar\":[{\"marker\":{\"line\":{\"color\":\"#E5ECF6\",\"width\":0.5},\"pattern\":{\"fillmode\":\"overlay\",\"size\":10,\"solidity\":0.2}},\"type\":\"barpolar\"}],\"pie\":[{\"automargin\":true,\"type\":\"pie\"}]},\"layout\":{\"autotypenumbers\":\"strict\",\"colorway\":[\"#636efa\",\"#EF553B\",\"#00cc96\",\"#ab63fa\",\"#FFA15A\",\"#19d3f3\",\"#FF6692\",\"#B6E880\",\"#FF97FF\",\"#FECB52\"],\"font\":{\"color\":\"#2a3f5f\"},\"hovermode\":\"closest\",\"hoverlabel\":{\"align\":\"left\"},\"paper_bgcolor\":\"white\",\"plot_bgcolor\":\"#E5ECF6\",\"polar\":{\"bgcolor\":\"#E5ECF6\",\"angularaxis\":{\"gridcolor\":\"white\",\"linecolor\":\"white\",\"ticks\":\"\"},\"radialaxis\":{\"gridcolor\":\"white\",\"linecolor\":\"white\",\"ticks\":\"\"}},\"ternary\":{\"bgcolor\":\"#E5ECF6\",\"aaxis\":{\"gridcolor\":\"white\",\"linecolor\":\"white\",\"ticks\":\"\"},\"baxis\":{\"gridcolor\":\"white\",\"linecolor\":\"white\",\"ticks\":\"\"},\"caxis\":{\"gridcolor\":\"white\",\"linecolor\":\"white\",\"ticks\":\"\"}},\"coloraxis\":{\"colorbar\":{\"outlinewidth\":0,\"ticks\":\"\"}},\"colorscale\":{\"sequential\":[[0.0,\"#0d0887\"],[0.1111111111111111,\"#46039f\"],[0.2222222222222222,\"#7201a8\"],[0.3333333333333333,\"#9c179e\"],[0.4444444444444444,\"#bd3786\"],[0.5555555555555556,\"#d8576b\"],[0.6666666666666666,\"#ed7953\"],[0.7777777777777778,\"#fb9f3a\"],[0.8888888888888888,\"#fdca26\"],[1.0,\"#f0f921\"]],\"sequentialminus\":[[0.0,\"#0d0887\"],[0.1111111111111111,\"#46039f\"],[0.2222222222222222,\"#7201a8\"],[0.3333333333333333,\"#9c179e\"],[0.4444444444444444,\"#bd3786\"],[0.5555555555555556,\"#d8576b\"],[0.6666666666666666,\"#ed7953\"],[0.7777777777777778,\"#fb9f3a\"],[0.8888888888888888,\"#fdca26\"],[1.0,\"#f0f921\"]],\"diverging\":[[0,\"#8e0152\"],[0.1,\"#c51b7d\"],[0.2,\"#de77ae\"],[0.3,\"#f1b6da\"],[0.4,\"#fde0ef\"],[0.5,\"#f7f7f7\"],[0.6,\"#e6f5d0\"],[0.7,\"#b8e186\"],[0.8,\"#7fbc41\"],[0.9,\"#4d9221\"],[1,\"#276419\"]]},\"xaxis\":{\"gridcolor\":\"white\",\"linecolor\":\"white\",\"ticks\":\"\",\"title\":{\"standoff\":15},\"zerolinecolor\":\"white\",\"automargin\":true,\"zerolinewidth\":2},\"yaxis\":{\"gridcolor\":\"white\",\"linecolor\":\"white\",\"ticks\":\"\",\"title\":{\"standoff\":15},\"zerolinecolor\":\"white\",\"automargin\":true,\"zerolinewidth\":2},\"scene\":{\"xaxis\":{\"backgroundcolor\":\"#E5ECF6\",\"gridcolor\":\"white\",\"linecolor\":\"white\",\"showbackground\":true,\"ticks\":\"\",\"zerolinecolor\":\"white\",\"gridwidth\":2},\"yaxis\":{\"backgroundcolor\":\"#E5ECF6\",\"gridcolor\":\"white\",\"linecolor\":\"white\",\"showbackground\":true,\"ticks\":\"\",\"zerolinecolor\":\"white\",\"gridwidth\":2},\"zaxis\":{\"backgroundcolor\":\"#E5ECF6\",\"gridcolor\":\"white\",\"linecolor\":\"white\",\"showbackground\":true,\"ticks\":\"\",\"zerolinecolor\":\"white\",\"gridwidth\":2}},\"shapedefaults\":{\"line\":{\"color\":\"#2a3f5f\"}},\"annotationdefaults\":{\"arrowcolor\":\"#2a3f5f\",\"arrowhead\":0,\"arrowwidth\":1},\"geo\":{\"bgcolor\":\"white\",\"landcolor\":\"#E5ECF6\",\"subunitcolor\":\"white\",\"showland\":true,\"showlakes\":true,\"lakecolor\":\"white\"},\"title\":{\"x\":0.05},\"mapbox\":{\"style\":\"light\"}}},\"title\":{\"font\":{\"color\":\"white\",\"size\":26,\"family\":\"Open Sans\",\"weight\":\"bold\"},\"text\":\"Mean Error\",\"x\":0.5,\"xanchor\":\"center\",\"yanchor\":\"top\"},\"font\":{\"family\":\"Open Sans\",\"size\":24,\"color\":\"white\"},\"legend\":{\"font\":{\"size\":24,\"color\":\"white\"}},\"plot_bgcolor\":\"rgba(0,0,0,0)\",\"paper_bgcolor\":\"rgba(0,0,0,0)\",\"height\":600,\"width\":1300,\"yaxis\":{\"title\":{\"text\":\"SUV\"},\"tickfont\":{\"size\":20,\"color\":\"white\"},\"showgrid\":false,\"zeroline\":false},\"xaxis\":{\"tickfont\":{\"size\":20,\"color\":\"white\"},\"showgrid\":false}},                        {\"responsive\": true}                    ).then(function(){\n",
       "                            \n",
       "var gd = document.getElementById('7cf8cc08-0cf7-43c8-9f0c-818b88acfbde');\n",
       "var x = new MutationObserver(function (mutations, observer) {{\n",
       "        var display = window.getComputedStyle(gd).display;\n",
       "        if (!display || display === 'none') {{\n",
       "            console.log([gd, 'removed!']);\n",
       "            Plotly.purge(gd);\n",
       "            observer.disconnect();\n",
       "        }}\n",
       "}});\n",
       "\n",
       "// Listen for the removal of the full notebook cells\n",
       "var notebookContainer = gd.closest('#notebook-container');\n",
       "if (notebookContainer) {{\n",
       "    x.observe(notebookContainer, {childList: true});\n",
       "}}\n",
       "\n",
       "// Listen for the clearing of the current output cell\n",
       "var outputEl = gd.closest('.output');\n",
       "if (outputEl) {{\n",
       "    x.observe(outputEl, {childList: true});\n",
       "}}\n",
       "\n",
       "                        })                };                });            </script>        </div>"
      ]
     },
     "metadata": {},
     "output_type": "display_data"
    },
    {
     "data": {
      "application/vnd.plotly.v1+json": {
       "config": {
        "plotlyServerURL": "https://plot.ly"
       },
       "data": [
        {
         "boxmean": "sd",
         "fillcolor": "#ffffff",
         "line": {
          "width": 1
         },
         "marker": {
          "color": "#ffffff"
         },
         "name": "Internal",
         "opacity": 1,
         "type": "box",
         "y": [
          1.517361489996696,
          0.8275240137907782,
          0.9869154858559932,
          0.9437248147227836,
          1.0744210906700502,
          1.5142801760010207,
          1.4565999868643928,
          1.88817761050526
         ]
        },
        {
         "boxmean": "sd",
         "fillcolor": "#60d394",
         "line": {
          "width": 1
         },
         "marker": {
          "color": "#60d394"
         },
         "name": "X-Scanner",
         "opacity": 1,
         "type": "box",
         "y": [
          4.417342194370151,
          2.8076072389118965,
          2.4864845848901043,
          1.7319208581558423,
          1.7898230202118135,
          2.177386542876722,
          2.707857556805558,
          1.85889431495399,
          1.921940169312726,
          2.58854386999932,
          1.623257134108491,
          2.485387858809451
         ]
        },
        {
         "boxmean": "sd",
         "fillcolor": "#e15759",
         "line": {
          "width": 1
         },
         "marker": {
          "color": "#e15759"
         },
         "name": "X-TracerI",
         "opacity": 1,
         "type": "box",
         "y": [
          0.4917047478059849,
          0.9156344698244988,
          0.7324099092769698,
          0.7304263400792187,
          0.6670736154685519,
          0.6237066996545871,
          0.6552700578250187,
          0.5305214697610935,
          0.5487823306237434,
          0.5006862620773223
         ]
        },
        {
         "boxmean": "sd",
         "fillcolor": "#bcbd22",
         "line": {
          "width": 1
         },
         "marker": {
          "color": "#bcbd22"
         },
         "name": "X-TracerII",
         "opacity": 1,
         "type": "box",
         "y": [
          0.7210977033710827,
          0.7456819546786527,
          0.5399609170216582,
          0.5986961414527346,
          0.7554271812442813,
          0.7156378882314999,
          0.6309174210748317,
          0.927649861417883,
          0.6681821982465295,
          0.923420638408704,
          0.7765314715813427
         ]
        }
       ],
       "layout": {
        "font": {
         "color": "white",
         "family": "Open Sans",
         "size": 24
        },
        "height": 600,
        "legend": {
         "font": {
          "color": "white",
          "size": 24
         }
        },
        "paper_bgcolor": "rgba(0,0,0,0)",
        "plot_bgcolor": "rgba(0,0,0,0)",
        "template": {
         "data": {
          "bar": [
           {
            "error_x": {
             "color": "#2a3f5f"
            },
            "error_y": {
             "color": "#2a3f5f"
            },
            "marker": {
             "line": {
              "color": "#E5ECF6",
              "width": 0.5
             },
             "pattern": {
              "fillmode": "overlay",
              "size": 10,
              "solidity": 0.2
             }
            },
            "type": "bar"
           }
          ],
          "barpolar": [
           {
            "marker": {
             "line": {
              "color": "#E5ECF6",
              "width": 0.5
             },
             "pattern": {
              "fillmode": "overlay",
              "size": 10,
              "solidity": 0.2
             }
            },
            "type": "barpolar"
           }
          ],
          "carpet": [
           {
            "aaxis": {
             "endlinecolor": "#2a3f5f",
             "gridcolor": "white",
             "linecolor": "white",
             "minorgridcolor": "white",
             "startlinecolor": "#2a3f5f"
            },
            "baxis": {
             "endlinecolor": "#2a3f5f",
             "gridcolor": "white",
             "linecolor": "white",
             "minorgridcolor": "white",
             "startlinecolor": "#2a3f5f"
            },
            "type": "carpet"
           }
          ],
          "choropleth": [
           {
            "colorbar": {
             "outlinewidth": 0,
             "ticks": ""
            },
            "type": "choropleth"
           }
          ],
          "contour": [
           {
            "colorbar": {
             "outlinewidth": 0,
             "ticks": ""
            },
            "colorscale": [
             [
              0,
              "#0d0887"
             ],
             [
              0.1111111111111111,
              "#46039f"
             ],
             [
              0.2222222222222222,
              "#7201a8"
             ],
             [
              0.3333333333333333,
              "#9c179e"
             ],
             [
              0.4444444444444444,
              "#bd3786"
             ],
             [
              0.5555555555555556,
              "#d8576b"
             ],
             [
              0.6666666666666666,
              "#ed7953"
             ],
             [
              0.7777777777777778,
              "#fb9f3a"
             ],
             [
              0.8888888888888888,
              "#fdca26"
             ],
             [
              1,
              "#f0f921"
             ]
            ],
            "type": "contour"
           }
          ],
          "contourcarpet": [
           {
            "colorbar": {
             "outlinewidth": 0,
             "ticks": ""
            },
            "type": "contourcarpet"
           }
          ],
          "heatmap": [
           {
            "colorbar": {
             "outlinewidth": 0,
             "ticks": ""
            },
            "colorscale": [
             [
              0,
              "#0d0887"
             ],
             [
              0.1111111111111111,
              "#46039f"
             ],
             [
              0.2222222222222222,
              "#7201a8"
             ],
             [
              0.3333333333333333,
              "#9c179e"
             ],
             [
              0.4444444444444444,
              "#bd3786"
             ],
             [
              0.5555555555555556,
              "#d8576b"
             ],
             [
              0.6666666666666666,
              "#ed7953"
             ],
             [
              0.7777777777777778,
              "#fb9f3a"
             ],
             [
              0.8888888888888888,
              "#fdca26"
             ],
             [
              1,
              "#f0f921"
             ]
            ],
            "type": "heatmap"
           }
          ],
          "heatmapgl": [
           {
            "colorbar": {
             "outlinewidth": 0,
             "ticks": ""
            },
            "colorscale": [
             [
              0,
              "#0d0887"
             ],
             [
              0.1111111111111111,
              "#46039f"
             ],
             [
              0.2222222222222222,
              "#7201a8"
             ],
             [
              0.3333333333333333,
              "#9c179e"
             ],
             [
              0.4444444444444444,
              "#bd3786"
             ],
             [
              0.5555555555555556,
              "#d8576b"
             ],
             [
              0.6666666666666666,
              "#ed7953"
             ],
             [
              0.7777777777777778,
              "#fb9f3a"
             ],
             [
              0.8888888888888888,
              "#fdca26"
             ],
             [
              1,
              "#f0f921"
             ]
            ],
            "type": "heatmapgl"
           }
          ],
          "histogram": [
           {
            "marker": {
             "pattern": {
              "fillmode": "overlay",
              "size": 10,
              "solidity": 0.2
             }
            },
            "type": "histogram"
           }
          ],
          "histogram2d": [
           {
            "colorbar": {
             "outlinewidth": 0,
             "ticks": ""
            },
            "colorscale": [
             [
              0,
              "#0d0887"
             ],
             [
              0.1111111111111111,
              "#46039f"
             ],
             [
              0.2222222222222222,
              "#7201a8"
             ],
             [
              0.3333333333333333,
              "#9c179e"
             ],
             [
              0.4444444444444444,
              "#bd3786"
             ],
             [
              0.5555555555555556,
              "#d8576b"
             ],
             [
              0.6666666666666666,
              "#ed7953"
             ],
             [
              0.7777777777777778,
              "#fb9f3a"
             ],
             [
              0.8888888888888888,
              "#fdca26"
             ],
             [
              1,
              "#f0f921"
             ]
            ],
            "type": "histogram2d"
           }
          ],
          "histogram2dcontour": [
           {
            "colorbar": {
             "outlinewidth": 0,
             "ticks": ""
            },
            "colorscale": [
             [
              0,
              "#0d0887"
             ],
             [
              0.1111111111111111,
              "#46039f"
             ],
             [
              0.2222222222222222,
              "#7201a8"
             ],
             [
              0.3333333333333333,
              "#9c179e"
             ],
             [
              0.4444444444444444,
              "#bd3786"
             ],
             [
              0.5555555555555556,
              "#d8576b"
             ],
             [
              0.6666666666666666,
              "#ed7953"
             ],
             [
              0.7777777777777778,
              "#fb9f3a"
             ],
             [
              0.8888888888888888,
              "#fdca26"
             ],
             [
              1,
              "#f0f921"
             ]
            ],
            "type": "histogram2dcontour"
           }
          ],
          "mesh3d": [
           {
            "colorbar": {
             "outlinewidth": 0,
             "ticks": ""
            },
            "type": "mesh3d"
           }
          ],
          "parcoords": [
           {
            "line": {
             "colorbar": {
              "outlinewidth": 0,
              "ticks": ""
             }
            },
            "type": "parcoords"
           }
          ],
          "pie": [
           {
            "automargin": true,
            "type": "pie"
           }
          ],
          "scatter": [
           {
            "fillpattern": {
             "fillmode": "overlay",
             "size": 10,
             "solidity": 0.2
            },
            "type": "scatter"
           }
          ],
          "scatter3d": [
           {
            "line": {
             "colorbar": {
              "outlinewidth": 0,
              "ticks": ""
             }
            },
            "marker": {
             "colorbar": {
              "outlinewidth": 0,
              "ticks": ""
             }
            },
            "type": "scatter3d"
           }
          ],
          "scattercarpet": [
           {
            "marker": {
             "colorbar": {
              "outlinewidth": 0,
              "ticks": ""
             }
            },
            "type": "scattercarpet"
           }
          ],
          "scattergeo": [
           {
            "marker": {
             "colorbar": {
              "outlinewidth": 0,
              "ticks": ""
             }
            },
            "type": "scattergeo"
           }
          ],
          "scattergl": [
           {
            "marker": {
             "colorbar": {
              "outlinewidth": 0,
              "ticks": ""
             }
            },
            "type": "scattergl"
           }
          ],
          "scattermapbox": [
           {
            "marker": {
             "colorbar": {
              "outlinewidth": 0,
              "ticks": ""
             }
            },
            "type": "scattermapbox"
           }
          ],
          "scatterpolar": [
           {
            "marker": {
             "colorbar": {
              "outlinewidth": 0,
              "ticks": ""
             }
            },
            "type": "scatterpolar"
           }
          ],
          "scatterpolargl": [
           {
            "marker": {
             "colorbar": {
              "outlinewidth": 0,
              "ticks": ""
             }
            },
            "type": "scatterpolargl"
           }
          ],
          "scatterternary": [
           {
            "marker": {
             "colorbar": {
              "outlinewidth": 0,
              "ticks": ""
             }
            },
            "type": "scatterternary"
           }
          ],
          "surface": [
           {
            "colorbar": {
             "outlinewidth": 0,
             "ticks": ""
            },
            "colorscale": [
             [
              0,
              "#0d0887"
             ],
             [
              0.1111111111111111,
              "#46039f"
             ],
             [
              0.2222222222222222,
              "#7201a8"
             ],
             [
              0.3333333333333333,
              "#9c179e"
             ],
             [
              0.4444444444444444,
              "#bd3786"
             ],
             [
              0.5555555555555556,
              "#d8576b"
             ],
             [
              0.6666666666666666,
              "#ed7953"
             ],
             [
              0.7777777777777778,
              "#fb9f3a"
             ],
             [
              0.8888888888888888,
              "#fdca26"
             ],
             [
              1,
              "#f0f921"
             ]
            ],
            "type": "surface"
           }
          ],
          "table": [
           {
            "cells": {
             "fill": {
              "color": "#EBF0F8"
             },
             "line": {
              "color": "white"
             }
            },
            "header": {
             "fill": {
              "color": "#C8D4E3"
             },
             "line": {
              "color": "white"
             }
            },
            "type": "table"
           }
          ]
         },
         "layout": {
          "annotationdefaults": {
           "arrowcolor": "#2a3f5f",
           "arrowhead": 0,
           "arrowwidth": 1
          },
          "autotypenumbers": "strict",
          "coloraxis": {
           "colorbar": {
            "outlinewidth": 0,
            "ticks": ""
           }
          },
          "colorscale": {
           "diverging": [
            [
             0,
             "#8e0152"
            ],
            [
             0.1,
             "#c51b7d"
            ],
            [
             0.2,
             "#de77ae"
            ],
            [
             0.3,
             "#f1b6da"
            ],
            [
             0.4,
             "#fde0ef"
            ],
            [
             0.5,
             "#f7f7f7"
            ],
            [
             0.6,
             "#e6f5d0"
            ],
            [
             0.7,
             "#b8e186"
            ],
            [
             0.8,
             "#7fbc41"
            ],
            [
             0.9,
             "#4d9221"
            ],
            [
             1,
             "#276419"
            ]
           ],
           "sequential": [
            [
             0,
             "#0d0887"
            ],
            [
             0.1111111111111111,
             "#46039f"
            ],
            [
             0.2222222222222222,
             "#7201a8"
            ],
            [
             0.3333333333333333,
             "#9c179e"
            ],
            [
             0.4444444444444444,
             "#bd3786"
            ],
            [
             0.5555555555555556,
             "#d8576b"
            ],
            [
             0.6666666666666666,
             "#ed7953"
            ],
            [
             0.7777777777777778,
             "#fb9f3a"
            ],
            [
             0.8888888888888888,
             "#fdca26"
            ],
            [
             1,
             "#f0f921"
            ]
           ],
           "sequentialminus": [
            [
             0,
             "#0d0887"
            ],
            [
             0.1111111111111111,
             "#46039f"
            ],
            [
             0.2222222222222222,
             "#7201a8"
            ],
            [
             0.3333333333333333,
             "#9c179e"
            ],
            [
             0.4444444444444444,
             "#bd3786"
            ],
            [
             0.5555555555555556,
             "#d8576b"
            ],
            [
             0.6666666666666666,
             "#ed7953"
            ],
            [
             0.7777777777777778,
             "#fb9f3a"
            ],
            [
             0.8888888888888888,
             "#fdca26"
            ],
            [
             1,
             "#f0f921"
            ]
           ]
          },
          "colorway": [
           "#636efa",
           "#EF553B",
           "#00cc96",
           "#ab63fa",
           "#FFA15A",
           "#19d3f3",
           "#FF6692",
           "#B6E880",
           "#FF97FF",
           "#FECB52"
          ],
          "font": {
           "color": "#2a3f5f"
          },
          "geo": {
           "bgcolor": "white",
           "lakecolor": "white",
           "landcolor": "#E5ECF6",
           "showlakes": true,
           "showland": true,
           "subunitcolor": "white"
          },
          "hoverlabel": {
           "align": "left"
          },
          "hovermode": "closest",
          "mapbox": {
           "style": "light"
          },
          "paper_bgcolor": "white",
          "plot_bgcolor": "#E5ECF6",
          "polar": {
           "angularaxis": {
            "gridcolor": "white",
            "linecolor": "white",
            "ticks": ""
           },
           "bgcolor": "#E5ECF6",
           "radialaxis": {
            "gridcolor": "white",
            "linecolor": "white",
            "ticks": ""
           }
          },
          "scene": {
           "xaxis": {
            "backgroundcolor": "#E5ECF6",
            "gridcolor": "white",
            "gridwidth": 2,
            "linecolor": "white",
            "showbackground": true,
            "ticks": "",
            "zerolinecolor": "white"
           },
           "yaxis": {
            "backgroundcolor": "#E5ECF6",
            "gridcolor": "white",
            "gridwidth": 2,
            "linecolor": "white",
            "showbackground": true,
            "ticks": "",
            "zerolinecolor": "white"
           },
           "zaxis": {
            "backgroundcolor": "#E5ECF6",
            "gridcolor": "white",
            "gridwidth": 2,
            "linecolor": "white",
            "showbackground": true,
            "ticks": "",
            "zerolinecolor": "white"
           }
          },
          "shapedefaults": {
           "line": {
            "color": "#2a3f5f"
           }
          },
          "ternary": {
           "aaxis": {
            "gridcolor": "white",
            "linecolor": "white",
            "ticks": ""
           },
           "baxis": {
            "gridcolor": "white",
            "linecolor": "white",
            "ticks": ""
           },
           "bgcolor": "#E5ECF6",
           "caxis": {
            "gridcolor": "white",
            "linecolor": "white",
            "ticks": ""
           }
          },
          "title": {
           "x": 0.05
          },
          "xaxis": {
           "automargin": true,
           "gridcolor": "white",
           "linecolor": "white",
           "ticks": "",
           "title": {
            "standoff": 15
           },
           "zerolinecolor": "white",
           "zerolinewidth": 2
          },
          "yaxis": {
           "automargin": true,
           "gridcolor": "white",
           "linecolor": "white",
           "ticks": "",
           "title": {
            "standoff": 15
           },
           "zerolinecolor": "white",
           "zerolinewidth": 2
          }
         }
        },
        "title": {
         "font": {
          "color": "white",
          "family": "Open Sans",
          "size": 26,
          "weight": "bold"
         },
         "text": "Mean Absolute Error",
         "x": 0.5,
         "xanchor": "center",
         "yanchor": "top"
        },
        "width": 1300,
        "xaxis": {
         "showgrid": false,
         "tickfont": {
          "color": "white",
          "size": 20
         }
        },
        "yaxis": {
         "showgrid": false,
         "tickfont": {
          "color": "white",
          "size": 20
         },
         "title": {
          "text": "SUV"
         },
         "zeroline": false
        }
       }
      },
      "text/html": [
       "<div>                            <div id=\"366fe2d6-f88d-4ebc-8aa7-1bbc1a5a7cb1\" class=\"plotly-graph-div\" style=\"height:600px; width:1300px;\"></div>            <script type=\"text/javascript\">                require([\"plotly\"], function(Plotly) {                    window.PLOTLYENV=window.PLOTLYENV || {};                                    if (document.getElementById(\"366fe2d6-f88d-4ebc-8aa7-1bbc1a5a7cb1\")) {                    Plotly.newPlot(                        \"366fe2d6-f88d-4ebc-8aa7-1bbc1a5a7cb1\",                        [{\"boxmean\":\"sd\",\"fillcolor\":\"#ffffff\",\"line\":{\"width\":1},\"marker\":{\"color\":\"#ffffff\"},\"name\":\"Internal\",\"opacity\":1,\"y\":[1.517361489996696,0.8275240137907782,0.9869154858559932,0.9437248147227836,1.0744210906700502,1.5142801760010207,1.4565999868643928,1.88817761050526],\"type\":\"box\"},{\"boxmean\":\"sd\",\"fillcolor\":\"#60d394\",\"line\":{\"width\":1},\"marker\":{\"color\":\"#60d394\"},\"name\":\"X-Scanner\",\"opacity\":1,\"y\":[4.417342194370151,2.8076072389118965,2.4864845848901043,1.7319208581558423,1.7898230202118135,2.177386542876722,2.707857556805558,1.85889431495399,1.921940169312726,2.58854386999932,1.623257134108491,2.485387858809451],\"type\":\"box\"},{\"boxmean\":\"sd\",\"fillcolor\":\"#e15759\",\"line\":{\"width\":1},\"marker\":{\"color\":\"#e15759\"},\"name\":\"X-TracerI\",\"opacity\":1,\"y\":[0.4917047478059849,0.9156344698244988,0.7324099092769698,0.7304263400792187,0.6670736154685519,0.6237066996545871,0.6552700578250187,0.5305214697610935,0.5487823306237434,0.5006862620773223],\"type\":\"box\"},{\"boxmean\":\"sd\",\"fillcolor\":\"#bcbd22\",\"line\":{\"width\":1},\"marker\":{\"color\":\"#bcbd22\"},\"name\":\"X-TracerII\",\"opacity\":1,\"y\":[0.7210977033710827,0.7456819546786527,0.5399609170216582,0.5986961414527346,0.7554271812442813,0.7156378882314999,0.6309174210748317,0.927649861417883,0.6681821982465295,0.923420638408704,0.7765314715813427],\"type\":\"box\"}],                        {\"template\":{\"data\":{\"histogram2dcontour\":[{\"type\":\"histogram2dcontour\",\"colorbar\":{\"outlinewidth\":0,\"ticks\":\"\"},\"colorscale\":[[0.0,\"#0d0887\"],[0.1111111111111111,\"#46039f\"],[0.2222222222222222,\"#7201a8\"],[0.3333333333333333,\"#9c179e\"],[0.4444444444444444,\"#bd3786\"],[0.5555555555555556,\"#d8576b\"],[0.6666666666666666,\"#ed7953\"],[0.7777777777777778,\"#fb9f3a\"],[0.8888888888888888,\"#fdca26\"],[1.0,\"#f0f921\"]]}],\"choropleth\":[{\"type\":\"choropleth\",\"colorbar\":{\"outlinewidth\":0,\"ticks\":\"\"}}],\"histogram2d\":[{\"type\":\"histogram2d\",\"colorbar\":{\"outlinewidth\":0,\"ticks\":\"\"},\"colorscale\":[[0.0,\"#0d0887\"],[0.1111111111111111,\"#46039f\"],[0.2222222222222222,\"#7201a8\"],[0.3333333333333333,\"#9c179e\"],[0.4444444444444444,\"#bd3786\"],[0.5555555555555556,\"#d8576b\"],[0.6666666666666666,\"#ed7953\"],[0.7777777777777778,\"#fb9f3a\"],[0.8888888888888888,\"#fdca26\"],[1.0,\"#f0f921\"]]}],\"heatmap\":[{\"type\":\"heatmap\",\"colorbar\":{\"outlinewidth\":0,\"ticks\":\"\"},\"colorscale\":[[0.0,\"#0d0887\"],[0.1111111111111111,\"#46039f\"],[0.2222222222222222,\"#7201a8\"],[0.3333333333333333,\"#9c179e\"],[0.4444444444444444,\"#bd3786\"],[0.5555555555555556,\"#d8576b\"],[0.6666666666666666,\"#ed7953\"],[0.7777777777777778,\"#fb9f3a\"],[0.8888888888888888,\"#fdca26\"],[1.0,\"#f0f921\"]]}],\"heatmapgl\":[{\"type\":\"heatmapgl\",\"colorbar\":{\"outlinewidth\":0,\"ticks\":\"\"},\"colorscale\":[[0.0,\"#0d0887\"],[0.1111111111111111,\"#46039f\"],[0.2222222222222222,\"#7201a8\"],[0.3333333333333333,\"#9c179e\"],[0.4444444444444444,\"#bd3786\"],[0.5555555555555556,\"#d8576b\"],[0.6666666666666666,\"#ed7953\"],[0.7777777777777778,\"#fb9f3a\"],[0.8888888888888888,\"#fdca26\"],[1.0,\"#f0f921\"]]}],\"contourcarpet\":[{\"type\":\"contourcarpet\",\"colorbar\":{\"outlinewidth\":0,\"ticks\":\"\"}}],\"contour\":[{\"type\":\"contour\",\"colorbar\":{\"outlinewidth\":0,\"ticks\":\"\"},\"colorscale\":[[0.0,\"#0d0887\"],[0.1111111111111111,\"#46039f\"],[0.2222222222222222,\"#7201a8\"],[0.3333333333333333,\"#9c179e\"],[0.4444444444444444,\"#bd3786\"],[0.5555555555555556,\"#d8576b\"],[0.6666666666666666,\"#ed7953\"],[0.7777777777777778,\"#fb9f3a\"],[0.8888888888888888,\"#fdca26\"],[1.0,\"#f0f921\"]]}],\"surface\":[{\"type\":\"surface\",\"colorbar\":{\"outlinewidth\":0,\"ticks\":\"\"},\"colorscale\":[[0.0,\"#0d0887\"],[0.1111111111111111,\"#46039f\"],[0.2222222222222222,\"#7201a8\"],[0.3333333333333333,\"#9c179e\"],[0.4444444444444444,\"#bd3786\"],[0.5555555555555556,\"#d8576b\"],[0.6666666666666666,\"#ed7953\"],[0.7777777777777778,\"#fb9f3a\"],[0.8888888888888888,\"#fdca26\"],[1.0,\"#f0f921\"]]}],\"mesh3d\":[{\"type\":\"mesh3d\",\"colorbar\":{\"outlinewidth\":0,\"ticks\":\"\"}}],\"scatter\":[{\"fillpattern\":{\"fillmode\":\"overlay\",\"size\":10,\"solidity\":0.2},\"type\":\"scatter\"}],\"parcoords\":[{\"type\":\"parcoords\",\"line\":{\"colorbar\":{\"outlinewidth\":0,\"ticks\":\"\"}}}],\"scatterpolargl\":[{\"type\":\"scatterpolargl\",\"marker\":{\"colorbar\":{\"outlinewidth\":0,\"ticks\":\"\"}}}],\"bar\":[{\"error_x\":{\"color\":\"#2a3f5f\"},\"error_y\":{\"color\":\"#2a3f5f\"},\"marker\":{\"line\":{\"color\":\"#E5ECF6\",\"width\":0.5},\"pattern\":{\"fillmode\":\"overlay\",\"size\":10,\"solidity\":0.2}},\"type\":\"bar\"}],\"scattergeo\":[{\"type\":\"scattergeo\",\"marker\":{\"colorbar\":{\"outlinewidth\":0,\"ticks\":\"\"}}}],\"scatterpolar\":[{\"type\":\"scatterpolar\",\"marker\":{\"colorbar\":{\"outlinewidth\":0,\"ticks\":\"\"}}}],\"histogram\":[{\"marker\":{\"pattern\":{\"fillmode\":\"overlay\",\"size\":10,\"solidity\":0.2}},\"type\":\"histogram\"}],\"scattergl\":[{\"type\":\"scattergl\",\"marker\":{\"colorbar\":{\"outlinewidth\":0,\"ticks\":\"\"}}}],\"scatter3d\":[{\"type\":\"scatter3d\",\"line\":{\"colorbar\":{\"outlinewidth\":0,\"ticks\":\"\"}},\"marker\":{\"colorbar\":{\"outlinewidth\":0,\"ticks\":\"\"}}}],\"scattermapbox\":[{\"type\":\"scattermapbox\",\"marker\":{\"colorbar\":{\"outlinewidth\":0,\"ticks\":\"\"}}}],\"scatterternary\":[{\"type\":\"scatterternary\",\"marker\":{\"colorbar\":{\"outlinewidth\":0,\"ticks\":\"\"}}}],\"scattercarpet\":[{\"type\":\"scattercarpet\",\"marker\":{\"colorbar\":{\"outlinewidth\":0,\"ticks\":\"\"}}}],\"carpet\":[{\"aaxis\":{\"endlinecolor\":\"#2a3f5f\",\"gridcolor\":\"white\",\"linecolor\":\"white\",\"minorgridcolor\":\"white\",\"startlinecolor\":\"#2a3f5f\"},\"baxis\":{\"endlinecolor\":\"#2a3f5f\",\"gridcolor\":\"white\",\"linecolor\":\"white\",\"minorgridcolor\":\"white\",\"startlinecolor\":\"#2a3f5f\"},\"type\":\"carpet\"}],\"table\":[{\"cells\":{\"fill\":{\"color\":\"#EBF0F8\"},\"line\":{\"color\":\"white\"}},\"header\":{\"fill\":{\"color\":\"#C8D4E3\"},\"line\":{\"color\":\"white\"}},\"type\":\"table\"}],\"barpolar\":[{\"marker\":{\"line\":{\"color\":\"#E5ECF6\",\"width\":0.5},\"pattern\":{\"fillmode\":\"overlay\",\"size\":10,\"solidity\":0.2}},\"type\":\"barpolar\"}],\"pie\":[{\"automargin\":true,\"type\":\"pie\"}]},\"layout\":{\"autotypenumbers\":\"strict\",\"colorway\":[\"#636efa\",\"#EF553B\",\"#00cc96\",\"#ab63fa\",\"#FFA15A\",\"#19d3f3\",\"#FF6692\",\"#B6E880\",\"#FF97FF\",\"#FECB52\"],\"font\":{\"color\":\"#2a3f5f\"},\"hovermode\":\"closest\",\"hoverlabel\":{\"align\":\"left\"},\"paper_bgcolor\":\"white\",\"plot_bgcolor\":\"#E5ECF6\",\"polar\":{\"bgcolor\":\"#E5ECF6\",\"angularaxis\":{\"gridcolor\":\"white\",\"linecolor\":\"white\",\"ticks\":\"\"},\"radialaxis\":{\"gridcolor\":\"white\",\"linecolor\":\"white\",\"ticks\":\"\"}},\"ternary\":{\"bgcolor\":\"#E5ECF6\",\"aaxis\":{\"gridcolor\":\"white\",\"linecolor\":\"white\",\"ticks\":\"\"},\"baxis\":{\"gridcolor\":\"white\",\"linecolor\":\"white\",\"ticks\":\"\"},\"caxis\":{\"gridcolor\":\"white\",\"linecolor\":\"white\",\"ticks\":\"\"}},\"coloraxis\":{\"colorbar\":{\"outlinewidth\":0,\"ticks\":\"\"}},\"colorscale\":{\"sequential\":[[0.0,\"#0d0887\"],[0.1111111111111111,\"#46039f\"],[0.2222222222222222,\"#7201a8\"],[0.3333333333333333,\"#9c179e\"],[0.4444444444444444,\"#bd3786\"],[0.5555555555555556,\"#d8576b\"],[0.6666666666666666,\"#ed7953\"],[0.7777777777777778,\"#fb9f3a\"],[0.8888888888888888,\"#fdca26\"],[1.0,\"#f0f921\"]],\"sequentialminus\":[[0.0,\"#0d0887\"],[0.1111111111111111,\"#46039f\"],[0.2222222222222222,\"#7201a8\"],[0.3333333333333333,\"#9c179e\"],[0.4444444444444444,\"#bd3786\"],[0.5555555555555556,\"#d8576b\"],[0.6666666666666666,\"#ed7953\"],[0.7777777777777778,\"#fb9f3a\"],[0.8888888888888888,\"#fdca26\"],[1.0,\"#f0f921\"]],\"diverging\":[[0,\"#8e0152\"],[0.1,\"#c51b7d\"],[0.2,\"#de77ae\"],[0.3,\"#f1b6da\"],[0.4,\"#fde0ef\"],[0.5,\"#f7f7f7\"],[0.6,\"#e6f5d0\"],[0.7,\"#b8e186\"],[0.8,\"#7fbc41\"],[0.9,\"#4d9221\"],[1,\"#276419\"]]},\"xaxis\":{\"gridcolor\":\"white\",\"linecolor\":\"white\",\"ticks\":\"\",\"title\":{\"standoff\":15},\"zerolinecolor\":\"white\",\"automargin\":true,\"zerolinewidth\":2},\"yaxis\":{\"gridcolor\":\"white\",\"linecolor\":\"white\",\"ticks\":\"\",\"title\":{\"standoff\":15},\"zerolinecolor\":\"white\",\"automargin\":true,\"zerolinewidth\":2},\"scene\":{\"xaxis\":{\"backgroundcolor\":\"#E5ECF6\",\"gridcolor\":\"white\",\"linecolor\":\"white\",\"showbackground\":true,\"ticks\":\"\",\"zerolinecolor\":\"white\",\"gridwidth\":2},\"yaxis\":{\"backgroundcolor\":\"#E5ECF6\",\"gridcolor\":\"white\",\"linecolor\":\"white\",\"showbackground\":true,\"ticks\":\"\",\"zerolinecolor\":\"white\",\"gridwidth\":2},\"zaxis\":{\"backgroundcolor\":\"#E5ECF6\",\"gridcolor\":\"white\",\"linecolor\":\"white\",\"showbackground\":true,\"ticks\":\"\",\"zerolinecolor\":\"white\",\"gridwidth\":2}},\"shapedefaults\":{\"line\":{\"color\":\"#2a3f5f\"}},\"annotationdefaults\":{\"arrowcolor\":\"#2a3f5f\",\"arrowhead\":0,\"arrowwidth\":1},\"geo\":{\"bgcolor\":\"white\",\"landcolor\":\"#E5ECF6\",\"subunitcolor\":\"white\",\"showland\":true,\"showlakes\":true,\"lakecolor\":\"white\"},\"title\":{\"x\":0.05},\"mapbox\":{\"style\":\"light\"}}},\"title\":{\"font\":{\"color\":\"white\",\"size\":26,\"family\":\"Open Sans\",\"weight\":\"bold\"},\"text\":\"Mean Absolute Error\",\"x\":0.5,\"xanchor\":\"center\",\"yanchor\":\"top\"},\"font\":{\"family\":\"Open Sans\",\"size\":24,\"color\":\"white\"},\"legend\":{\"font\":{\"size\":24,\"color\":\"white\"}},\"plot_bgcolor\":\"rgba(0,0,0,0)\",\"paper_bgcolor\":\"rgba(0,0,0,0)\",\"height\":600,\"width\":1300,\"yaxis\":{\"title\":{\"text\":\"SUV\"},\"tickfont\":{\"size\":20,\"color\":\"white\"},\"showgrid\":false,\"zeroline\":false},\"xaxis\":{\"tickfont\":{\"size\":20,\"color\":\"white\"},\"showgrid\":false}},                        {\"responsive\": true}                    ).then(function(){\n",
       "                            \n",
       "var gd = document.getElementById('366fe2d6-f88d-4ebc-8aa7-1bbc1a5a7cb1');\n",
       "var x = new MutationObserver(function (mutations, observer) {{\n",
       "        var display = window.getComputedStyle(gd).display;\n",
       "        if (!display || display === 'none') {{\n",
       "            console.log([gd, 'removed!']);\n",
       "            Plotly.purge(gd);\n",
       "            observer.disconnect();\n",
       "        }}\n",
       "}});\n",
       "\n",
       "// Listen for the removal of the full notebook cells\n",
       "var notebookContainer = gd.closest('#notebook-container');\n",
       "if (notebookContainer) {{\n",
       "    x.observe(notebookContainer, {childList: true});\n",
       "}}\n",
       "\n",
       "// Listen for the clearing of the current output cell\n",
       "var outputEl = gd.closest('.output');\n",
       "if (outputEl) {{\n",
       "    x.observe(outputEl, {childList: true});\n",
       "}}\n",
       "\n",
       "                        })                };                });            </script>        </div>"
      ]
     },
     "metadata": {},
     "output_type": "display_data"
    },
    {
     "data": {
      "application/vnd.plotly.v1+json": {
       "config": {
        "plotlyServerURL": "https://plot.ly"
       },
       "data": [
        {
         "boxmean": "sd",
         "fillcolor": "#ffffff",
         "line": {
          "width": 1
         },
         "marker": {
          "color": "#ffffff"
         },
         "name": "Internal",
         "opacity": 1,
         "type": "box",
         "y": [
          0.8804585386174477,
          0.9559231865026652,
          0.9441143350838228,
          0.9450080200273958,
          0.9745257077143914,
          0.9355879076836432,
          0.9085507869546844,
          0.8988007787324649
         ]
        },
        {
         "boxmean": "sd",
         "fillcolor": "#60d394",
         "line": {
          "width": 1
         },
         "marker": {
          "color": "#60d394"
         },
         "name": "X-Scanner",
         "opacity": 1,
         "type": "box",
         "y": [
          0.816742360315431,
          0.870126709811121,
          0.8844963313753432,
          0.9214232066689544,
          0.9218497286878402,
          0.8995953952439322,
          0.8666346285191655,
          0.9147099526686469,
          0.9150051184892029,
          0.8989801476744433,
          0.9113538599693224,
          0.8918863524895314
         ]
        },
        {
         "boxmean": "sd",
         "fillcolor": "#e15759",
         "line": {
          "width": 1
         },
         "marker": {
          "color": "#e15759"
         },
         "name": "X-TracerI",
         "opacity": 1,
         "type": "box",
         "y": [
          0.9335416670077448,
          0.6050283971225722,
          0.6112414348520867,
          0.9342268377133292,
          0.6946511589936962,
          0.7695849291343673,
          0.7745908481034063,
          0.9382343510974044,
          0.9104171479310872,
          0.8085724993565465
         ]
        },
        {
         "boxmean": "sd",
         "fillcolor": "#bcbd22",
         "line": {
          "width": 1
         },
         "marker": {
          "color": "#bcbd22"
         },
         "name": "X-TracerII",
         "opacity": 1,
         "type": "box",
         "y": [
          0.686889438335886,
          0.6933404021344293,
          0.7479686861319247,
          0.7254140867334501,
          0.7395343711240424,
          0.6867415883820208,
          0.6875484476421962,
          0.972590613847942,
          0.7881110245088058,
          0.8889587672488706,
          0.7296027495494171
         ]
        }
       ],
       "layout": {
        "font": {
         "color": "white",
         "family": "Open Sans",
         "size": 24
        },
        "height": 600,
        "legend": {
         "font": {
          "color": "white",
          "size": 24
         }
        },
        "paper_bgcolor": "rgba(0,0,0,0)",
        "plot_bgcolor": "rgba(0,0,0,0)",
        "template": {
         "data": {
          "bar": [
           {
            "error_x": {
             "color": "#2a3f5f"
            },
            "error_y": {
             "color": "#2a3f5f"
            },
            "marker": {
             "line": {
              "color": "#E5ECF6",
              "width": 0.5
             },
             "pattern": {
              "fillmode": "overlay",
              "size": 10,
              "solidity": 0.2
             }
            },
            "type": "bar"
           }
          ],
          "barpolar": [
           {
            "marker": {
             "line": {
              "color": "#E5ECF6",
              "width": 0.5
             },
             "pattern": {
              "fillmode": "overlay",
              "size": 10,
              "solidity": 0.2
             }
            },
            "type": "barpolar"
           }
          ],
          "carpet": [
           {
            "aaxis": {
             "endlinecolor": "#2a3f5f",
             "gridcolor": "white",
             "linecolor": "white",
             "minorgridcolor": "white",
             "startlinecolor": "#2a3f5f"
            },
            "baxis": {
             "endlinecolor": "#2a3f5f",
             "gridcolor": "white",
             "linecolor": "white",
             "minorgridcolor": "white",
             "startlinecolor": "#2a3f5f"
            },
            "type": "carpet"
           }
          ],
          "choropleth": [
           {
            "colorbar": {
             "outlinewidth": 0,
             "ticks": ""
            },
            "type": "choropleth"
           }
          ],
          "contour": [
           {
            "colorbar": {
             "outlinewidth": 0,
             "ticks": ""
            },
            "colorscale": [
             [
              0,
              "#0d0887"
             ],
             [
              0.1111111111111111,
              "#46039f"
             ],
             [
              0.2222222222222222,
              "#7201a8"
             ],
             [
              0.3333333333333333,
              "#9c179e"
             ],
             [
              0.4444444444444444,
              "#bd3786"
             ],
             [
              0.5555555555555556,
              "#d8576b"
             ],
             [
              0.6666666666666666,
              "#ed7953"
             ],
             [
              0.7777777777777778,
              "#fb9f3a"
             ],
             [
              0.8888888888888888,
              "#fdca26"
             ],
             [
              1,
              "#f0f921"
             ]
            ],
            "type": "contour"
           }
          ],
          "contourcarpet": [
           {
            "colorbar": {
             "outlinewidth": 0,
             "ticks": ""
            },
            "type": "contourcarpet"
           }
          ],
          "heatmap": [
           {
            "colorbar": {
             "outlinewidth": 0,
             "ticks": ""
            },
            "colorscale": [
             [
              0,
              "#0d0887"
             ],
             [
              0.1111111111111111,
              "#46039f"
             ],
             [
              0.2222222222222222,
              "#7201a8"
             ],
             [
              0.3333333333333333,
              "#9c179e"
             ],
             [
              0.4444444444444444,
              "#bd3786"
             ],
             [
              0.5555555555555556,
              "#d8576b"
             ],
             [
              0.6666666666666666,
              "#ed7953"
             ],
             [
              0.7777777777777778,
              "#fb9f3a"
             ],
             [
              0.8888888888888888,
              "#fdca26"
             ],
             [
              1,
              "#f0f921"
             ]
            ],
            "type": "heatmap"
           }
          ],
          "heatmapgl": [
           {
            "colorbar": {
             "outlinewidth": 0,
             "ticks": ""
            },
            "colorscale": [
             [
              0,
              "#0d0887"
             ],
             [
              0.1111111111111111,
              "#46039f"
             ],
             [
              0.2222222222222222,
              "#7201a8"
             ],
             [
              0.3333333333333333,
              "#9c179e"
             ],
             [
              0.4444444444444444,
              "#bd3786"
             ],
             [
              0.5555555555555556,
              "#d8576b"
             ],
             [
              0.6666666666666666,
              "#ed7953"
             ],
             [
              0.7777777777777778,
              "#fb9f3a"
             ],
             [
              0.8888888888888888,
              "#fdca26"
             ],
             [
              1,
              "#f0f921"
             ]
            ],
            "type": "heatmapgl"
           }
          ],
          "histogram": [
           {
            "marker": {
             "pattern": {
              "fillmode": "overlay",
              "size": 10,
              "solidity": 0.2
             }
            },
            "type": "histogram"
           }
          ],
          "histogram2d": [
           {
            "colorbar": {
             "outlinewidth": 0,
             "ticks": ""
            },
            "colorscale": [
             [
              0,
              "#0d0887"
             ],
             [
              0.1111111111111111,
              "#46039f"
             ],
             [
              0.2222222222222222,
              "#7201a8"
             ],
             [
              0.3333333333333333,
              "#9c179e"
             ],
             [
              0.4444444444444444,
              "#bd3786"
             ],
             [
              0.5555555555555556,
              "#d8576b"
             ],
             [
              0.6666666666666666,
              "#ed7953"
             ],
             [
              0.7777777777777778,
              "#fb9f3a"
             ],
             [
              0.8888888888888888,
              "#fdca26"
             ],
             [
              1,
              "#f0f921"
             ]
            ],
            "type": "histogram2d"
           }
          ],
          "histogram2dcontour": [
           {
            "colorbar": {
             "outlinewidth": 0,
             "ticks": ""
            },
            "colorscale": [
             [
              0,
              "#0d0887"
             ],
             [
              0.1111111111111111,
              "#46039f"
             ],
             [
              0.2222222222222222,
              "#7201a8"
             ],
             [
              0.3333333333333333,
              "#9c179e"
             ],
             [
              0.4444444444444444,
              "#bd3786"
             ],
             [
              0.5555555555555556,
              "#d8576b"
             ],
             [
              0.6666666666666666,
              "#ed7953"
             ],
             [
              0.7777777777777778,
              "#fb9f3a"
             ],
             [
              0.8888888888888888,
              "#fdca26"
             ],
             [
              1,
              "#f0f921"
             ]
            ],
            "type": "histogram2dcontour"
           }
          ],
          "mesh3d": [
           {
            "colorbar": {
             "outlinewidth": 0,
             "ticks": ""
            },
            "type": "mesh3d"
           }
          ],
          "parcoords": [
           {
            "line": {
             "colorbar": {
              "outlinewidth": 0,
              "ticks": ""
             }
            },
            "type": "parcoords"
           }
          ],
          "pie": [
           {
            "automargin": true,
            "type": "pie"
           }
          ],
          "scatter": [
           {
            "fillpattern": {
             "fillmode": "overlay",
             "size": 10,
             "solidity": 0.2
            },
            "type": "scatter"
           }
          ],
          "scatter3d": [
           {
            "line": {
             "colorbar": {
              "outlinewidth": 0,
              "ticks": ""
             }
            },
            "marker": {
             "colorbar": {
              "outlinewidth": 0,
              "ticks": ""
             }
            },
            "type": "scatter3d"
           }
          ],
          "scattercarpet": [
           {
            "marker": {
             "colorbar": {
              "outlinewidth": 0,
              "ticks": ""
             }
            },
            "type": "scattercarpet"
           }
          ],
          "scattergeo": [
           {
            "marker": {
             "colorbar": {
              "outlinewidth": 0,
              "ticks": ""
             }
            },
            "type": "scattergeo"
           }
          ],
          "scattergl": [
           {
            "marker": {
             "colorbar": {
              "outlinewidth": 0,
              "ticks": ""
             }
            },
            "type": "scattergl"
           }
          ],
          "scattermapbox": [
           {
            "marker": {
             "colorbar": {
              "outlinewidth": 0,
              "ticks": ""
             }
            },
            "type": "scattermapbox"
           }
          ],
          "scatterpolar": [
           {
            "marker": {
             "colorbar": {
              "outlinewidth": 0,
              "ticks": ""
             }
            },
            "type": "scatterpolar"
           }
          ],
          "scatterpolargl": [
           {
            "marker": {
             "colorbar": {
              "outlinewidth": 0,
              "ticks": ""
             }
            },
            "type": "scatterpolargl"
           }
          ],
          "scatterternary": [
           {
            "marker": {
             "colorbar": {
              "outlinewidth": 0,
              "ticks": ""
             }
            },
            "type": "scatterternary"
           }
          ],
          "surface": [
           {
            "colorbar": {
             "outlinewidth": 0,
             "ticks": ""
            },
            "colorscale": [
             [
              0,
              "#0d0887"
             ],
             [
              0.1111111111111111,
              "#46039f"
             ],
             [
              0.2222222222222222,
              "#7201a8"
             ],
             [
              0.3333333333333333,
              "#9c179e"
             ],
             [
              0.4444444444444444,
              "#bd3786"
             ],
             [
              0.5555555555555556,
              "#d8576b"
             ],
             [
              0.6666666666666666,
              "#ed7953"
             ],
             [
              0.7777777777777778,
              "#fb9f3a"
             ],
             [
              0.8888888888888888,
              "#fdca26"
             ],
             [
              1,
              "#f0f921"
             ]
            ],
            "type": "surface"
           }
          ],
          "table": [
           {
            "cells": {
             "fill": {
              "color": "#EBF0F8"
             },
             "line": {
              "color": "white"
             }
            },
            "header": {
             "fill": {
              "color": "#C8D4E3"
             },
             "line": {
              "color": "white"
             }
            },
            "type": "table"
           }
          ]
         },
         "layout": {
          "annotationdefaults": {
           "arrowcolor": "#2a3f5f",
           "arrowhead": 0,
           "arrowwidth": 1
          },
          "autotypenumbers": "strict",
          "coloraxis": {
           "colorbar": {
            "outlinewidth": 0,
            "ticks": ""
           }
          },
          "colorscale": {
           "diverging": [
            [
             0,
             "#8e0152"
            ],
            [
             0.1,
             "#c51b7d"
            ],
            [
             0.2,
             "#de77ae"
            ],
            [
             0.3,
             "#f1b6da"
            ],
            [
             0.4,
             "#fde0ef"
            ],
            [
             0.5,
             "#f7f7f7"
            ],
            [
             0.6,
             "#e6f5d0"
            ],
            [
             0.7,
             "#b8e186"
            ],
            [
             0.8,
             "#7fbc41"
            ],
            [
             0.9,
             "#4d9221"
            ],
            [
             1,
             "#276419"
            ]
           ],
           "sequential": [
            [
             0,
             "#0d0887"
            ],
            [
             0.1111111111111111,
             "#46039f"
            ],
            [
             0.2222222222222222,
             "#7201a8"
            ],
            [
             0.3333333333333333,
             "#9c179e"
            ],
            [
             0.4444444444444444,
             "#bd3786"
            ],
            [
             0.5555555555555556,
             "#d8576b"
            ],
            [
             0.6666666666666666,
             "#ed7953"
            ],
            [
             0.7777777777777778,
             "#fb9f3a"
            ],
            [
             0.8888888888888888,
             "#fdca26"
            ],
            [
             1,
             "#f0f921"
            ]
           ],
           "sequentialminus": [
            [
             0,
             "#0d0887"
            ],
            [
             0.1111111111111111,
             "#46039f"
            ],
            [
             0.2222222222222222,
             "#7201a8"
            ],
            [
             0.3333333333333333,
             "#9c179e"
            ],
            [
             0.4444444444444444,
             "#bd3786"
            ],
            [
             0.5555555555555556,
             "#d8576b"
            ],
            [
             0.6666666666666666,
             "#ed7953"
            ],
            [
             0.7777777777777778,
             "#fb9f3a"
            ],
            [
             0.8888888888888888,
             "#fdca26"
            ],
            [
             1,
             "#f0f921"
            ]
           ]
          },
          "colorway": [
           "#636efa",
           "#EF553B",
           "#00cc96",
           "#ab63fa",
           "#FFA15A",
           "#19d3f3",
           "#FF6692",
           "#B6E880",
           "#FF97FF",
           "#FECB52"
          ],
          "font": {
           "color": "#2a3f5f"
          },
          "geo": {
           "bgcolor": "white",
           "lakecolor": "white",
           "landcolor": "#E5ECF6",
           "showlakes": true,
           "showland": true,
           "subunitcolor": "white"
          },
          "hoverlabel": {
           "align": "left"
          },
          "hovermode": "closest",
          "mapbox": {
           "style": "light"
          },
          "paper_bgcolor": "white",
          "plot_bgcolor": "#E5ECF6",
          "polar": {
           "angularaxis": {
            "gridcolor": "white",
            "linecolor": "white",
            "ticks": ""
           },
           "bgcolor": "#E5ECF6",
           "radialaxis": {
            "gridcolor": "white",
            "linecolor": "white",
            "ticks": ""
           }
          },
          "scene": {
           "xaxis": {
            "backgroundcolor": "#E5ECF6",
            "gridcolor": "white",
            "gridwidth": 2,
            "linecolor": "white",
            "showbackground": true,
            "ticks": "",
            "zerolinecolor": "white"
           },
           "yaxis": {
            "backgroundcolor": "#E5ECF6",
            "gridcolor": "white",
            "gridwidth": 2,
            "linecolor": "white",
            "showbackground": true,
            "ticks": "",
            "zerolinecolor": "white"
           },
           "zaxis": {
            "backgroundcolor": "#E5ECF6",
            "gridcolor": "white",
            "gridwidth": 2,
            "linecolor": "white",
            "showbackground": true,
            "ticks": "",
            "zerolinecolor": "white"
           }
          },
          "shapedefaults": {
           "line": {
            "color": "#2a3f5f"
           }
          },
          "ternary": {
           "aaxis": {
            "gridcolor": "white",
            "linecolor": "white",
            "ticks": ""
           },
           "baxis": {
            "gridcolor": "white",
            "linecolor": "white",
            "ticks": ""
           },
           "bgcolor": "#E5ECF6",
           "caxis": {
            "gridcolor": "white",
            "linecolor": "white",
            "ticks": ""
           }
          },
          "title": {
           "x": 0.05
          },
          "xaxis": {
           "automargin": true,
           "gridcolor": "white",
           "linecolor": "white",
           "ticks": "",
           "title": {
            "standoff": 15
           },
           "zerolinecolor": "white",
           "zerolinewidth": 2
          },
          "yaxis": {
           "automargin": true,
           "gridcolor": "white",
           "linecolor": "white",
           "ticks": "",
           "title": {
            "standoff": 15
           },
           "zerolinecolor": "white",
           "zerolinewidth": 2
          }
         }
        },
        "title": {
         "font": {
          "color": "white",
          "family": "Open Sans",
          "size": 26,
          "weight": "bold"
         },
         "text": "Structural Similarity Index",
         "x": 0.5,
         "xanchor": "center",
         "yanchor": "top"
        },
        "width": 1300,
        "xaxis": {
         "showgrid": false,
         "tickfont": {
          "color": "white",
          "size": 20
         }
        },
        "yaxis": {
         "showgrid": false,
         "tickfont": {
          "color": "white",
          "size": 20
         },
         "title": {
          "text": "SUV"
         },
         "zeroline": false
        }
       }
      },
      "text/html": [
       "<div>                            <div id=\"70546c07-fbbf-4c1e-8a3c-790f4fd3010b\" class=\"plotly-graph-div\" style=\"height:600px; width:1300px;\"></div>            <script type=\"text/javascript\">                require([\"plotly\"], function(Plotly) {                    window.PLOTLYENV=window.PLOTLYENV || {};                                    if (document.getElementById(\"70546c07-fbbf-4c1e-8a3c-790f4fd3010b\")) {                    Plotly.newPlot(                        \"70546c07-fbbf-4c1e-8a3c-790f4fd3010b\",                        [{\"boxmean\":\"sd\",\"fillcolor\":\"#ffffff\",\"line\":{\"width\":1},\"marker\":{\"color\":\"#ffffff\"},\"name\":\"Internal\",\"opacity\":1,\"y\":[0.8804585386174477,0.9559231865026652,0.9441143350838228,0.9450080200273958,0.9745257077143914,0.9355879076836432,0.9085507869546844,0.8988007787324649],\"type\":\"box\"},{\"boxmean\":\"sd\",\"fillcolor\":\"#60d394\",\"line\":{\"width\":1},\"marker\":{\"color\":\"#60d394\"},\"name\":\"X-Scanner\",\"opacity\":1,\"y\":[0.816742360315431,0.870126709811121,0.8844963313753432,0.9214232066689544,0.9218497286878402,0.8995953952439322,0.8666346285191655,0.9147099526686469,0.9150051184892029,0.8989801476744433,0.9113538599693224,0.8918863524895314],\"type\":\"box\"},{\"boxmean\":\"sd\",\"fillcolor\":\"#e15759\",\"line\":{\"width\":1},\"marker\":{\"color\":\"#e15759\"},\"name\":\"X-TracerI\",\"opacity\":1,\"y\":[0.9335416670077448,0.6050283971225722,0.6112414348520867,0.9342268377133292,0.6946511589936962,0.7695849291343673,0.7745908481034063,0.9382343510974044,0.9104171479310872,0.8085724993565465],\"type\":\"box\"},{\"boxmean\":\"sd\",\"fillcolor\":\"#bcbd22\",\"line\":{\"width\":1},\"marker\":{\"color\":\"#bcbd22\"},\"name\":\"X-TracerII\",\"opacity\":1,\"y\":[0.686889438335886,0.6933404021344293,0.7479686861319247,0.7254140867334501,0.7395343711240424,0.6867415883820208,0.6875484476421962,0.972590613847942,0.7881110245088058,0.8889587672488706,0.7296027495494171],\"type\":\"box\"}],                        {\"template\":{\"data\":{\"histogram2dcontour\":[{\"type\":\"histogram2dcontour\",\"colorbar\":{\"outlinewidth\":0,\"ticks\":\"\"},\"colorscale\":[[0.0,\"#0d0887\"],[0.1111111111111111,\"#46039f\"],[0.2222222222222222,\"#7201a8\"],[0.3333333333333333,\"#9c179e\"],[0.4444444444444444,\"#bd3786\"],[0.5555555555555556,\"#d8576b\"],[0.6666666666666666,\"#ed7953\"],[0.7777777777777778,\"#fb9f3a\"],[0.8888888888888888,\"#fdca26\"],[1.0,\"#f0f921\"]]}],\"choropleth\":[{\"type\":\"choropleth\",\"colorbar\":{\"outlinewidth\":0,\"ticks\":\"\"}}],\"histogram2d\":[{\"type\":\"histogram2d\",\"colorbar\":{\"outlinewidth\":0,\"ticks\":\"\"},\"colorscale\":[[0.0,\"#0d0887\"],[0.1111111111111111,\"#46039f\"],[0.2222222222222222,\"#7201a8\"],[0.3333333333333333,\"#9c179e\"],[0.4444444444444444,\"#bd3786\"],[0.5555555555555556,\"#d8576b\"],[0.6666666666666666,\"#ed7953\"],[0.7777777777777778,\"#fb9f3a\"],[0.8888888888888888,\"#fdca26\"],[1.0,\"#f0f921\"]]}],\"heatmap\":[{\"type\":\"heatmap\",\"colorbar\":{\"outlinewidth\":0,\"ticks\":\"\"},\"colorscale\":[[0.0,\"#0d0887\"],[0.1111111111111111,\"#46039f\"],[0.2222222222222222,\"#7201a8\"],[0.3333333333333333,\"#9c179e\"],[0.4444444444444444,\"#bd3786\"],[0.5555555555555556,\"#d8576b\"],[0.6666666666666666,\"#ed7953\"],[0.7777777777777778,\"#fb9f3a\"],[0.8888888888888888,\"#fdca26\"],[1.0,\"#f0f921\"]]}],\"heatmapgl\":[{\"type\":\"heatmapgl\",\"colorbar\":{\"outlinewidth\":0,\"ticks\":\"\"},\"colorscale\":[[0.0,\"#0d0887\"],[0.1111111111111111,\"#46039f\"],[0.2222222222222222,\"#7201a8\"],[0.3333333333333333,\"#9c179e\"],[0.4444444444444444,\"#bd3786\"],[0.5555555555555556,\"#d8576b\"],[0.6666666666666666,\"#ed7953\"],[0.7777777777777778,\"#fb9f3a\"],[0.8888888888888888,\"#fdca26\"],[1.0,\"#f0f921\"]]}],\"contourcarpet\":[{\"type\":\"contourcarpet\",\"colorbar\":{\"outlinewidth\":0,\"ticks\":\"\"}}],\"contour\":[{\"type\":\"contour\",\"colorbar\":{\"outlinewidth\":0,\"ticks\":\"\"},\"colorscale\":[[0.0,\"#0d0887\"],[0.1111111111111111,\"#46039f\"],[0.2222222222222222,\"#7201a8\"],[0.3333333333333333,\"#9c179e\"],[0.4444444444444444,\"#bd3786\"],[0.5555555555555556,\"#d8576b\"],[0.6666666666666666,\"#ed7953\"],[0.7777777777777778,\"#fb9f3a\"],[0.8888888888888888,\"#fdca26\"],[1.0,\"#f0f921\"]]}],\"surface\":[{\"type\":\"surface\",\"colorbar\":{\"outlinewidth\":0,\"ticks\":\"\"},\"colorscale\":[[0.0,\"#0d0887\"],[0.1111111111111111,\"#46039f\"],[0.2222222222222222,\"#7201a8\"],[0.3333333333333333,\"#9c179e\"],[0.4444444444444444,\"#bd3786\"],[0.5555555555555556,\"#d8576b\"],[0.6666666666666666,\"#ed7953\"],[0.7777777777777778,\"#fb9f3a\"],[0.8888888888888888,\"#fdca26\"],[1.0,\"#f0f921\"]]}],\"mesh3d\":[{\"type\":\"mesh3d\",\"colorbar\":{\"outlinewidth\":0,\"ticks\":\"\"}}],\"scatter\":[{\"fillpattern\":{\"fillmode\":\"overlay\",\"size\":10,\"solidity\":0.2},\"type\":\"scatter\"}],\"parcoords\":[{\"type\":\"parcoords\",\"line\":{\"colorbar\":{\"outlinewidth\":0,\"ticks\":\"\"}}}],\"scatterpolargl\":[{\"type\":\"scatterpolargl\",\"marker\":{\"colorbar\":{\"outlinewidth\":0,\"ticks\":\"\"}}}],\"bar\":[{\"error_x\":{\"color\":\"#2a3f5f\"},\"error_y\":{\"color\":\"#2a3f5f\"},\"marker\":{\"line\":{\"color\":\"#E5ECF6\",\"width\":0.5},\"pattern\":{\"fillmode\":\"overlay\",\"size\":10,\"solidity\":0.2}},\"type\":\"bar\"}],\"scattergeo\":[{\"type\":\"scattergeo\",\"marker\":{\"colorbar\":{\"outlinewidth\":0,\"ticks\":\"\"}}}],\"scatterpolar\":[{\"type\":\"scatterpolar\",\"marker\":{\"colorbar\":{\"outlinewidth\":0,\"ticks\":\"\"}}}],\"histogram\":[{\"marker\":{\"pattern\":{\"fillmode\":\"overlay\",\"size\":10,\"solidity\":0.2}},\"type\":\"histogram\"}],\"scattergl\":[{\"type\":\"scattergl\",\"marker\":{\"colorbar\":{\"outlinewidth\":0,\"ticks\":\"\"}}}],\"scatter3d\":[{\"type\":\"scatter3d\",\"line\":{\"colorbar\":{\"outlinewidth\":0,\"ticks\":\"\"}},\"marker\":{\"colorbar\":{\"outlinewidth\":0,\"ticks\":\"\"}}}],\"scattermapbox\":[{\"type\":\"scattermapbox\",\"marker\":{\"colorbar\":{\"outlinewidth\":0,\"ticks\":\"\"}}}],\"scatterternary\":[{\"type\":\"scatterternary\",\"marker\":{\"colorbar\":{\"outlinewidth\":0,\"ticks\":\"\"}}}],\"scattercarpet\":[{\"type\":\"scattercarpet\",\"marker\":{\"colorbar\":{\"outlinewidth\":0,\"ticks\":\"\"}}}],\"carpet\":[{\"aaxis\":{\"endlinecolor\":\"#2a3f5f\",\"gridcolor\":\"white\",\"linecolor\":\"white\",\"minorgridcolor\":\"white\",\"startlinecolor\":\"#2a3f5f\"},\"baxis\":{\"endlinecolor\":\"#2a3f5f\",\"gridcolor\":\"white\",\"linecolor\":\"white\",\"minorgridcolor\":\"white\",\"startlinecolor\":\"#2a3f5f\"},\"type\":\"carpet\"}],\"table\":[{\"cells\":{\"fill\":{\"color\":\"#EBF0F8\"},\"line\":{\"color\":\"white\"}},\"header\":{\"fill\":{\"color\":\"#C8D4E3\"},\"line\":{\"color\":\"white\"}},\"type\":\"table\"}],\"barpolar\":[{\"marker\":{\"line\":{\"color\":\"#E5ECF6\",\"width\":0.5},\"pattern\":{\"fillmode\":\"overlay\",\"size\":10,\"solidity\":0.2}},\"type\":\"barpolar\"}],\"pie\":[{\"automargin\":true,\"type\":\"pie\"}]},\"layout\":{\"autotypenumbers\":\"strict\",\"colorway\":[\"#636efa\",\"#EF553B\",\"#00cc96\",\"#ab63fa\",\"#FFA15A\",\"#19d3f3\",\"#FF6692\",\"#B6E880\",\"#FF97FF\",\"#FECB52\"],\"font\":{\"color\":\"#2a3f5f\"},\"hovermode\":\"closest\",\"hoverlabel\":{\"align\":\"left\"},\"paper_bgcolor\":\"white\",\"plot_bgcolor\":\"#E5ECF6\",\"polar\":{\"bgcolor\":\"#E5ECF6\",\"angularaxis\":{\"gridcolor\":\"white\",\"linecolor\":\"white\",\"ticks\":\"\"},\"radialaxis\":{\"gridcolor\":\"white\",\"linecolor\":\"white\",\"ticks\":\"\"}},\"ternary\":{\"bgcolor\":\"#E5ECF6\",\"aaxis\":{\"gridcolor\":\"white\",\"linecolor\":\"white\",\"ticks\":\"\"},\"baxis\":{\"gridcolor\":\"white\",\"linecolor\":\"white\",\"ticks\":\"\"},\"caxis\":{\"gridcolor\":\"white\",\"linecolor\":\"white\",\"ticks\":\"\"}},\"coloraxis\":{\"colorbar\":{\"outlinewidth\":0,\"ticks\":\"\"}},\"colorscale\":{\"sequential\":[[0.0,\"#0d0887\"],[0.1111111111111111,\"#46039f\"],[0.2222222222222222,\"#7201a8\"],[0.3333333333333333,\"#9c179e\"],[0.4444444444444444,\"#bd3786\"],[0.5555555555555556,\"#d8576b\"],[0.6666666666666666,\"#ed7953\"],[0.7777777777777778,\"#fb9f3a\"],[0.8888888888888888,\"#fdca26\"],[1.0,\"#f0f921\"]],\"sequentialminus\":[[0.0,\"#0d0887\"],[0.1111111111111111,\"#46039f\"],[0.2222222222222222,\"#7201a8\"],[0.3333333333333333,\"#9c179e\"],[0.4444444444444444,\"#bd3786\"],[0.5555555555555556,\"#d8576b\"],[0.6666666666666666,\"#ed7953\"],[0.7777777777777778,\"#fb9f3a\"],[0.8888888888888888,\"#fdca26\"],[1.0,\"#f0f921\"]],\"diverging\":[[0,\"#8e0152\"],[0.1,\"#c51b7d\"],[0.2,\"#de77ae\"],[0.3,\"#f1b6da\"],[0.4,\"#fde0ef\"],[0.5,\"#f7f7f7\"],[0.6,\"#e6f5d0\"],[0.7,\"#b8e186\"],[0.8,\"#7fbc41\"],[0.9,\"#4d9221\"],[1,\"#276419\"]]},\"xaxis\":{\"gridcolor\":\"white\",\"linecolor\":\"white\",\"ticks\":\"\",\"title\":{\"standoff\":15},\"zerolinecolor\":\"white\",\"automargin\":true,\"zerolinewidth\":2},\"yaxis\":{\"gridcolor\":\"white\",\"linecolor\":\"white\",\"ticks\":\"\",\"title\":{\"standoff\":15},\"zerolinecolor\":\"white\",\"automargin\":true,\"zerolinewidth\":2},\"scene\":{\"xaxis\":{\"backgroundcolor\":\"#E5ECF6\",\"gridcolor\":\"white\",\"linecolor\":\"white\",\"showbackground\":true,\"ticks\":\"\",\"zerolinecolor\":\"white\",\"gridwidth\":2},\"yaxis\":{\"backgroundcolor\":\"#E5ECF6\",\"gridcolor\":\"white\",\"linecolor\":\"white\",\"showbackground\":true,\"ticks\":\"\",\"zerolinecolor\":\"white\",\"gridwidth\":2},\"zaxis\":{\"backgroundcolor\":\"#E5ECF6\",\"gridcolor\":\"white\",\"linecolor\":\"white\",\"showbackground\":true,\"ticks\":\"\",\"zerolinecolor\":\"white\",\"gridwidth\":2}},\"shapedefaults\":{\"line\":{\"color\":\"#2a3f5f\"}},\"annotationdefaults\":{\"arrowcolor\":\"#2a3f5f\",\"arrowhead\":0,\"arrowwidth\":1},\"geo\":{\"bgcolor\":\"white\",\"landcolor\":\"#E5ECF6\",\"subunitcolor\":\"white\",\"showland\":true,\"showlakes\":true,\"lakecolor\":\"white\"},\"title\":{\"x\":0.05},\"mapbox\":{\"style\":\"light\"}}},\"title\":{\"font\":{\"color\":\"white\",\"size\":26,\"family\":\"Open Sans\",\"weight\":\"bold\"},\"text\":\"Structural Similarity Index\",\"x\":0.5,\"xanchor\":\"center\",\"yanchor\":\"top\"},\"font\":{\"family\":\"Open Sans\",\"size\":24,\"color\":\"white\"},\"legend\":{\"font\":{\"size\":24,\"color\":\"white\"}},\"plot_bgcolor\":\"rgba(0,0,0,0)\",\"paper_bgcolor\":\"rgba(0,0,0,0)\",\"height\":600,\"width\":1300,\"yaxis\":{\"title\":{\"text\":\"SUV\"},\"tickfont\":{\"size\":20,\"color\":\"white\"},\"showgrid\":false,\"zeroline\":false},\"xaxis\":{\"tickfont\":{\"size\":20,\"color\":\"white\"},\"showgrid\":false}},                        {\"responsive\": true}                    ).then(function(){\n",
       "                            \n",
       "var gd = document.getElementById('70546c07-fbbf-4c1e-8a3c-790f4fd3010b');\n",
       "var x = new MutationObserver(function (mutations, observer) {{\n",
       "        var display = window.getComputedStyle(gd).display;\n",
       "        if (!display || display === 'none') {{\n",
       "            console.log([gd, 'removed!']);\n",
       "            Plotly.purge(gd);\n",
       "            observer.disconnect();\n",
       "        }}\n",
       "}});\n",
       "\n",
       "// Listen for the removal of the full notebook cells\n",
       "var notebookContainer = gd.closest('#notebook-container');\n",
       "if (notebookContainer) {{\n",
       "    x.observe(notebookContainer, {childList: true});\n",
       "}}\n",
       "\n",
       "// Listen for the clearing of the current output cell\n",
       "var outputEl = gd.closest('.output');\n",
       "if (outputEl) {{\n",
       "    x.observe(outputEl, {childList: true});\n",
       "}}\n",
       "\n",
       "                        })                };                });            </script>        </div>"
      ]
     },
     "metadata": {},
     "output_type": "display_data"
    }
   ],
   "source": [
    "import plotly.graph_objects as go\n",
    "\n",
    "# Define the columns to plot with corresponding x-axis titles\n",
    "columns_to_plot = {\n",
    "    'Mean Error (SUV)': 'Mean Error', \n",
    "    'Mean Absolure Error (SUV)': 'Mean Absolute Error', \n",
    "    'Structual Similarity Index': 'Structural Similarity Index'\n",
    "}\n",
    "\n",
    "# Set the colors for each group\n",
    "group_color_mapping = {\n",
    "    'Internal': '#ffffff',   # White\n",
    "    'X-Scanner': '#60d394',  # Bright Green\n",
    "    'X-TracerI': '#e15759',  # Bright Red\n",
    "    'X-TracerII': '#bcbd22', # Bright Yellow-Green\n",
    "}\n",
    "# group_color_mapping = {\n",
    "#     'Internal': '#ffffff',\n",
    "#     'X-Scanner': '#2ca02c', # Soft Green\n",
    "#     'X-TracerI': '#ff7f0e',  # Muted Orange\n",
    "#     'X-TracerII': '#d62728', # Soft Red\n",
    "\n",
    "}\n",
    "# Iterate over each column to create box plots\n",
    "for column, xaxis_title in columns_to_plot.items():\n",
    "    fig = go.Figure()\n",
    "\n",
    "    # Add a box plot for each group manually\n",
    "    for group, color in group_color_mapping.items():\n",
    "        fig.add_trace(go.Box(\n",
    "            y=df_filtered[df_filtered['Group'] == group][column],\n",
    "            name=group,\n",
    "            marker=dict(color=color),\n",
    "            boxmean=\"sd\",  # Show mean line and standard deviation\n",
    "            line=dict(width=1),  # Solid lines for the box\n",
    "            fillcolor=color,  # Set the fill color to be solid\n",
    "            opacity=1  # Full opacity for the boxes\n",
    "        ))\n",
    "\n",
    "    # Customize the layout to include axis titles and make fonts white and bold\n",
    "    fig.update_layout(\n",
    "        plot_bgcolor='rgba(0,0,0,0)',  # Transparent background\n",
    "        paper_bgcolor='rgba(0,0,0,0)',  # Transparent background\n",
    "        height=600,  # Set plot height\n",
    "        width=1300,  # Set plot width\n",
    "        title={\n",
    "            'text': xaxis_title,  # Dynamic title\n",
    "            'x': 0.5,  # Center title\n",
    "            'xanchor': 'center',\n",
    "            'yanchor': 'top',\n",
    "            'font': {'color': 'white', 'size': 26, 'family': \"Open Sans\", 'weight': 'bold'},  # Title font in white and bold\n",
    "        },\n",
    "        yaxis_title='SUV',  # Custom y-axis title\n",
    "        font=dict(\n",
    "            family=\"Open Sans\",  # Font type\n",
    "            size=24,  # Set larger font size for axis labels\n",
    "            color=\"white\"  # Set font color to white\n",
    "        ),\n",
    "        legend=dict(\n",
    "            font=dict(size=24, color=\"white\")  # Increase legend font size and set to white\n",
    "        ),\n",
    "    )\n",
    "    \n",
    "    # Customize the axes to remove gridlines, increase tick label sizes, and remove the y=0 line\n",
    "    fig.update_xaxes(showgrid=False, tickfont=dict(size=20, color='white'))  # Increase x-axis tick label size and set to white\n",
    "    fig.update_yaxes(showgrid=False, tickfont=dict(size=20, color='white'), zeroline=False)  # Remove y=0 line\n",
    "\n",
    "    fig.show()\n"
   ]
  },
  {
   "cell_type": "code",
   "execution_count": 8,
   "metadata": {},
   "outputs": [
    {
     "data": {
      "text/html": [
       "<div>\n",
       "<style scoped>\n",
       "    .dataframe tbody tr th:only-of-type {\n",
       "        vertical-align: middle;\n",
       "    }\n",
       "\n",
       "    .dataframe tbody tr th {\n",
       "        vertical-align: top;\n",
       "    }\n",
       "\n",
       "    .dataframe thead th {\n",
       "        text-align: right;\n",
       "    }\n",
       "</style>\n",
       "<table border=\"1\" class=\"dataframe\">\n",
       "  <thead>\n",
       "    <tr style=\"text-align: right;\">\n",
       "      <th></th>\n",
       "      <th>Mean Error (SUV)</th>\n",
       "      <th>Mean Absolure Error (SUV)</th>\n",
       "      <th>Structural Similarity Index</th>\n",
       "    </tr>\n",
       "    <tr>\n",
       "      <th>Group</th>\n",
       "      <th></th>\n",
       "      <th></th>\n",
       "      <th></th>\n",
       "    </tr>\n",
       "  </thead>\n",
       "  <tbody>\n",
       "    <tr>\n",
       "      <th>Internal</th>\n",
       "      <td>-0.56 ± 0.74</td>\n",
       "      <td>1.28 ± 0.37</td>\n",
       "      <td>0.93 ± 0.03</td>\n",
       "    </tr>\n",
       "    <tr>\n",
       "      <th>X-Scanner</th>\n",
       "      <td>-1.92 ± 0.58</td>\n",
       "      <td>2.38 ± 0.76</td>\n",
       "      <td>0.89 ± 0.03</td>\n",
       "    </tr>\n",
       "    <tr>\n",
       "      <th>X-TracerI</th>\n",
       "      <td>-0.46 ± 0.16</td>\n",
       "      <td>0.64 ± 0.13</td>\n",
       "      <td>0.8 ± 0.13</td>\n",
       "    </tr>\n",
       "    <tr>\n",
       "      <th>X-TracerII</th>\n",
       "      <td>-0.61 ± 0.09</td>\n",
       "      <td>0.73 ± 0.12</td>\n",
       "      <td>0.76 ± 0.09</td>\n",
       "    </tr>\n",
       "  </tbody>\n",
       "</table>\n",
       "</div>"
      ],
      "text/plain": [
       "           Mean Error (SUV) Mean Absolure Error (SUV)  \\\n",
       "Group                                                   \n",
       "Internal       -0.56 ± 0.74               1.28 ± 0.37   \n",
       "X-Scanner      -1.92 ± 0.58               2.38 ± 0.76   \n",
       "X-TracerI      -0.46 ± 0.16               0.64 ± 0.13   \n",
       "X-TracerII     -0.61 ± 0.09               0.73 ± 0.12   \n",
       "\n",
       "           Structural Similarity Index  \n",
       "Group                                   \n",
       "Internal                   0.93 ± 0.03  \n",
       "X-Scanner                  0.89 ± 0.03  \n",
       "X-TracerI                   0.8 ± 0.13  \n",
       "X-TracerII                 0.76 ± 0.09  "
      ]
     },
     "execution_count": 8,
     "metadata": {},
     "output_type": "execute_result"
    }
   ],
   "source": [
    "# Calculate the mean and standard deviation for each metric, grouped by 'Group'\n",
    "mean_std_table = df_filtered.groupby('Group').agg({\n",
    "    'Mean Error (SUV)': ['mean', 'std'],\n",
    "    'Mean Absolure Error (SUV)': ['mean', 'std'],\n",
    "    'Structual Similarity Index': ['mean', 'std']\n",
    "})\n",
    "\n",
    "# Flatten the multi-level columns\n",
    "mean_std_table.columns = ['_'.join(col).strip() for col in mean_std_table.columns.values]\n",
    "\n",
    "# Create a formatted string combining mean and std\n",
    "mean_std_table['Mean Error (SUV)'] = mean_std_table['Mean Error (SUV)_mean'].round(2).astype(str) + ' ± ' + mean_std_table['Mean Error (SUV)_std'].round(2).astype(str)\n",
    "mean_std_table['Mean Absolure Error (SUV)'] = mean_std_table['Mean Absolure Error (SUV)_mean'].round(2).astype(str) + ' ± ' + mean_std_table['Mean Absolure Error (SUV)_std'].round(2).astype(str)\n",
    "mean_std_table['Structural Similarity Index'] = mean_std_table['Structual Similarity Index_mean'].round(2).astype(str) + ' ± ' + mean_std_table['Structual Similarity Index_std'].round(2).astype(str)\n",
    "\n",
    "# Select only the formatted columns for display\n",
    "mean_std_table_formatted = mean_std_table[['Mean Error (SUV)', 'Mean Absolure Error (SUV)', 'Structural Similarity Index']]\n",
    "\n",
    "mean_std_table_formatted\n"
   ]
  }
 ],
 "metadata": {
  "kernelspec": {
   "display_name": "Python 3",
   "language": "python",
   "name": "python3"
  },
  "language_info": {
   "codemirror_mode": {
    "name": "ipython",
    "version": 3
   },
   "file_extension": ".py",
   "mimetype": "text/x-python",
   "name": "python",
   "nbconvert_exporter": "python",
   "pygments_lexer": "ipython3",
   "version": "3.11.2"
  }
 },
 "nbformat": 4,
 "nbformat_minor": 2
}
