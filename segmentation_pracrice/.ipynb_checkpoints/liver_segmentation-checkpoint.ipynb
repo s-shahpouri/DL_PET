{
 "cells": [
  {
   "cell_type": "code",
   "execution_count": 28,
   "id": "c2bfd4c5-88e0-4a2f-8b23-93744abdef37",
   "metadata": {},
   "outputs": [],
   "source": [
    "in_path = 'C:/zshahpouri/data/liver/input_dicom/labels'\n",
    "out_path = 'C:/zshahpouri/data/liver/output_dicom/labels'"
   ]
  },
  {
   "cell_type": "code",
   "execution_count": 29,
   "id": "a27a2421-f2bf-4386-9131-2dc1ee5ab592",
   "metadata": {},
   "outputs": [],
   "source": [
    "from glob import glob\n",
    "import shutil\n",
    "import os"
   ]
  },
  {
   "cell_type": "code",
   "execution_count": 30,
   "id": "672e02f7-8a4d-46ab-b1bb-239a3bfa3fb0",
   "metadata": {},
   "outputs": [
    {
     "name": "stdout",
     "output_type": "stream",
     "text": [
      "[]\n"
     ]
    }
   ],
   "source": [
    "patient_list = glob(in_path+'/*')\n",
    "print(patient_list)"
   ]
  },
  {
   "cell_type": "code",
   "execution_count": 32,
   "id": "4fbbbb93-d595-4322-a63c-1fd546c07798",
   "metadata": {},
   "outputs": [],
   "source": [
    "for patient in glob(in_path+'/*'):\n",
    "    patient_name = os.path.basename(os.path.normpath(patient))\n",
    "    print(patient_name)\n",
    "    number_folders = int(len(glob(patient + '/*'))/64)\n",
    "    print(number_folders)\n",
    "\n",
    "    for i in range (number_folders):\n",
    "        output_path_name = os.path.join(out_path, patient_name  + str(i))\n",
    "        print(output_path_name)\n",
    "        # os.mkdir(output_path_name)\n",
    "        # for i, file in enumerate(glob(in_path+'/*')):\n",
    "        #     if i == 64 + 1:\n",
    "        #         break\n",
    "        #     shutil.move(file, output_path_name)\n",
    "        "
   ]
  },
  {
   "cell_type": "code",
   "execution_count": null,
   "id": "cfe57622-fde3-42f2-bc8c-b38e867c21f2",
   "metadata": {},
   "outputs": [],
   "source": []
  },
  {
   "cell_type": "code",
   "execution_count": null,
   "id": "f2204c21-58f4-4bec-b9f8-45078cf0879d",
   "metadata": {},
   "outputs": [],
   "source": []
  }
 ],
 "metadata": {
  "kernelspec": {
   "display_name": "Python 3 (ipykernel)",
   "language": "python",
   "name": "python3"
  },
  "language_info": {
   "codemirror_mode": {
    "name": "ipython",
    "version": 3
   },
   "file_extension": ".py",
   "mimetype": "text/x-python",
   "name": "python",
   "nbconvert_exporter": "python",
   "pygments_lexer": "ipython3",
   "version": "3.10.13"
  }
 },
 "nbformat": 4,
 "nbformat_minor": 5
}
