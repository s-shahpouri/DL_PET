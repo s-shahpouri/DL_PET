{
 "cells": [
  {
   "cell_type": "code",
   "execution_count": 28,
   "id": "c2bfd4c5-88e0-4a2f-8b23-93744abdef37",
   "metadata": {},
   "outputs": [],
   "source": [
    "in_path = 'C:/zshahpouri/data/liver/input_dicom/labels'\n",
    "out_path = 'C:/zshahpouri/data/liver/group_dicom/labels'"
   ]
  },
  {
   "cell_type": "code",
   "execution_count": 18,
   "id": "a27a2421-f2bf-4386-9131-2dc1ee5ab592",
   "metadata": {},
   "outputs": [],
   "source": [
    "from glob import glob\n",
    "import shutil\n",
    "import os\n"
   ]
  },
  {
   "cell_type": "code",
   "execution_count": 19,
   "id": "672e02f7-8a4d-46ab-b1bb-239a3bfa3fb0",
   "metadata": {},
   "outputs": [
    {
     "name": "stdout",
     "output_type": "stream",
     "text": [
      "['C:/zshahpouri/data/liver/input_dicom/images\\\\liver0', 'C:/zshahpouri/data/liver/input_dicom/images\\\\liver1']\n"
     ]
    }
   ],
   "source": [
    "patient_list = glob(in_path+'/*')\n",
    "print(patient_list)"
   ]
  },
  {
   "cell_type": "code",
   "execution_count": 24,
   "id": "4fbbbb93-d595-4322-a63c-1fd546c07798",
   "metadata": {},
   "outputs": [],
   "source": [
    "for patient in glob(in_path+'/*'):\n",
    "    patient_name = os.path.basename(os.path.normpath(patient))\n",
    "    number_folders = int(len(glob(patient + '/*'))/64)\n",
    "    \n",
    "\n",
    "    for i in range (number_folders):\n",
    "        output_path_name = os.path.join(out_path, patient_name  + '_' + str(i))\n",
    "        os.mkdir(output_path_name)\n",
    "        for i, file in enumerate(glob(patient+'/*')):\n",
    "            if i == 64 + 1:\n",
    "                break\n",
    "            shutil.move(file, output_path_name)\n",
    "        "
   ]
  },
  {
   "cell_type": "code",
   "execution_count": null,
   "id": "cfe57622-fde3-42f2-bc8c-b38e867c21f2",
   "metadata": {},
   "outputs": [],
   "source": [
    "import dicom2nifti"
   ]
  },
  {
   "cell_type": "code",
   "execution_count": 27,
   "id": "00b6b13a-7087-4958-af5b-238c0e268db4",
   "metadata": {},
   "outputs": [],
   "source": [
    "# Convert the  dicom files into niftis"
   ]
  },
  {
   "cell_type": "code",
   "execution_count": 33,
   "id": "f2204c21-58f4-4bec-b9f8-45078cf0879d",
   "metadata": {},
   "outputs": [],
   "source": [
    "in_path_im = 'C:/zshahpouri/data/liver/group_dicom/images/*' # everything in that folder\n",
    "in_path_lb = 'C:/zshahpouri/data/liver/group_dicom/labels/*'\n",
    "out_path_im = 'C:/zshahpouri/data/liver/output_nifti/images'\n",
    "out_path_lb = 'C:/zshahpouri/data/liver/output_nifti/labels'\n",
    "list_images = glob(in_path_im)\n",
    "list_labels = glob(in_path_lb)"
   ]
  },
  {
   "cell_type": "code",
   "execution_count": 40,
   "id": "ee93b788-1341-4ca0-9601-7515c22b0b4b",
   "metadata": {},
   "outputs": [],
   "source": [
    "for patient in list_images:\n",
    "    patient_name = os.path.basename(os.path.normpath(patient))\n",
    "    dicom2nifti.dicom_series_to_nifti(patient, os.path.join(out_path_im, patient_name + '.nii.gz'))\n",
    "    "
   ]
  },
  {
   "cell_type": "code",
   "execution_count": 41,
   "id": "ceae0679-5863-46c5-926c-c8d477b36b1d",
   "metadata": {},
   "outputs": [],
   "source": [
    "for patient in list_labels:\n",
    "    patient_name = os.path.basename(os.path.normpath(patient))\n",
    "    dicom2nifti.dicom_series_to_nifti(patient, os.path.join(out_path_lb, patient_name+ '.nii.gz'))"
   ]
  },
  {
   "cell_type": "code",
   "execution_count": null,
   "id": "2ea9e7a9-2a11-4fc8-8606-c14fd4a01e03",
   "metadata": {},
   "outputs": [],
   "source": []
  }
 ],
 "metadata": {
  "kernelspec": {
   "display_name": "Python 3 (ipykernel)",
   "language": "python",
   "name": "python3"
  },
  "language_info": {
   "codemirror_mode": {
    "name": "ipython",
    "version": 3
   },
   "file_extension": ".py",
   "mimetype": "text/x-python",
   "name": "python",
   "nbconvert_exporter": "python",
   "pygments_lexer": "ipython3",
   "version": "3.10.13"
  }
 },
 "nbformat": 4,
 "nbformat_minor": 5
}
